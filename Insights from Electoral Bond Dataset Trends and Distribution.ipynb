{
 "cells": [
  {
   "cell_type": "markdown",
   "id": "88f9e8d9",
   "metadata": {},
   "source": [
    "# Insights from Electoral Bond Dataset: Trends and Distribution\n",
    "\n",
    "This analysis explores trends and distribution in electoral bond purchases, focusing on contributions received by political parties. It examines total denomination amounts over time, reveals distribution patterns, and highlights contributions by political parties. The goal is to provide insights into the dynamics of political financing."
   ]
  },
  {
   "cell_type": "code",
   "execution_count": 27,
   "id": "60b503fb",
   "metadata": {},
   "outputs": [],
   "source": [
    "import pandas as pd\n",
    "import matplotlib.pyplot as plt\n",
    "import seaborn as sns\n",
    "import numpy as np\n",
    "import plotly.express as px"
   ]
  },
  {
   "cell_type": "code",
   "execution_count": 28,
   "id": "aa8ed11d",
   "metadata": {},
   "outputs": [],
   "source": [
    "pd.options.display.float_format = '{:.2f}'.format"
   ]
  },
  {
   "cell_type": "code",
   "execution_count": 29,
   "id": "2bd58ced",
   "metadata": {},
   "outputs": [],
   "source": [
    "df = pd.read_csv(r\"C:\\Users\\sarwat\\Electoral_Bond\\Electoral_bonds.csv\")"
   ]
  },
  {
   "cell_type": "code",
   "execution_count": 30,
   "id": "e7eb2be8",
   "metadata": {},
   "outputs": [
    {
     "data": {
      "text/html": [
       "<div>\n",
       "<style scoped>\n",
       "    .dataframe tbody tr th:only-of-type {\n",
       "        vertical-align: middle;\n",
       "    }\n",
       "\n",
       "    .dataframe tbody tr th {\n",
       "        vertical-align: top;\n",
       "    }\n",
       "\n",
       "    .dataframe thead th {\n",
       "        text-align: right;\n",
       "    }\n",
       "</style>\n",
       "<table border=\"1\" class=\"dataframe\">\n",
       "  <thead>\n",
       "    <tr style=\"text-align: right;\">\n",
       "      <th></th>\n",
       "      <th>Date of\\nEncashment</th>\n",
       "      <th>Name of the Political Party</th>\n",
       "      <th>Denomination</th>\n",
       "      <th>Unnamed: 3</th>\n",
       "    </tr>\n",
       "  </thead>\n",
       "  <tbody>\n",
       "    <tr>\n",
       "      <th>0</th>\n",
       "      <td>12/Apr/2019</td>\n",
       "      <td>ALL INDIA ANNA DRAVIDA MUNNETRA KAZHAGAM</td>\n",
       "      <td>1000000</td>\n",
       "      <td>NaN</td>\n",
       "    </tr>\n",
       "    <tr>\n",
       "      <th>1</th>\n",
       "      <td>12/Apr/2019</td>\n",
       "      <td>ALL INDIA ANNA DRAVIDA MUNNETRA KAZHAGAM</td>\n",
       "      <td>1000000</td>\n",
       "      <td>NaN</td>\n",
       "    </tr>\n",
       "    <tr>\n",
       "      <th>2</th>\n",
       "      <td>12/Apr/2019</td>\n",
       "      <td>ALL INDIA ANNA DRAVIDA MUNNETRA KAZHAGAM</td>\n",
       "      <td>10000000</td>\n",
       "      <td>NaN</td>\n",
       "    </tr>\n",
       "    <tr>\n",
       "      <th>3</th>\n",
       "      <td>12/Apr/2019</td>\n",
       "      <td>ALL INDIA ANNA DRAVIDA MUNNETRA KAZHAGAM</td>\n",
       "      <td>1000000</td>\n",
       "      <td>NaN</td>\n",
       "    </tr>\n",
       "    <tr>\n",
       "      <th>4</th>\n",
       "      <td>12/Apr/2019</td>\n",
       "      <td>ALL INDIA ANNA DRAVIDA MUNNETRA KAZHAGAM</td>\n",
       "      <td>1000000</td>\n",
       "      <td>NaN</td>\n",
       "    </tr>\n",
       "    <tr>\n",
       "      <th>5</th>\n",
       "      <td>12/Apr/2019</td>\n",
       "      <td>ALL INDIA ANNA DRAVIDA MUNNETRA KAZHAGAM</td>\n",
       "      <td>1000000</td>\n",
       "      <td>NaN</td>\n",
       "    </tr>\n",
       "    <tr>\n",
       "      <th>6</th>\n",
       "      <td>12/Apr/2019</td>\n",
       "      <td>ALL INDIA ANNA DRAVIDA MUNNETRA KAZHAGAM</td>\n",
       "      <td>1000000</td>\n",
       "      <td>NaN</td>\n",
       "    </tr>\n",
       "    <tr>\n",
       "      <th>7</th>\n",
       "      <td>12/Apr/2019</td>\n",
       "      <td>ALL INDIA ANNA DRAVIDA MUNNETRA KAZHAGAM</td>\n",
       "      <td>1000000</td>\n",
       "      <td>NaN</td>\n",
       "    </tr>\n",
       "    <tr>\n",
       "      <th>8</th>\n",
       "      <td>12/Apr/2019</td>\n",
       "      <td>ALL INDIA ANNA DRAVIDA MUNNETRA KAZHAGAM</td>\n",
       "      <td>1000000</td>\n",
       "      <td>NaN</td>\n",
       "    </tr>\n",
       "    <tr>\n",
       "      <th>9</th>\n",
       "      <td>12/Apr/2019</td>\n",
       "      <td>ALL INDIA ANNA DRAVIDA MUNNETRA KAZHAGAM</td>\n",
       "      <td>1000000</td>\n",
       "      <td>NaN</td>\n",
       "    </tr>\n",
       "  </tbody>\n",
       "</table>\n",
       "</div>"
      ],
      "text/plain": [
       "  Date of\\nEncashment               Name of the Political Party  Denomination  \\\n",
       "0         12/Apr/2019  ALL INDIA ANNA DRAVIDA MUNNETRA KAZHAGAM       1000000   \n",
       "1         12/Apr/2019  ALL INDIA ANNA DRAVIDA MUNNETRA KAZHAGAM       1000000   \n",
       "2         12/Apr/2019  ALL INDIA ANNA DRAVIDA MUNNETRA KAZHAGAM      10000000   \n",
       "3         12/Apr/2019  ALL INDIA ANNA DRAVIDA MUNNETRA KAZHAGAM       1000000   \n",
       "4         12/Apr/2019  ALL INDIA ANNA DRAVIDA MUNNETRA KAZHAGAM       1000000   \n",
       "5         12/Apr/2019  ALL INDIA ANNA DRAVIDA MUNNETRA KAZHAGAM       1000000   \n",
       "6         12/Apr/2019  ALL INDIA ANNA DRAVIDA MUNNETRA KAZHAGAM       1000000   \n",
       "7         12/Apr/2019  ALL INDIA ANNA DRAVIDA MUNNETRA KAZHAGAM       1000000   \n",
       "8         12/Apr/2019  ALL INDIA ANNA DRAVIDA MUNNETRA KAZHAGAM       1000000   \n",
       "9         12/Apr/2019  ALL INDIA ANNA DRAVIDA MUNNETRA KAZHAGAM       1000000   \n",
       "\n",
       "   Unnamed: 3  \n",
       "0         NaN  \n",
       "1         NaN  \n",
       "2         NaN  \n",
       "3         NaN  \n",
       "4         NaN  \n",
       "5         NaN  \n",
       "6         NaN  \n",
       "7         NaN  \n",
       "8         NaN  \n",
       "9         NaN  "
      ]
     },
     "execution_count": 30,
     "metadata": {},
     "output_type": "execute_result"
    }
   ],
   "source": [
    "df.head(10)"
   ]
  },
  {
   "cell_type": "markdown",
   "id": "5729678a",
   "metadata": {},
   "source": [
    "### Droping unwanted column "
   ]
  },
  {
   "cell_type": "code",
   "execution_count": 31,
   "id": "9434ec85",
   "metadata": {},
   "outputs": [],
   "source": [
    "df1 = df\n",
    "df1.rename(columns = {'Date of\\nEncashment' : 'Date of Encashment'} , inplace = True)"
   ]
  },
  {
   "cell_type": "code",
   "execution_count": 32,
   "id": "e2629e16",
   "metadata": {},
   "outputs": [
    {
     "data": {
      "text/html": [
       "<div>\n",
       "<style scoped>\n",
       "    .dataframe tbody tr th:only-of-type {\n",
       "        vertical-align: middle;\n",
       "    }\n",
       "\n",
       "    .dataframe tbody tr th {\n",
       "        vertical-align: top;\n",
       "    }\n",
       "\n",
       "    .dataframe thead th {\n",
       "        text-align: right;\n",
       "    }\n",
       "</style>\n",
       "<table border=\"1\" class=\"dataframe\">\n",
       "  <thead>\n",
       "    <tr style=\"text-align: right;\">\n",
       "      <th></th>\n",
       "      <th>Date of Encashment</th>\n",
       "      <th>Name of the Political Party</th>\n",
       "      <th>Denomination</th>\n",
       "      <th>Unnamed: 3</th>\n",
       "    </tr>\n",
       "  </thead>\n",
       "  <tbody>\n",
       "    <tr>\n",
       "      <th>0</th>\n",
       "      <td>12/Apr/2019</td>\n",
       "      <td>ALL INDIA ANNA DRAVIDA MUNNETRA KAZHAGAM</td>\n",
       "      <td>1000000</td>\n",
       "      <td>NaN</td>\n",
       "    </tr>\n",
       "    <tr>\n",
       "      <th>1</th>\n",
       "      <td>12/Apr/2019</td>\n",
       "      <td>ALL INDIA ANNA DRAVIDA MUNNETRA KAZHAGAM</td>\n",
       "      <td>1000000</td>\n",
       "      <td>NaN</td>\n",
       "    </tr>\n",
       "    <tr>\n",
       "      <th>2</th>\n",
       "      <td>12/Apr/2019</td>\n",
       "      <td>ALL INDIA ANNA DRAVIDA MUNNETRA KAZHAGAM</td>\n",
       "      <td>10000000</td>\n",
       "      <td>NaN</td>\n",
       "    </tr>\n",
       "    <tr>\n",
       "      <th>3</th>\n",
       "      <td>12/Apr/2019</td>\n",
       "      <td>ALL INDIA ANNA DRAVIDA MUNNETRA KAZHAGAM</td>\n",
       "      <td>1000000</td>\n",
       "      <td>NaN</td>\n",
       "    </tr>\n",
       "    <tr>\n",
       "      <th>4</th>\n",
       "      <td>12/Apr/2019</td>\n",
       "      <td>ALL INDIA ANNA DRAVIDA MUNNETRA KAZHAGAM</td>\n",
       "      <td>1000000</td>\n",
       "      <td>NaN</td>\n",
       "    </tr>\n",
       "    <tr>\n",
       "      <th>...</th>\n",
       "      <td>...</td>\n",
       "      <td>...</td>\n",
       "      <td>...</td>\n",
       "      <td>...</td>\n",
       "    </tr>\n",
       "    <tr>\n",
       "      <th>20416</th>\n",
       "      <td>24/Jan/2024</td>\n",
       "      <td>JANASENA PARTY</td>\n",
       "      <td>1000000</td>\n",
       "      <td>NaN</td>\n",
       "    </tr>\n",
       "    <tr>\n",
       "      <th>20417</th>\n",
       "      <td>24/Jan/2024</td>\n",
       "      <td>JANASENA PARTY</td>\n",
       "      <td>1000000</td>\n",
       "      <td>NaN</td>\n",
       "    </tr>\n",
       "    <tr>\n",
       "      <th>20418</th>\n",
       "      <td>24/Jan/2024</td>\n",
       "      <td>JANASENA PARTY</td>\n",
       "      <td>1000000</td>\n",
       "      <td>NaN</td>\n",
       "    </tr>\n",
       "    <tr>\n",
       "      <th>20419</th>\n",
       "      <td>24/Jan/2024</td>\n",
       "      <td>JANASENA PARTY</td>\n",
       "      <td>1000000</td>\n",
       "      <td>NaN</td>\n",
       "    </tr>\n",
       "    <tr>\n",
       "      <th>20420</th>\n",
       "      <td>24/Jan/2024</td>\n",
       "      <td>JANASENA PARTY</td>\n",
       "      <td>1000000</td>\n",
       "      <td>NaN</td>\n",
       "    </tr>\n",
       "  </tbody>\n",
       "</table>\n",
       "<p>20421 rows × 4 columns</p>\n",
       "</div>"
      ],
      "text/plain": [
       "      Date of Encashment               Name of the Political Party  \\\n",
       "0            12/Apr/2019  ALL INDIA ANNA DRAVIDA MUNNETRA KAZHAGAM   \n",
       "1            12/Apr/2019  ALL INDIA ANNA DRAVIDA MUNNETRA KAZHAGAM   \n",
       "2            12/Apr/2019  ALL INDIA ANNA DRAVIDA MUNNETRA KAZHAGAM   \n",
       "3            12/Apr/2019  ALL INDIA ANNA DRAVIDA MUNNETRA KAZHAGAM   \n",
       "4            12/Apr/2019  ALL INDIA ANNA DRAVIDA MUNNETRA KAZHAGAM   \n",
       "...                  ...                                       ...   \n",
       "20416        24/Jan/2024                            JANASENA PARTY   \n",
       "20417        24/Jan/2024                            JANASENA PARTY   \n",
       "20418        24/Jan/2024                            JANASENA PARTY   \n",
       "20419        24/Jan/2024                            JANASENA PARTY   \n",
       "20420        24/Jan/2024                            JANASENA PARTY   \n",
       "\n",
       "       Denomination  Unnamed: 3  \n",
       "0           1000000         NaN  \n",
       "1           1000000         NaN  \n",
       "2          10000000         NaN  \n",
       "3           1000000         NaN  \n",
       "4           1000000         NaN  \n",
       "...             ...         ...  \n",
       "20416       1000000         NaN  \n",
       "20417       1000000         NaN  \n",
       "20418       1000000         NaN  \n",
       "20419       1000000         NaN  \n",
       "20420       1000000         NaN  \n",
       "\n",
       "[20421 rows x 4 columns]"
      ]
     },
     "execution_count": 32,
     "metadata": {},
     "output_type": "execute_result"
    }
   ],
   "source": [
    "df1"
   ]
  },
  {
   "cell_type": "code",
   "execution_count": 33,
   "id": "7c58a846",
   "metadata": {},
   "outputs": [
    {
     "data": {
      "text/html": [
       "<div>\n",
       "<style scoped>\n",
       "    .dataframe tbody tr th:only-of-type {\n",
       "        vertical-align: middle;\n",
       "    }\n",
       "\n",
       "    .dataframe tbody tr th {\n",
       "        vertical-align: top;\n",
       "    }\n",
       "\n",
       "    .dataframe thead th {\n",
       "        text-align: right;\n",
       "    }\n",
       "</style>\n",
       "<table border=\"1\" class=\"dataframe\">\n",
       "  <thead>\n",
       "    <tr style=\"text-align: right;\">\n",
       "      <th></th>\n",
       "      <th>Date of Encashment</th>\n",
       "      <th>Name of the Political Party</th>\n",
       "      <th>Denomination</th>\n",
       "    </tr>\n",
       "  </thead>\n",
       "  <tbody>\n",
       "    <tr>\n",
       "      <th>0</th>\n",
       "      <td>12/Apr/2019</td>\n",
       "      <td>ALL INDIA ANNA DRAVIDA MUNNETRA KAZHAGAM</td>\n",
       "      <td>1000000</td>\n",
       "    </tr>\n",
       "    <tr>\n",
       "      <th>1</th>\n",
       "      <td>12/Apr/2019</td>\n",
       "      <td>ALL INDIA ANNA DRAVIDA MUNNETRA KAZHAGAM</td>\n",
       "      <td>1000000</td>\n",
       "    </tr>\n",
       "    <tr>\n",
       "      <th>2</th>\n",
       "      <td>12/Apr/2019</td>\n",
       "      <td>ALL INDIA ANNA DRAVIDA MUNNETRA KAZHAGAM</td>\n",
       "      <td>10000000</td>\n",
       "    </tr>\n",
       "    <tr>\n",
       "      <th>3</th>\n",
       "      <td>12/Apr/2019</td>\n",
       "      <td>ALL INDIA ANNA DRAVIDA MUNNETRA KAZHAGAM</td>\n",
       "      <td>1000000</td>\n",
       "    </tr>\n",
       "    <tr>\n",
       "      <th>4</th>\n",
       "      <td>12/Apr/2019</td>\n",
       "      <td>ALL INDIA ANNA DRAVIDA MUNNETRA KAZHAGAM</td>\n",
       "      <td>1000000</td>\n",
       "    </tr>\n",
       "  </tbody>\n",
       "</table>\n",
       "</div>"
      ],
      "text/plain": [
       "  Date of Encashment               Name of the Political Party  Denomination\n",
       "0        12/Apr/2019  ALL INDIA ANNA DRAVIDA MUNNETRA KAZHAGAM       1000000\n",
       "1        12/Apr/2019  ALL INDIA ANNA DRAVIDA MUNNETRA KAZHAGAM       1000000\n",
       "2        12/Apr/2019  ALL INDIA ANNA DRAVIDA MUNNETRA KAZHAGAM      10000000\n",
       "3        12/Apr/2019  ALL INDIA ANNA DRAVIDA MUNNETRA KAZHAGAM       1000000\n",
       "4        12/Apr/2019  ALL INDIA ANNA DRAVIDA MUNNETRA KAZHAGAM       1000000"
      ]
     },
     "execution_count": 33,
     "metadata": {},
     "output_type": "execute_result"
    }
   ],
   "source": [
    "# Drop the column named 'Unnamed: 3'\n",
    "df1 = df.drop(columns=['Unnamed: 3'])\n",
    "\n",
    "# Display the first few rows of the DataFrame to verify the column has been dropped\n",
    "df1.head()"
   ]
  },
  {
   "cell_type": "markdown",
   "id": "4d1bdf1e",
   "metadata": {},
   "source": [
    "## Understand the structure and content of dataset\n"
   ]
  },
  {
   "cell_type": "code",
   "execution_count": 34,
   "id": "2b5f5421",
   "metadata": {},
   "outputs": [
    {
     "name": "stdout",
     "output_type": "stream",
     "text": [
      "(20421, 3)\n"
     ]
    }
   ],
   "source": [
    "# Check the shape of the DataFrame (number of rows and columns)\n",
    "print(df1.shape)"
   ]
  },
  {
   "cell_type": "code",
   "execution_count": 35,
   "id": "cb1cd8f7",
   "metadata": {},
   "outputs": [
    {
     "name": "stdout",
     "output_type": "stream",
     "text": [
      "Date of Encashment             object\n",
      "Name of the Political Party    object\n",
      "Denomination                    int64\n",
      "dtype: object\n"
     ]
    }
   ],
   "source": [
    "# Check the data types of each column\n",
    "print(df1.dtypes)"
   ]
  },
  {
   "cell_type": "code",
   "execution_count": 36,
   "id": "340b6765",
   "metadata": {},
   "outputs": [
    {
     "name": "stdout",
     "output_type": "stream",
     "text": [
      "Date of Encashment             0\n",
      "Name of the Political Party    0\n",
      "Denomination                   0\n",
      "dtype: int64\n"
     ]
    }
   ],
   "source": [
    "# Check for missing values\n",
    "print(df1.isnull().sum())"
   ]
  },
  {
   "cell_type": "code",
   "execution_count": 37,
   "id": "8cc81fc9",
   "metadata": {},
   "outputs": [
    {
     "data": {
      "text/html": [
       "<div>\n",
       "<style scoped>\n",
       "    .dataframe tbody tr th:only-of-type {\n",
       "        vertical-align: middle;\n",
       "    }\n",
       "\n",
       "    .dataframe tbody tr th {\n",
       "        vertical-align: top;\n",
       "    }\n",
       "\n",
       "    .dataframe thead th {\n",
       "        text-align: right;\n",
       "    }\n",
       "</style>\n",
       "<table border=\"1\" class=\"dataframe\">\n",
       "  <thead>\n",
       "    <tr style=\"text-align: right;\">\n",
       "      <th></th>\n",
       "      <th>Denomination</th>\n",
       "    </tr>\n",
       "  </thead>\n",
       "  <tbody>\n",
       "    <tr>\n",
       "      <th>count</th>\n",
       "      <td>20421.00</td>\n",
       "    </tr>\n",
       "    <tr>\n",
       "      <th>mean</th>\n",
       "      <td>6252920.67</td>\n",
       "    </tr>\n",
       "    <tr>\n",
       "      <th>std</th>\n",
       "      <td>4576321.21</td>\n",
       "    </tr>\n",
       "    <tr>\n",
       "      <th>min</th>\n",
       "      <td>1000.00</td>\n",
       "    </tr>\n",
       "    <tr>\n",
       "      <th>25%</th>\n",
       "      <td>1000000.00</td>\n",
       "    </tr>\n",
       "    <tr>\n",
       "      <th>50%</th>\n",
       "      <td>10000000.00</td>\n",
       "    </tr>\n",
       "    <tr>\n",
       "      <th>75%</th>\n",
       "      <td>10000000.00</td>\n",
       "    </tr>\n",
       "    <tr>\n",
       "      <th>max</th>\n",
       "      <td>10000000.00</td>\n",
       "    </tr>\n",
       "  </tbody>\n",
       "</table>\n",
       "</div>"
      ],
      "text/plain": [
       "       Denomination\n",
       "count      20421.00\n",
       "mean     6252920.67\n",
       "std      4576321.21\n",
       "min         1000.00\n",
       "25%      1000000.00\n",
       "50%     10000000.00\n",
       "75%     10000000.00\n",
       "max     10000000.00"
      ]
     },
     "execution_count": 37,
     "metadata": {},
     "output_type": "execute_result"
    }
   ],
   "source": [
    "# Get summary statistics\n",
    "df1.describe()"
   ]
  },
  {
   "cell_type": "markdown",
   "id": "dc9161f9",
   "metadata": {},
   "source": [
    "## Converting into date and Extracting year \n"
   ]
  },
  {
   "cell_type": "code",
   "execution_count": 38,
   "id": "a67ffd94",
   "metadata": {},
   "outputs": [
    {
     "data": {
      "text/html": [
       "<div>\n",
       "<style scoped>\n",
       "    .dataframe tbody tr th:only-of-type {\n",
       "        vertical-align: middle;\n",
       "    }\n",
       "\n",
       "    .dataframe tbody tr th {\n",
       "        vertical-align: top;\n",
       "    }\n",
       "\n",
       "    .dataframe thead th {\n",
       "        text-align: right;\n",
       "    }\n",
       "</style>\n",
       "<table border=\"1\" class=\"dataframe\">\n",
       "  <thead>\n",
       "    <tr style=\"text-align: right;\">\n",
       "      <th></th>\n",
       "      <th>Date of Encashment</th>\n",
       "      <th>Year</th>\n",
       "    </tr>\n",
       "  </thead>\n",
       "  <tbody>\n",
       "    <tr>\n",
       "      <th>0</th>\n",
       "      <td>2019-04-12</td>\n",
       "      <td>2019</td>\n",
       "    </tr>\n",
       "    <tr>\n",
       "      <th>1</th>\n",
       "      <td>2019-04-12</td>\n",
       "      <td>2019</td>\n",
       "    </tr>\n",
       "    <tr>\n",
       "      <th>2</th>\n",
       "      <td>2019-04-12</td>\n",
       "      <td>2019</td>\n",
       "    </tr>\n",
       "    <tr>\n",
       "      <th>3</th>\n",
       "      <td>2019-04-12</td>\n",
       "      <td>2019</td>\n",
       "    </tr>\n",
       "    <tr>\n",
       "      <th>4</th>\n",
       "      <td>2019-04-12</td>\n",
       "      <td>2019</td>\n",
       "    </tr>\n",
       "  </tbody>\n",
       "</table>\n",
       "</div>"
      ],
      "text/plain": [
       "  Date of Encashment  Year\n",
       "0         2019-04-12  2019\n",
       "1         2019-04-12  2019\n",
       "2         2019-04-12  2019\n",
       "3         2019-04-12  2019\n",
       "4         2019-04-12  2019"
      ]
     },
     "execution_count": 38,
     "metadata": {},
     "output_type": "execute_result"
    }
   ],
   "source": [
    "# Convert 'Date of Encashment' column to datetime format\n",
    "df1['Date of Encashment'] = pd.to_datetime(df1['Date of Encashment'])\n",
    "\n",
    "# Extract year 'from Date of Encashment' column\n",
    "df1['Year'] = df1['Date of Encashment'].dt.year\n",
    "\n",
    "# Display the first few rows of the DataFrame with the new 'Year' column\n",
    "df1[['Date of Encashment', 'Year']].head()\n"
   ]
  },
  {
   "cell_type": "markdown",
   "id": "36b73971",
   "metadata": {},
   "source": [
    "## Extracting Month  "
   ]
  },
  {
   "cell_type": "code",
   "execution_count": 39,
   "id": "ac350e18",
   "metadata": {},
   "outputs": [
    {
     "name": "stdout",
     "output_type": "stream",
     "text": [
      "  Date of Encashment  Month\n",
      "0         2019-04-12  April\n",
      "1         2019-04-12  April\n",
      "2         2019-04-12  April\n",
      "3         2019-04-12  April\n",
      "4         2019-04-12  April\n"
     ]
    }
   ],
   "source": [
    "# Convert 'Date of Encashment' column to datetime format\n",
    "df1['Date of Encashment'] = pd.to_datetime(df1['Date of Encashment'])\n",
    "\n",
    "# Extract month name\n",
    "df1['Month'] = df1['Date of Encashment'].dt.strftime('%B')\n",
    "\n",
    "# Display the first few rows to verify the changes\n",
    "print(df1[['Date of Encashment', 'Month']].head())\n"
   ]
  },
  {
   "cell_type": "markdown",
   "id": "a28e84d3",
   "metadata": {},
   "source": [
    "## Adding two column named Denomination in crore and lakhs  "
   ]
  },
  {
   "cell_type": "code",
   "execution_count": 40,
   "id": "3077de04",
   "metadata": {},
   "outputs": [],
   "source": [
    "# Add a new column for 'Denomination (Crore)'\n",
    "df1['Denomination(Crore)'] = df1['Denomination'] / 10000000\n",
    "df1['Denomination(Lakhs)'] = df1['Denomination'] / 100000"
   ]
  },
  {
   "cell_type": "code",
   "execution_count": 41,
   "id": "316c3e4c",
   "metadata": {},
   "outputs": [
    {
     "data": {
      "text/html": [
       "<div>\n",
       "<style scoped>\n",
       "    .dataframe tbody tr th:only-of-type {\n",
       "        vertical-align: middle;\n",
       "    }\n",
       "\n",
       "    .dataframe tbody tr th {\n",
       "        vertical-align: top;\n",
       "    }\n",
       "\n",
       "    .dataframe thead th {\n",
       "        text-align: right;\n",
       "    }\n",
       "</style>\n",
       "<table border=\"1\" class=\"dataframe\">\n",
       "  <thead>\n",
       "    <tr style=\"text-align: right;\">\n",
       "      <th></th>\n",
       "      <th>Date of Encashment</th>\n",
       "      <th>Name of the Political Party</th>\n",
       "      <th>Denomination</th>\n",
       "      <th>Year</th>\n",
       "      <th>Month</th>\n",
       "      <th>Denomination(Crore)</th>\n",
       "      <th>Denomination(Lakhs)</th>\n",
       "    </tr>\n",
       "  </thead>\n",
       "  <tbody>\n",
       "    <tr>\n",
       "      <th>0</th>\n",
       "      <td>2019-04-12</td>\n",
       "      <td>ALL INDIA ANNA DRAVIDA MUNNETRA KAZHAGAM</td>\n",
       "      <td>1000000</td>\n",
       "      <td>2019</td>\n",
       "      <td>April</td>\n",
       "      <td>0.10</td>\n",
       "      <td>10.00</td>\n",
       "    </tr>\n",
       "    <tr>\n",
       "      <th>1</th>\n",
       "      <td>2019-04-12</td>\n",
       "      <td>ALL INDIA ANNA DRAVIDA MUNNETRA KAZHAGAM</td>\n",
       "      <td>1000000</td>\n",
       "      <td>2019</td>\n",
       "      <td>April</td>\n",
       "      <td>0.10</td>\n",
       "      <td>10.00</td>\n",
       "    </tr>\n",
       "    <tr>\n",
       "      <th>2</th>\n",
       "      <td>2019-04-12</td>\n",
       "      <td>ALL INDIA ANNA DRAVIDA MUNNETRA KAZHAGAM</td>\n",
       "      <td>10000000</td>\n",
       "      <td>2019</td>\n",
       "      <td>April</td>\n",
       "      <td>1.00</td>\n",
       "      <td>100.00</td>\n",
       "    </tr>\n",
       "    <tr>\n",
       "      <th>3</th>\n",
       "      <td>2019-04-12</td>\n",
       "      <td>ALL INDIA ANNA DRAVIDA MUNNETRA KAZHAGAM</td>\n",
       "      <td>1000000</td>\n",
       "      <td>2019</td>\n",
       "      <td>April</td>\n",
       "      <td>0.10</td>\n",
       "      <td>10.00</td>\n",
       "    </tr>\n",
       "    <tr>\n",
       "      <th>4</th>\n",
       "      <td>2019-04-12</td>\n",
       "      <td>ALL INDIA ANNA DRAVIDA MUNNETRA KAZHAGAM</td>\n",
       "      <td>1000000</td>\n",
       "      <td>2019</td>\n",
       "      <td>April</td>\n",
       "      <td>0.10</td>\n",
       "      <td>10.00</td>\n",
       "    </tr>\n",
       "    <tr>\n",
       "      <th>...</th>\n",
       "      <td>...</td>\n",
       "      <td>...</td>\n",
       "      <td>...</td>\n",
       "      <td>...</td>\n",
       "      <td>...</td>\n",
       "      <td>...</td>\n",
       "      <td>...</td>\n",
       "    </tr>\n",
       "    <tr>\n",
       "      <th>20416</th>\n",
       "      <td>2024-01-24</td>\n",
       "      <td>JANASENA PARTY</td>\n",
       "      <td>1000000</td>\n",
       "      <td>2024</td>\n",
       "      <td>January</td>\n",
       "      <td>0.10</td>\n",
       "      <td>10.00</td>\n",
       "    </tr>\n",
       "    <tr>\n",
       "      <th>20417</th>\n",
       "      <td>2024-01-24</td>\n",
       "      <td>JANASENA PARTY</td>\n",
       "      <td>1000000</td>\n",
       "      <td>2024</td>\n",
       "      <td>January</td>\n",
       "      <td>0.10</td>\n",
       "      <td>10.00</td>\n",
       "    </tr>\n",
       "    <tr>\n",
       "      <th>20418</th>\n",
       "      <td>2024-01-24</td>\n",
       "      <td>JANASENA PARTY</td>\n",
       "      <td>1000000</td>\n",
       "      <td>2024</td>\n",
       "      <td>January</td>\n",
       "      <td>0.10</td>\n",
       "      <td>10.00</td>\n",
       "    </tr>\n",
       "    <tr>\n",
       "      <th>20419</th>\n",
       "      <td>2024-01-24</td>\n",
       "      <td>JANASENA PARTY</td>\n",
       "      <td>1000000</td>\n",
       "      <td>2024</td>\n",
       "      <td>January</td>\n",
       "      <td>0.10</td>\n",
       "      <td>10.00</td>\n",
       "    </tr>\n",
       "    <tr>\n",
       "      <th>20420</th>\n",
       "      <td>2024-01-24</td>\n",
       "      <td>JANASENA PARTY</td>\n",
       "      <td>1000000</td>\n",
       "      <td>2024</td>\n",
       "      <td>January</td>\n",
       "      <td>0.10</td>\n",
       "      <td>10.00</td>\n",
       "    </tr>\n",
       "  </tbody>\n",
       "</table>\n",
       "<p>20421 rows × 7 columns</p>\n",
       "</div>"
      ],
      "text/plain": [
       "      Date of Encashment               Name of the Political Party  \\\n",
       "0             2019-04-12  ALL INDIA ANNA DRAVIDA MUNNETRA KAZHAGAM   \n",
       "1             2019-04-12  ALL INDIA ANNA DRAVIDA MUNNETRA KAZHAGAM   \n",
       "2             2019-04-12  ALL INDIA ANNA DRAVIDA MUNNETRA KAZHAGAM   \n",
       "3             2019-04-12  ALL INDIA ANNA DRAVIDA MUNNETRA KAZHAGAM   \n",
       "4             2019-04-12  ALL INDIA ANNA DRAVIDA MUNNETRA KAZHAGAM   \n",
       "...                  ...                                       ...   \n",
       "20416         2024-01-24                            JANASENA PARTY   \n",
       "20417         2024-01-24                            JANASENA PARTY   \n",
       "20418         2024-01-24                            JANASENA PARTY   \n",
       "20419         2024-01-24                            JANASENA PARTY   \n",
       "20420         2024-01-24                            JANASENA PARTY   \n",
       "\n",
       "       Denomination  Year    Month  Denomination(Crore)  Denomination(Lakhs)  \n",
       "0           1000000  2019    April                 0.10                10.00  \n",
       "1           1000000  2019    April                 0.10                10.00  \n",
       "2          10000000  2019    April                 1.00               100.00  \n",
       "3           1000000  2019    April                 0.10                10.00  \n",
       "4           1000000  2019    April                 0.10                10.00  \n",
       "...             ...   ...      ...                  ...                  ...  \n",
       "20416       1000000  2024  January                 0.10                10.00  \n",
       "20417       1000000  2024  January                 0.10                10.00  \n",
       "20418       1000000  2024  January                 0.10                10.00  \n",
       "20419       1000000  2024  January                 0.10                10.00  \n",
       "20420       1000000  2024  January                 0.10                10.00  \n",
       "\n",
       "[20421 rows x 7 columns]"
      ]
     },
     "execution_count": 41,
     "metadata": {},
     "output_type": "execute_result"
    }
   ],
   "source": [
    "df1"
   ]
  },
  {
   "cell_type": "markdown",
   "id": "1616be28",
   "metadata": {},
   "source": [
    "## Extracting acronym from party names"
   ]
  },
  {
   "cell_type": "code",
   "execution_count": 42,
   "id": "15be0c71",
   "metadata": {},
   "outputs": [
    {
     "name": "stdout",
     "output_type": "stream",
     "text": [
      "                Name of the Political Party Party_Acronym\n",
      "0  ALL INDIA ANNA DRAVIDA MUNNETRA KAZHAGAM        AIADMK\n",
      "1  ALL INDIA ANNA DRAVIDA MUNNETRA KAZHAGAM        AIADMK\n",
      "2  ALL INDIA ANNA DRAVIDA MUNNETRA KAZHAGAM        AIADMK\n",
      "3  ALL INDIA ANNA DRAVIDA MUNNETRA KAZHAGAM        AIADMK\n",
      "4  ALL INDIA ANNA DRAVIDA MUNNETRA KAZHAGAM        AIADMK\n"
     ]
    }
   ],
   "source": [
    "# Extracting acronym from party names\n",
    "df1['Party_Acronym'] = df['Name of the Political Party'].apply(lambda x: ''.join(word[0] for word in x.split()).upper())\n",
    "\n",
    "# Displaying the first few rows to verify the changes\n",
    "print(df1[['Name of the Political Party', 'Party_Acronym']].head())\n"
   ]
  },
  {
   "cell_type": "markdown",
   "id": "4274a809",
   "metadata": {},
   "source": [
    "## Total Amount Recived"
   ]
  },
  {
   "cell_type": "code",
   "execution_count": 43,
   "id": "690b7385",
   "metadata": {},
   "outputs": [
    {
     "name": "stdout",
     "output_type": "stream",
     "text": [
      "12769.09\n"
     ]
    }
   ],
   "source": [
    "total_amount = df1['Denomination(Crore)'].sum().round(2)\n",
    "print(total_amount)"
   ]
  },
  {
   "cell_type": "markdown",
   "id": "8ba78ca3",
   "metadata": {},
   "source": [
    "## The total denomination amount received in each year"
   ]
  },
  {
   "cell_type": "code",
   "execution_count": 44,
   "id": "9f966863",
   "metadata": {
    "scrolled": true
   },
   "outputs": [
    {
     "data": {
      "text/plain": [
       "Year\n",
       "2019   2385.09\n",
       "2020    363.96\n",
       "2021   1502.26\n",
       "2022   3701.46\n",
       "2023   4246.27\n",
       "2024    570.05\n",
       "Name: Denomination(Crore), dtype: float64"
      ]
     },
     "execution_count": 44,
     "metadata": {},
     "output_type": "execute_result"
    }
   ],
   "source": [
    "# Group by year and calculate total denomination amount\n",
    "denomination_by_year = df1.groupby(df1['Year'])['Denomination(Crore)'].sum()\n",
    "\n",
    "# Display the total denomination amount received in each year\n",
    "denomination_by_year"
   ]
  },
  {
   "cell_type": "code",
   "execution_count": 45,
   "id": "d2f6bcca",
   "metadata": {},
   "outputs": [
    {
     "name": "stdout",
     "output_type": "stream",
     "text": [
      "   Year  Total Purchase  Total Purchase (Lakhs)  Total Purchase (Crore)\n",
      "0  2019     23850886000               238508.86                 2385.09\n",
      "1  2020      3639600000                36396.00                  363.96\n",
      "2  2021     15022625000               150226.25                 1502.26\n",
      "3  2022     37014569000               370145.69                 3701.46\n",
      "4  2023     42462713000               424627.13                 4246.27\n",
      "5  2024      5700500000                57005.00                  570.05\n"
     ]
    }
   ],
   "source": [
    "# Group by 'Year' and sum the 'Denomination' column\n",
    "investment_sum = df1.groupby('Year')['Denomination'].sum().reset_index(name='Total Purchase')\n",
    "\n",
    "# Convert 'Total Investment' to lakhs\n",
    "investment_sum['Total Purchase (Lakhs)'] = investment_sum['Total Purchase'] / 100000\n",
    "\n",
    "# Convert 'Total Investment' to crores\n",
    "investment_sum['Total Purchase (Crore)'] = investment_sum['Total Purchase'] / 10000000\n",
    "\n",
    "\n",
    "investment_sum['Total Purchase (Crore)'] = investment_sum['Total Purchase (Crore)'].round(2)\n",
    "\n",
    "\n",
    "# Convert 'Total Investment' to millions\n",
    "# investment_sum['Total Investment (Millions)'] = investment_sum['Total Investment'] / 1000000\n",
    "\n",
    "\n",
    "\n",
    "# Display the converted data\n",
    "print(investment_sum)\n"
   ]
  },
  {
   "cell_type": "code",
   "execution_count": 46,
   "id": "6c1f167f",
   "metadata": {},
   "outputs": [
    {
     "data": {
      "text/html": [
       "<div>\n",
       "<style scoped>\n",
       "    .dataframe tbody tr th:only-of-type {\n",
       "        vertical-align: middle;\n",
       "    }\n",
       "\n",
       "    .dataframe tbody tr th {\n",
       "        vertical-align: top;\n",
       "    }\n",
       "\n",
       "    .dataframe thead th {\n",
       "        text-align: right;\n",
       "    }\n",
       "</style>\n",
       "<table border=\"1\" class=\"dataframe\">\n",
       "  <thead>\n",
       "    <tr style=\"text-align: right;\">\n",
       "      <th></th>\n",
       "      <th>Year</th>\n",
       "      <th>Total Denomination(Crore)</th>\n",
       "    </tr>\n",
       "  </thead>\n",
       "  <tbody>\n",
       "    <tr>\n",
       "      <th>0</th>\n",
       "      <td>2019</td>\n",
       "      <td>2385.09</td>\n",
       "    </tr>\n",
       "    <tr>\n",
       "      <th>1</th>\n",
       "      <td>2020</td>\n",
       "      <td>363.96</td>\n",
       "    </tr>\n",
       "    <tr>\n",
       "      <th>2</th>\n",
       "      <td>2021</td>\n",
       "      <td>1502.26</td>\n",
       "    </tr>\n",
       "    <tr>\n",
       "      <th>3</th>\n",
       "      <td>2022</td>\n",
       "      <td>3701.46</td>\n",
       "    </tr>\n",
       "    <tr>\n",
       "      <th>4</th>\n",
       "      <td>2023</td>\n",
       "      <td>4246.27</td>\n",
       "    </tr>\n",
       "    <tr>\n",
       "      <th>5</th>\n",
       "      <td>2024</td>\n",
       "      <td>570.05</td>\n",
       "    </tr>\n",
       "  </tbody>\n",
       "</table>\n",
       "</div>"
      ],
      "text/plain": [
       "   Year  Total Denomination(Crore)\n",
       "0  2019                    2385.09\n",
       "1  2020                     363.96\n",
       "2  2021                    1502.26\n",
       "3  2022                    3701.46\n",
       "4  2023                    4246.27\n",
       "5  2024                     570.05"
      ]
     },
     "execution_count": 46,
     "metadata": {},
     "output_type": "execute_result"
    }
   ],
   "source": [
    "# Convert the series to a DataFrame\n",
    "denomination_df = denomination_by_year.reset_index()\n",
    "denomination_df.columns = ['Year', 'Total Denomination(Crore)']\n",
    "\n",
    "# Display the DataFrame\n",
    "denomination_df"
   ]
  },
  {
   "cell_type": "markdown",
   "id": "a57d8a18",
   "metadata": {},
   "source": [
    "## Visualization of the total denomination amount received each year"
   ]
  },
  {
   "cell_type": "code",
   "execution_count": 47,
   "id": "7a22f8fe",
   "metadata": {},
   "outputs": [
    {
     "data": {
      "image/png": "[encoded data removed]",
      "text/plain": [
       "<Figure size 864x432 with 1 Axes>"
      ]
     },
     "metadata": {
      "needs_background": "light"
     },
     "output_type": "display_data"
    }
   ],
   "source": [
    "# Visualize the total denomination amount received each year\n",
    "plt.figure(figsize=(12, 6))\n",
    "ax = sns.barplot(x='Year', y='Total Denomination(Crore)', data=denomination_df, palette=\"plasma_r\")\n",
    "plt.xlabel('Year')\n",
    "plt.ylabel('Total Denomination (Crore)')\n",
    "plt.title('Total Denomination Amount Received Each Year')\n",
    "\n",
    "# Annotate each bar with the total denomination amount\n",
    "for p in ax.patches:\n",
    "    ax.annotate(format(p.get_height(), '.2f'), \n",
    "                (p.get_x() + p.get_width() / 2., p.get_height()), \n",
    "                ha = 'center', va = 'center', \n",
    "                xytext = (0, 9), \n",
    "                textcoords = 'offset points')\n",
    "\n",
    "plt.show()\n"
   ]
  },
  {
   "cell_type": "markdown",
   "id": "b59cb2f6",
   "metadata": {},
   "source": [
    "## Total Amount Received Each Month Over Multiple Years"
   ]
  },
  {
   "cell_type": "code",
   "execution_count": 48,
   "id": "bfda0333",
   "metadata": {},
   "outputs": [
    {
     "data": {
      "image/png": "[encoded data removed]",
      "text/plain": [
       "<Figure size 864x576 with 2 Axes>"
      ]
     },
     "metadata": {
      "needs_background": "light"
     },
     "output_type": "display_data"
    }
   ],
   "source": [
    "# Pivot the data to have 'Month' as the index, 'Year' as the columns, and 'Denomination(Crore)' as the values\n",
    "pivot_table = df1.pivot_table(index='Month', columns='Year', values='Denomination(Crore)', aggfunc='sum')\n",
    "\n",
    "# Create a heatmap\n",
    "plt.figure(figsize=(12, 8))\n",
    "sns.heatmap(pivot_table, cmap='plasma_r', annot=True, fmt='.1f', linewidths=0.5)\n",
    "plt.xlabel('Year')\n",
    "plt.ylabel('Month')\n",
    "plt.title('Total Amount Received Each Month Over Multiple Years')\n",
    "plt.show()"
   ]
  },
  {
   "cell_type": "markdown",
   "id": "195519ae",
   "metadata": {},
   "source": [
    "## Monthly Trends in Amount Received"
   ]
  },
  {
   "cell_type": "code",
   "execution_count": 49,
   "id": "a696dbdd",
   "metadata": {},
   "outputs": [
    {
     "data": {
      "application/vnd.plotly.v1+json": {
       "config": {
        "plotlyServerURL": "https://plot.ly"
       },
       "data": [
        {
         "hovertemplate": "Date of Encashment=%{x}<br>Denomination(Crore)=%{y}<extra></extra>",
         "legendgroup": "",
         "line": {
          "color": "orange",
          "dash": "solid"
         },
         "marker": {
          "symbol": "circle"
         },
         "mode": "markers+lines",
         "name": "",
         "orientation": "v",
         "showlegend": false,
         "type": "scatter",
         "x": [
          "2019-04-30T00:00:00",
          "2019-05-31T00:00:00",
          "2019-06-30T00:00:00",
          "2019-07-31T00:00:00",
          "2019-08-31T00:00:00",
          "2019-09-30T00:00:00",
          "2019-10-31T00:00:00",
          "2019-11-30T00:00:00",
          "2019-12-31T00:00:00",
          "2020-01-31T00:00:00",
          "2020-02-29T00:00:00",
          "2020-03-31T00:00:00",
          "2020-04-30T00:00:00",
          "2020-05-31T00:00:00",
          "2020-06-30T00:00:00",
          "2020-07-31T00:00:00",
          "2020-08-31T00:00:00",
          "2020-09-30T00:00:00",
          "2020-10-31T00:00:00",
          "2020-11-30T00:00:00",
          "2020-12-31T00:00:00",
          "2021-01-31T00:00:00",
          "2021-02-28T00:00:00",
          "2021-03-31T00:00:00",
          "2021-04-30T00:00:00",
          "2021-05-31T00:00:00",
          "2021-06-30T00:00:00",
          "2021-07-31T00:00:00",
          "2021-08-31T00:00:00",
          "2021-09-30T00:00:00",
          "2021-10-31T00:00:00",
          "2021-11-30T00:00:00",
          "2021-12-31T00:00:00",
          "2022-01-31T00:00:00",
          "2022-02-28T00:00:00",
          "2022-03-31T00:00:00",
          "2022-04-30T00:00:00",
          "2022-05-31T00:00:00",
          "2022-06-30T00:00:00",
          "2022-07-31T00:00:00",
          "2022-08-31T00:00:00",
          "2022-09-30T00:00:00",
          "2022-10-31T00:00:00",
          "2022-11-30T00:00:00",
          "2022-12-31T00:00:00",
          "2023-01-31T00:00:00",
          "2023-02-28T00:00:00",
          "2023-03-31T00:00:00",
          "2023-04-30T00:00:00",
          "2023-05-31T00:00:00",
          "2023-06-30T00:00:00",
          "2023-07-31T00:00:00",
          "2023-08-31T00:00:00",
          "2023-09-30T00:00:00",
          "2023-10-31T00:00:00",
          "2023-11-30T00:00:00",
          "2023-12-31T00:00:00",
          "2024-01-31T00:00:00"
         ],
         "xaxis": "x",
         "y": [
          1281.2611,
          826.5175,
          0,
          45.38,
          0,
          0,
          231.93,
          0,
          0,
          78.67,
          3,
          0,
          0,
          0,
          0,
          0,
          0,
          0,
          168.4,
          113.89,
          0,
          42.07,
          0,
          0,
          695.34,
          0,
          0,
          150.513,
          0,
          0,
          614.3395,
          0,
          0,
          1212.86,
          0,
          0,
          648.487,
          0,
          0,
          389.5,
          0,
          0,
          542.25,
          676.2599,
          232.1,
          180.46,
          128.3,
          0,
          970.35,
          0,
          0,
          812.7501,
          0,
          0,
          1148.3802,
          970.731,
          35.3,
          570.05
         ],
         "yaxis": "y"
        }
       ],
       "layout": {
        "legend": {
         "tracegroupgap": 0
        },
        "template": {
         "data": {
          "bar": [
           {
            "error_x": {
             "color": "#2a3f5f"
            },
            "error_y": {
             "color": "#2a3f5f"
            },
            "marker": {
             "line": {
              "color": "#E5ECF6",
              "width": 0.5
             },
             "pattern": {
              "fillmode": "overlay",
              "size": 10,
              "solidity": 0.2
             }
            },
            "type": "bar"
           }
          ],
          "barpolar": [
           {
            "marker": {
             "line": {
              "color": "#E5ECF6",
              "width": 0.5
             },
             "pattern": {
              "fillmode": "overlay",
              "size": 10,
              "solidity": 0.2
             }
            },
            "type": "barpolar"
           }
          ],
          "carpet": [
           {
            "aaxis": {
             "endlinecolor": "#2a3f5f",
             "gridcolor": "white",
             "linecolor": "white",
             "minorgridcolor": "white",
             "startlinecolor": "#2a3f5f"
            },
            "baxis": {
             "endlinecolor": "#2a3f5f",
             "gridcolor": "white",
             "linecolor": "white",
             "minorgridcolor": "white",
             "startlinecolor": "#2a3f5f"
            },
            "type": "carpet"
           }
          ],
          "choropleth": [
           {
            "colorbar": {
             "outlinewidth": 0,
             "ticks": ""
            },
            "type": "choropleth"
           }
          ],
          "contour": [
           {
            "colorbar": {
             "outlinewidth": 0,
             "ticks": ""
            },
            "colorscale": [
             [
              0,
              "#0d0887"
             ],
             [
              0.1111111111111111,
              "#46039f"
             ],
             [
              0.2222222222222222,
              "#7201a8"
             ],
             [
              0.3333333333333333,
              "#9c179e"
             ],
             [
              0.4444444444444444,
              "#bd3786"
             ],
             [
              0.5555555555555556,
              "#d8576b"
             ],
             [
              0.6666666666666666,
              "#ed7953"
             ],
             [
              0.7777777777777778,
              "#fb9f3a"
             ],
             [
              0.8888888888888888,
              "#fdca26"
             ],
             [
              1,
              "#f0f921"
             ]
            ],
            "type": "contour"
           }
          ],
          "contourcarpet": [
           {
            "colorbar": {
             "outlinewidth": 0,
             "ticks": ""
            },
            "type": "contourcarpet"
           }
          ],
          "heatmap": [
           {
            "colorbar": {
             "outlinewidth": 0,
             "ticks": ""
            },
            "colorscale": [
             [
              0,
              "#0d0887"
             ],
             [
              0.1111111111111111,
              "#46039f"
             ],
             [
              0.2222222222222222,
              "#7201a8"
             ],
             [
              0.3333333333333333,
              "#9c179e"
             ],
             [
              0.4444444444444444,
              "#bd3786"
             ],
             [
              0.5555555555555556,
              "#d8576b"
             ],
             [
              0.6666666666666666,
              "#ed7953"
             ],
             [
              0.7777777777777778,
              "#fb9f3a"
             ],
             [
              0.8888888888888888,
              "#fdca26"
             ],
             [
              1,
              "#f0f921"
             ]
            ],
            "type": "heatmap"
           }
          ],
          "heatmapgl": [
           {
            "colorbar": {
             "outlinewidth": 0,
             "ticks": ""
            },
            "colorscale": [
             [
              0,
              "#0d0887"
             ],
             [
              0.1111111111111111,
              "#46039f"
             ],
             [
              0.2222222222222222,
              "#7201a8"
             ],
             [
              0.3333333333333333,
              "#9c179e"
             ],
             [
              0.4444444444444444,
              "#bd3786"
             ],
             [
              0.5555555555555556,
              "#d8576b"
             ],
             [
              0.6666666666666666,
              "#ed7953"
             ],
             [
              0.7777777777777778,
              "#fb9f3a"
             ],
             [
              0.8888888888888888,
              "#fdca26"
             ],
             [
              1,
              "#f0f921"
             ]
            ],
            "type": "heatmapgl"
           }
          ],
          "histogram": [
           {
            "marker": {
             "pattern": {
              "fillmode": "overlay",
              "size": 10,
              "solidity": 0.2
             }
            },
            "type": "histogram"
           }
          ],
          "histogram2d": [
           {
            "colorbar": {
             "outlinewidth": 0,
             "ticks": ""
            },
            "colorscale": [
             [
              0,
              "#0d0887"
             ],
             [
              0.1111111111111111,
              "#46039f"
             ],
             [
              0.2222222222222222,
              "#7201a8"
             ],
             [
              0.3333333333333333,
              "#9c179e"
             ],
             [
              0.4444444444444444,
              "#bd3786"
             ],
             [
              0.5555555555555556,
              "#d8576b"
             ],
             [
              0.6666666666666666,
              "#ed7953"
             ],
             [
              0.7777777777777778,
              "#fb9f3a"
             ],
             [
              0.8888888888888888,
              "#fdca26"
             ],
             [
              1,
              "#f0f921"
             ]
            ],
            "type": "histogram2d"
           }
          ],
          "histogram2dcontour": [
           {
            "colorbar": {
             "outlinewidth": 0,
             "ticks": ""
            },
            "colorscale": [
             [
              0,
              "#0d0887"
             ],
             [
              0.1111111111111111,
              "#46039f"
             ],
             [
              0.2222222222222222,
              "#7201a8"
             ],
             [
              0.3333333333333333,
              "#9c179e"
             ],
             [
              0.4444444444444444,
              "#bd3786"
             ],
             [
              0.5555555555555556,
              "#d8576b"
             ],
             [
              0.6666666666666666,
              "#ed7953"
             ],
             [
              0.7777777777777778,
              "#fb9f3a"
             ],
             [
              0.8888888888888888,
              "#fdca26"
             ],
             [
              1,
              "#f0f921"
             ]
            ],
            "type": "histogram2dcontour"
           }
          ],
          "mesh3d": [
           {
            "colorbar": {
             "outlinewidth": 0,
             "ticks": ""
            },
            "type": "mesh3d"
           }
          ],
          "parcoords": [
           {
            "line": {
             "colorbar": {
              "outlinewidth": 0,
              "ticks": ""
             }
            },
            "type": "parcoords"
           }
          ],
          "pie": [
           {
            "automargin": true,
            "type": "pie"
           }
          ],
          "scatter": [
           {
            "marker": {
             "colorbar": {
              "outlinewidth": 0,
              "ticks": ""
             }
            },
            "type": "scatter"
           }
          ],
          "scatter3d": [
           {
            "line": {
             "colorbar": {
              "outlinewidth": 0,
              "ticks": ""
             }
            },
            "marker": {
             "colorbar": {
              "outlinewidth": 0,
              "ticks": ""
             }
            },
            "type": "scatter3d"
           }
          ],
          "scattercarpet": [
           {
            "marker": {
             "colorbar": {
              "outlinewidth": 0,
              "ticks": ""
             }
            },
            "type": "scattercarpet"
           }
          ],
          "scattergeo": [
           {
            "marker": {
             "colorbar": {
              "outlinewidth": 0,
              "ticks": ""
             }
            },
            "type": "scattergeo"
           }
          ],
          "scattergl": [
           {
            "marker": {
             "colorbar": {
              "outlinewidth": 0,
              "ticks": ""
             }
            },
            "type": "scattergl"
           }
          ],
          "scattermapbox": [
           {
            "marker": {
             "colorbar": {
              "outlinewidth": 0,
              "ticks": ""
             }
            },
            "type": "scattermapbox"
           }
          ],
          "scatterpolar": [
           {
            "marker": {
             "colorbar": {
              "outlinewidth": 0,
              "ticks": ""
             }
            },
            "type": "scatterpolar"
           }
          ],
          "scatterpolargl": [
           {
            "marker": {
             "colorbar": {
              "outlinewidth": 0,
              "ticks": ""
             }
            },
            "type": "scatterpolargl"
           }
          ],
          "scatterternary": [
           {
            "marker": {
             "colorbar": {
              "outlinewidth": 0,
              "ticks": ""
             }
            },
            "type": "scatterternary"
           }
          ],
          "surface": [
           {
            "colorbar": {
             "outlinewidth": 0,
             "ticks": ""
            },
            "colorscale": [
             [
              0,
              "#0d0887"
             ],
             [
              0.1111111111111111,
              "#46039f"
             ],
             [
              0.2222222222222222,
              "#7201a8"
             ],
             [
              0.3333333333333333,
              "#9c179e"
             ],
             [
              0.4444444444444444,
              "#bd3786"
             ],
             [
              0.5555555555555556,
              "#d8576b"
             ],
             [
              0.6666666666666666,
              "#ed7953"
             ],
             [
              0.7777777777777778,
              "#fb9f3a"
             ],
             [
              0.8888888888888888,
              "#fdca26"
             ],
             [
              1,
              "#f0f921"
             ]
            ],
            "type": "surface"
           }
          ],
          "table": [
           {
            "cells": {
             "fill": {
              "color": "#EBF0F8"
             },
             "line": {
              "color": "white"
             }
            },
            "header": {
             "fill": {
              "color": "#C8D4E3"
             },
             "line": {
              "color": "white"
             }
            },
            "type": "table"
           }
          ]
         },
         "layout": {
          "annotationdefaults": {
           "arrowcolor": "#2a3f5f",
           "arrowhead": 0,
           "arrowwidth": 1
          },
          "autotypenumbers": "strict",
          "coloraxis": {
           "colorbar": {
            "outlinewidth": 0,
            "ticks": ""
           }
          },
          "colorscale": {
           "diverging": [
            [
             0,
             "#8e0152"
            ],
            [
             0.1,
             "#c51b7d"
            ],
            [
             0.2,
             "#de77ae"
            ],
            [
             0.3,
             "#f1b6da"
            ],
            [
             0.4,
             "#fde0ef"
            ],
            [
             0.5,
             "#f7f7f7"
            ],
            [
             0.6,
             "#e6f5d0"
            ],
            [
             0.7,
             "#b8e186"
            ],
            [
             0.8,
             "#7fbc41"
            ],
            [
             0.9,
             "#4d9221"
            ],
            [
             1,
             "#276419"
            ]
           ],
           "sequential": [
            [
             0,
             "#0d0887"
            ],
            [
             0.1111111111111111,
             "#46039f"
            ],
            [
             0.2222222222222222,
             "#7201a8"
            ],
            [
             0.3333333333333333,
             "#9c179e"
            ],
            [
             0.4444444444444444,
             "#bd3786"
            ],
            [
             0.5555555555555556,
             "#d8576b"
            ],
            [
             0.6666666666666666,
             "#ed7953"
            ],
            [
             0.7777777777777778,
             "#fb9f3a"
            ],
            [
             0.8888888888888888,
             "#fdca26"
            ],
            [
             1,
             "#f0f921"
            ]
           ],
           "sequentialminus": [
            [
             0,
             "#0d0887"
            ],
            [
             0.1111111111111111,
             "#46039f"
            ],
            [
             0.2222222222222222,
             "#7201a8"
            ],
            [
             0.3333333333333333,
             "#9c179e"
            ],
            [
             0.4444444444444444,
             "#bd3786"
            ],
            [
             0.5555555555555556,
             "#d8576b"
            ],
            [
             0.6666666666666666,
             "#ed7953"
            ],
            [
             0.7777777777777778,
             "#fb9f3a"
            ],
            [
             0.8888888888888888,
             "#fdca26"
            ],
            [
             1,
             "#f0f921"
            ]
           ]
          },
          "colorway": [
           "#636efa",
           "#EF553B",
           "#00cc96",
           "#ab63fa",
           "#FFA15A",
           "#19d3f3",
           "#FF6692",
           "#B6E880",
           "#FF97FF",
           "#FECB52"
          ],
          "font": {
           "color": "#2a3f5f"
          },
          "geo": {
           "bgcolor": "white",
           "lakecolor": "white",
           "landcolor": "#E5ECF6",
           "showlakes": true,
           "showland": true,
           "subunitcolor": "white"
          },
          "hoverlabel": {
           "align": "left"
          },
          "hovermode": "closest",
          "mapbox": {
           "style": "light"
          },
          "paper_bgcolor": "white",
          "plot_bgcolor": "#E5ECF6",
          "polar": {
           "angularaxis": {
            "gridcolor": "white",
            "linecolor": "white",
            "ticks": ""
           },
           "bgcolor": "#E5ECF6",
           "radialaxis": {
            "gridcolor": "white",
            "linecolor": "white",
            "ticks": ""
           }
          },
          "scene": {
           "xaxis": {
            "backgroundcolor": "#E5ECF6",
            "gridcolor": "white",
            "gridwidth": 2,
            "linecolor": "white",
            "showbackground": true,
            "ticks": "",
            "zerolinecolor": "white"
           },
           "yaxis": {
            "backgroundcolor": "#E5ECF6",
            "gridcolor": "white",
            "gridwidth": 2,
            "linecolor": "white",
            "showbackground": true,
            "ticks": "",
            "zerolinecolor": "white"
           },
           "zaxis": {
            "backgroundcolor": "#E5ECF6",
            "gridcolor": "white",
            "gridwidth": 2,
            "linecolor": "white",
            "showbackground": true,
            "ticks": "",
            "zerolinecolor": "white"
           }
          },
          "shapedefaults": {
           "line": {
            "color": "#2a3f5f"
           }
          },
          "ternary": {
           "aaxis": {
            "gridcolor": "white",
            "linecolor": "white",
            "ticks": ""
           },
           "baxis": {
            "gridcolor": "white",
            "linecolor": "white",
            "ticks": ""
           },
           "bgcolor": "#E5ECF6",
           "caxis": {
            "gridcolor": "white",
            "linecolor": "white",
            "ticks": ""
           }
          },
          "title": {
           "x": 0.05
          },
          "xaxis": {
           "automargin": true,
           "gridcolor": "white",
           "linecolor": "white",
           "ticks": "",
           "title": {
            "standoff": 15
           },
           "zerolinecolor": "white",
           "zerolinewidth": 2
          },
          "yaxis": {
           "automargin": true,
           "gridcolor": "white",
           "linecolor": "white",
           "ticks": "",
           "title": {
            "standoff": 15
           },
           "zerolinecolor": "white",
           "zerolinewidth": 2
          }
         }
        },
        "title": {
         "text": "Monthly Trends in Amount Received"
        },
        "xaxis": {
         "anchor": "y",
         "domain": [
          0,
          1
         ],
         "title": {
          "text": "Date"
         }
        },
        "yaxis": {
         "anchor": "x",
         "domain": [
          0,
          1
         ],
         "title": {
          "text": "Total Amount Received (Crore)"
         }
        }
       }
      },
      "text/html": [
       "<div>                            <div id=\"c1750793-8f34-4f23-88e2-8ba41a29ba59\" class=\"plotly-graph-div\" style=\"height:525px; width:100%;\"></div>            <script type=\"text/javascript\">                require([\"plotly\"], function(Plotly) {                    window.PLOTLYENV=window.PLOTLYENV || {};                                    if (document.getElementById(\"c1750793-8f34-4f23-88e2-8ba41a29ba59\")) {                    Plotly.newPlot(                        \"c1750793-8f34-4f23-88e2-8ba41a29ba59\",                        [{\"hovertemplate\":\"Date of Encashment=%{x}<br>Denomination(Crore)=%{y}<extra></extra>\",\"legendgroup\":\"\",\"line\":{\"color\":\"orange\",\"dash\":\"solid\"},\"marker\":{\"symbol\":\"circle\"},\"mode\":\"markers+lines\",\"name\":\"\",\"orientation\":\"v\",\"showlegend\":false,\"x\":[\"2019-04-30T00:00:00\",\"2019-05-31T00:00:00\",\"2019-06-30T00:00:00\",\"2019-07-31T00:00:00\",\"2019-08-31T00:00:00\",\"2019-09-30T00:00:00\",\"2019-10-31T00:00:00\",\"2019-11-30T00:00:00\",\"2019-12-31T00:00:00\",\"2020-01-31T00:00:00\",\"2020-02-29T00:00:00\",\"2020-03-31T00:00:00\",\"2020-04-30T00:00:00\",\"2020-05-31T00:00:00\",\"2020-06-30T00:00:00\",\"2020-07-31T00:00:00\",\"2020-08-31T00:00:00\",\"2020-09-30T00:00:00\",\"2020-10-31T00:00:00\",\"2020-11-30T00:00:00\",\"2020-12-31T00:00:00\",\"2021-01-31T00:00:00\",\"2021-02-28T00:00:00\",\"2021-03-31T00:00:00\",\"2021-04-30T00:00:00\",\"2021-05-31T00:00:00\",\"2021-06-30T00:00:00\",\"2021-07-31T00:00:00\",\"2021-08-31T00:00:00\",\"2021-09-30T00:00:00\",\"2021-10-31T00:00:00\",\"2021-11-30T00:00:00\",\"2021-12-31T00:00:00\",\"2022-01-31T00:00:00\",\"2022-02-28T00:00:00\",\"2022-03-31T00:00:00\",\"2022-04-30T00:00:00\",\"2022-05-31T00:00:00\",\"2022-06-30T00:00:00\",\"2022-07-31T00:00:00\",\"2022-08-31T00:00:00\",\"2022-09-30T00:00:00\",\"2022-10-31T00:00:00\",\"2022-11-30T00:00:00\",\"2022-12-31T00:00:00\",\"2023-01-31T00:00:00\",\"2023-02-28T00:00:00\",\"2023-03-31T00:00:00\",\"2023-04-30T00:00:00\",\"2023-05-31T00:00:00\",\"2023-06-30T00:00:00\",\"2023-07-31T00:00:00\",\"2023-08-31T00:00:00\",\"2023-09-30T00:00:00\",\"2023-10-31T00:00:00\",\"2023-11-30T00:00:00\",\"2023-12-31T00:00:00\",\"2024-01-31T00:00:00\"],\"xaxis\":\"x\",\"y\":[1281.2611,826.5175,0.0,45.38,0.0,0.0,231.93,0.0,0.0,78.67,3.0,0.0,0.0,0.0,0.0,0.0,0.0,0.0,168.4,113.89,0.0,42.07,0.0,0.0,695.34,0.0,0.0,150.513,0.0,0.0,614.3395,0.0,0.0,1212.86,0.0,0.0,648.487,0.0,0.0,389.5,0.0,0.0,542.25,676.2599,232.1,180.46,128.3,0.0,970.35,0.0,0.0,812.7501,0.0,0.0,1148.3802,970.731,35.3,570.05],\"yaxis\":\"y\",\"type\":\"scatter\"}],                        {\"template\":{\"data\":{\"bar\":[{\"error_x\":{\"color\":\"#2a3f5f\"},\"error_y\":{\"color\":\"#2a3f5f\"},\"marker\":{\"line\":{\"color\":\"#E5ECF6\",\"width\":0.5},\"pattern\":{\"fillmode\":\"overlay\",\"size\":10,\"solidity\":0.2}},\"type\":\"bar\"}],\"barpolar\":[{\"marker\":{\"line\":{\"color\":\"#E5ECF6\",\"width\":0.5},\"pattern\":{\"fillmode\":\"overlay\",\"size\":10,\"solidity\":0.2}},\"type\":\"barpolar\"}],\"carpet\":[{\"aaxis\":{\"endlinecolor\":\"#2a3f5f\",\"gridcolor\":\"white\",\"linecolor\":\"white\",\"minorgridcolor\":\"white\",\"startlinecolor\":\"#2a3f5f\"},\"baxis\":{\"endlinecolor\":\"#2a3f5f\",\"gridcolor\":\"white\",\"linecolor\":\"white\",\"minorgridcolor\":\"white\",\"startlinecolor\":\"#2a3f5f\"},\"type\":\"carpet\"}],\"choropleth\":[{\"colorbar\":{\"outlinewidth\":0,\"ticks\":\"\"},\"type\":\"choropleth\"}],\"contour\":[{\"colorbar\":{\"outlinewidth\":0,\"ticks\":\"\"},\"colorscale\":[[0.0,\"#0d0887\"],[0.1111111111111111,\"#46039f\"],[0.2222222222222222,\"#7201a8\"],[0.3333333333333333,\"#9c179e\"],[0.4444444444444444,\"#bd3786\"],[0.5555555555555556,\"#d8576b\"],[0.6666666666666666,\"#ed7953\"],[0.7777777777777778,\"#fb9f3a\"],[0.8888888888888888,\"#fdca26\"],[1.0,\"#f0f921\"]],\"type\":\"contour\"}],\"contourcarpet\":[{\"colorbar\":{\"outlinewidth\":0,\"ticks\":\"\"},\"type\":\"contourcarpet\"}],\"heatmap\":[{\"colorbar\":{\"outlinewidth\":0,\"ticks\":\"\"},\"colorscale\":[[0.0,\"#0d0887\"],[0.1111111111111111,\"#46039f\"],[0.2222222222222222,\"#7201a8\"],[0.3333333333333333,\"#9c179e\"],[0.4444444444444444,\"#bd3786\"],[0.5555555555555556,\"#d8576b\"],[0.6666666666666666,\"#ed7953\"],[0.7777777777777778,\"#fb9f3a\"],[0.8888888888888888,\"#fdca26\"],[1.0,\"#f0f921\"]],\"type\":\"heatmap\"}],\"heatmapgl\":[{\"colorbar\":{\"outlinewidth\":0,\"ticks\":\"\"},\"colorscale\":[[0.0,\"#0d0887\"],[0.1111111111111111,\"#46039f\"],[0.2222222222222222,\"#7201a8\"],[0.3333333333333333,\"#9c179e\"],[0.4444444444444444,\"#bd3786\"],[0.5555555555555556,\"#d8576b\"],[0.6666666666666666,\"#ed7953\"],[0.7777777777777778,\"#fb9f3a\"],[0.8888888888888888,\"#fdca26\"],[1.0,\"#f0f921\"]],\"type\":\"heatmapgl\"}],\"histogram\":[{\"marker\":{\"pattern\":{\"fillmode\":\"overlay\",\"size\":10,\"solidity\":0.2}},\"type\":\"histogram\"}],\"histogram2d\":[{\"colorbar\":{\"outlinewidth\":0,\"ticks\":\"\"},\"colorscale\":[[0.0,\"#0d0887\"],[0.1111111111111111,\"#46039f\"],[0.2222222222222222,\"#7201a8\"],[0.3333333333333333,\"#9c179e\"],[0.4444444444444444,\"#bd3786\"],[0.5555555555555556,\"#d8576b\"],[0.6666666666666666,\"#ed7953\"],[0.7777777777777778,\"#fb9f3a\"],[0.8888888888888888,\"#fdca26\"],[1.0,\"#f0f921\"]],\"type\":\"histogram2d\"}],\"histogram2dcontour\":[{\"colorbar\":{\"outlinewidth\":0,\"ticks\":\"\"},\"colorscale\":[[0.0,\"#0d0887\"],[0.1111111111111111,\"#46039f\"],[0.2222222222222222,\"#7201a8\"],[0.3333333333333333,\"#9c179e\"],[0.4444444444444444,\"#bd3786\"],[0.5555555555555556,\"#d8576b\"],[0.6666666666666666,\"#ed7953\"],[0.7777777777777778,\"#fb9f3a\"],[0.8888888888888888,\"#fdca26\"],[1.0,\"#f0f921\"]],\"type\":\"histogram2dcontour\"}],\"mesh3d\":[{\"colorbar\":{\"outlinewidth\":0,\"ticks\":\"\"},\"type\":\"mesh3d\"}],\"parcoords\":[{\"line\":{\"colorbar\":{\"outlinewidth\":0,\"ticks\":\"\"}},\"type\":\"parcoords\"}],\"pie\":[{\"automargin\":true,\"type\":\"pie\"}],\"scatter\":[{\"marker\":{\"colorbar\":{\"outlinewidth\":0,\"ticks\":\"\"}},\"type\":\"scatter\"}],\"scatter3d\":[{\"line\":{\"colorbar\":{\"outlinewidth\":0,\"ticks\":\"\"}},\"marker\":{\"colorbar\":{\"outlinewidth\":0,\"ticks\":\"\"}},\"type\":\"scatter3d\"}],\"scattercarpet\":[{\"marker\":{\"colorbar\":{\"outlinewidth\":0,\"ticks\":\"\"}},\"type\":\"scattercarpet\"}],\"scattergeo\":[{\"marker\":{\"colorbar\":{\"outlinewidth\":0,\"ticks\":\"\"}},\"type\":\"scattergeo\"}],\"scattergl\":[{\"marker\":{\"colorbar\":{\"outlinewidth\":0,\"ticks\":\"\"}},\"type\":\"scattergl\"}],\"scattermapbox\":[{\"marker\":{\"colorbar\":{\"outlinewidth\":0,\"ticks\":\"\"}},\"type\":\"scattermapbox\"}],\"scatterpolar\":[{\"marker\":{\"colorbar\":{\"outlinewidth\":0,\"ticks\":\"\"}},\"type\":\"scatterpolar\"}],\"scatterpolargl\":[{\"marker\":{\"colorbar\":{\"outlinewidth\":0,\"ticks\":\"\"}},\"type\":\"scatterpolargl\"}],\"scatterternary\":[{\"marker\":{\"colorbar\":{\"outlinewidth\":0,\"ticks\":\"\"}},\"type\":\"scatterternary\"}],\"surface\":[{\"colorbar\":{\"outlinewidth\":0,\"ticks\":\"\"},\"colorscale\":[[0.0,\"#0d0887\"],[0.1111111111111111,\"#46039f\"],[0.2222222222222222,\"#7201a8\"],[0.3333333333333333,\"#9c179e\"],[0.4444444444444444,\"#bd3786\"],[0.5555555555555556,\"#d8576b\"],[0.6666666666666666,\"#ed7953\"],[0.7777777777777778,\"#fb9f3a\"],[0.8888888888888888,\"#fdca26\"],[1.0,\"#f0f921\"]],\"type\":\"surface\"}],\"table\":[{\"cells\":{\"fill\":{\"color\":\"#EBF0F8\"},\"line\":{\"color\":\"white\"}},\"header\":{\"fill\":{\"color\":\"#C8D4E3\"},\"line\":{\"color\":\"white\"}},\"type\":\"table\"}]},\"layout\":{\"annotationdefaults\":{\"arrowcolor\":\"#2a3f5f\",\"arrowhead\":0,\"arrowwidth\":1},\"autotypenumbers\":\"strict\",\"coloraxis\":{\"colorbar\":{\"outlinewidth\":0,\"ticks\":\"\"}},\"colorscale\":{\"diverging\":[[0,\"#8e0152\"],[0.1,\"#c51b7d\"],[0.2,\"#de77ae\"],[0.3,\"#f1b6da\"],[0.4,\"#fde0ef\"],[0.5,\"#f7f7f7\"],[0.6,\"#e6f5d0\"],[0.7,\"#b8e186\"],[0.8,\"#7fbc41\"],[0.9,\"#4d9221\"],[1,\"#276419\"]],\"sequential\":[[0.0,\"#0d0887\"],[0.1111111111111111,\"#46039f\"],[0.2222222222222222,\"#7201a8\"],[0.3333333333333333,\"#9c179e\"],[0.4444444444444444,\"#bd3786\"],[0.5555555555555556,\"#d8576b\"],[0.6666666666666666,\"#ed7953\"],[0.7777777777777778,\"#fb9f3a\"],[0.8888888888888888,\"#fdca26\"],[1.0,\"#f0f921\"]],\"sequentialminus\":[[0.0,\"#0d0887\"],[0.1111111111111111,\"#46039f\"],[0.2222222222222222,\"#7201a8\"],[0.3333333333333333,\"#9c179e\"],[0.4444444444444444,\"#bd3786\"],[0.5555555555555556,\"#d8576b\"],[0.6666666666666666,\"#ed7953\"],[0.7777777777777778,\"#fb9f3a\"],[0.8888888888888888,\"#fdca26\"],[1.0,\"#f0f921\"]]},\"colorway\":[\"#636efa\",\"#EF553B\",\"#00cc96\",\"#ab63fa\",\"#FFA15A\",\"#19d3f3\",\"#FF6692\",\"#B6E880\",\"#FF97FF\",\"#FECB52\"],\"font\":{\"color\":\"#2a3f5f\"},\"geo\":{\"bgcolor\":\"white\",\"lakecolor\":\"white\",\"landcolor\":\"#E5ECF6\",\"showlakes\":true,\"showland\":true,\"subunitcolor\":\"white\"},\"hoverlabel\":{\"align\":\"left\"},\"hovermode\":\"closest\",\"mapbox\":{\"style\":\"light\"},\"paper_bgcolor\":\"white\",\"plot_bgcolor\":\"#E5ECF6\",\"polar\":{\"angularaxis\":{\"gridcolor\":\"white\",\"linecolor\":\"white\",\"ticks\":\"\"},\"bgcolor\":\"#E5ECF6\",\"radialaxis\":{\"gridcolor\":\"white\",\"linecolor\":\"white\",\"ticks\":\"\"}},\"scene\":{\"xaxis\":{\"backgroundcolor\":\"#E5ECF6\",\"gridcolor\":\"white\",\"gridwidth\":2,\"linecolor\":\"white\",\"showbackground\":true,\"ticks\":\"\",\"zerolinecolor\":\"white\"},\"yaxis\":{\"backgroundcolor\":\"#E5ECF6\",\"gridcolor\":\"white\",\"gridwidth\":2,\"linecolor\":\"white\",\"showbackground\":true,\"ticks\":\"\",\"zerolinecolor\":\"white\"},\"zaxis\":{\"backgroundcolor\":\"#E5ECF6\",\"gridcolor\":\"white\",\"gridwidth\":2,\"linecolor\":\"white\",\"showbackground\":true,\"ticks\":\"\",\"zerolinecolor\":\"white\"}},\"shapedefaults\":{\"line\":{\"color\":\"#2a3f5f\"}},\"ternary\":{\"aaxis\":{\"gridcolor\":\"white\",\"linecolor\":\"white\",\"ticks\":\"\"},\"baxis\":{\"gridcolor\":\"white\",\"linecolor\":\"white\",\"ticks\":\"\"},\"bgcolor\":\"#E5ECF6\",\"caxis\":{\"gridcolor\":\"white\",\"linecolor\":\"white\",\"ticks\":\"\"}},\"title\":{\"x\":0.05},\"xaxis\":{\"automargin\":true,\"gridcolor\":\"white\",\"linecolor\":\"white\",\"ticks\":\"\",\"title\":{\"standoff\":15},\"zerolinecolor\":\"white\",\"zerolinewidth\":2},\"yaxis\":{\"automargin\":true,\"gridcolor\":\"white\",\"linecolor\":\"white\",\"ticks\":\"\",\"title\":{\"standoff\":15},\"zerolinecolor\":\"white\",\"zerolinewidth\":2}}},\"xaxis\":{\"anchor\":\"y\",\"domain\":[0.0,1.0],\"title\":{\"text\":\"Date\"}},\"yaxis\":{\"anchor\":\"x\",\"domain\":[0.0,1.0],\"title\":{\"text\":\"Total Amount Received (Crore)\"}},\"legend\":{\"tracegroupgap\":0},\"title\":{\"text\":\"Monthly Trends in Amount Received\"}},                        {\"responsive\": true}                    ).then(function(){\n",
       "                            \n",
       "var gd = document.getElementById('c1750793-8f34-4f23-88e2-8ba41a29ba59');\n",
       "var x = new MutationObserver(function (mutations, observer) {{\n",
       "        var display = window.getComputedStyle(gd).display;\n",
       "        if (!display || display === 'none') {{\n",
       "            console.log([gd, 'removed!']);\n",
       "            Plotly.purge(gd);\n",
       "            observer.disconnect();\n",
       "        }}\n",
       "}});\n",
       "\n",
       "// Listen for the removal of the full notebook cells\n",
       "var notebookContainer = gd.closest('#notebook-container');\n",
       "if (notebookContainer) {{\n",
       "    x.observe(notebookContainer, {childList: true});\n",
       "}}\n",
       "\n",
       "// Listen for the clearing of the current output cell\n",
       "var outputEl = gd.closest('.output');\n",
       "if (outputEl) {{\n",
       "    x.observe(outputEl, {childList: true});\n",
       "}}\n",
       "\n",
       "                        })                };                });            </script>        </div>"
      ]
     },
     "metadata": {},
     "output_type": "display_data"
    }
   ],
   "source": [
    "# Convert 'Date of Encashment' to datetime\n",
    "df1['Date of Encashment'] = pd.to_datetime(df1['Date of Encashment'])\n",
    "\n",
    "# Resample data to monthly frequency and sum the denominations\n",
    "monthly_data = df1.resample('M', on='Date of Encashment')['Denomination(Crore)'].sum().reset_index()\n",
    "\n",
    "# Create an interactive line plot using Plotly with 'plasma_r' theme and red line color\n",
    "fig = px.line(monthly_data, x='Date of Encashment', y='Denomination(Crore)', title='Monthly Trends in Amount Received', color_discrete_sequence=['orange'], markers='markers')\n",
    "fig.update_xaxes(title='Date')\n",
    "fig.update_yaxes(title='Total Amount Received (Crore)')\n",
    "fig.show()"
   ]
  },
  {
   "cell_type": "markdown",
   "id": "6f6ee197",
   "metadata": {},
   "source": [
    "## Total Amount Received Each Month Over Multiple Years"
   ]
  },
  {
   "cell_type": "code",
   "execution_count": 51,
   "id": "ac3891c9",
   "metadata": {},
   "outputs": [
    {
     "data": {
      "application/vnd.plotly.v1+json": {
       "config": {
        "plotlyServerURL": "https://plot.ly"
       },
       "data": [
        {
         "customdata": [
          [
           2019
          ],
          [
           2021
          ],
          [
           2022
          ],
          [
           2023
          ],
          [
           2022
          ],
          [
           2023
          ],
          [
           2020
          ],
          [
           2023
          ],
          [
           2020
          ],
          [
           2021
          ],
          [
           2022
          ],
          [
           2023
          ],
          [
           2024
          ],
          [
           2019
          ],
          [
           2021
          ],
          [
           2022
          ],
          [
           2023
          ],
          [
           2019
          ],
          [
           2020
          ],
          [
           2022
          ],
          [
           2023
          ],
          [
           2019
          ],
          [
           2020
          ],
          [
           2021
          ],
          [
           2022
          ],
          [
           2023
          ]
         ],
         "hovertemplate": "Total Amount Received (Crore)=%{y}<extra></extra>",
         "legendgroup": "",
         "marker": {
          "color": [
           2019,
           2021,
           2022,
           2023,
           2022,
           2023,
           2020,
           2023,
           2020,
           2021,
           2022,
           2023,
           2024,
           2019,
           2021,
           2022,
           2023,
           2019,
           2020,
           2022,
           2023,
           2019,
           2020,
           2021,
           2022,
           2023
          ],
          "coloraxis": "coloraxis",
          "symbol": "circle"
         },
         "mode": "markers",
         "name": "",
         "orientation": "v",
         "showlegend": false,
         "type": "scatter",
         "x": [
          "April",
          "April",
          "April",
          "April",
          "December",
          "December",
          "February",
          "February",
          "January",
          "January",
          "January",
          "January",
          "January",
          "July",
          "July",
          "July",
          "July",
          "May",
          "November",
          "November",
          "November",
          "October",
          "October",
          "October",
          "October",
          "October"
         ],
         "xaxis": "x",
         "y": [
          1281.2611,
          695.34,
          648.487,
          970.35,
          232.1,
          35.3,
          3,
          128.3,
          78.67,
          42.07,
          1212.86,
          180.46,
          570.05,
          45.38,
          150.513,
          389.5,
          812.7501,
          826.5175,
          113.89,
          676.2599,
          970.731,
          231.93,
          168.4,
          614.3395,
          542.25,
          1148.3802
         ],
         "yaxis": "y"
        }
       ],
       "layout": {
        "coloraxis": {
         "colorbar": {
          "title": {
           "text": "Year"
          }
         },
         "colorscale": [
          [
           0,
           "#0d0887"
          ],
          [
           0.1111111111111111,
           "#46039f"
          ],
          [
           0.2222222222222222,
           "#7201a8"
          ],
          [
           0.3333333333333333,
           "#9c179e"
          ],
          [
           0.4444444444444444,
           "#bd3786"
          ],
          [
           0.5555555555555556,
           "#d8576b"
          ],
          [
           0.6666666666666666,
           "#ed7953"
          ],
          [
           0.7777777777777778,
           "#fb9f3a"
          ],
          [
           0.8888888888888888,
           "#fdca26"
          ],
          [
           1,
           "#f0f921"
          ]
         ]
        },
        "legend": {
         "tracegroupgap": 0
        },
        "template": {
         "data": {
          "bar": [
           {
            "error_x": {
             "color": "#2a3f5f"
            },
            "error_y": {
             "color": "#2a3f5f"
            },
            "marker": {
             "line": {
              "color": "#E5ECF6",
              "width": 0.5
             },
             "pattern": {
              "fillmode": "overlay",
              "size": 10,
              "solidity": 0.2
             }
            },
            "type": "bar"
           }
          ],
          "barpolar": [
           {
            "marker": {
             "line": {
              "color": "#E5ECF6",
              "width": 0.5
             },
             "pattern": {
              "fillmode": "overlay",
              "size": 10,
              "solidity": 0.2
             }
            },
            "type": "barpolar"
           }
          ],
          "carpet": [
           {
            "aaxis": {
             "endlinecolor": "#2a3f5f",
             "gridcolor": "white",
             "linecolor": "white",
             "minorgridcolor": "white",
             "startlinecolor": "#2a3f5f"
            },
            "baxis": {
             "endlinecolor": "#2a3f5f",
             "gridcolor": "white",
             "linecolor": "white",
             "minorgridcolor": "white",
             "startlinecolor": "#2a3f5f"
            },
            "type": "carpet"
           }
          ],
          "choropleth": [
           {
            "colorbar": {
             "outlinewidth": 0,
             "ticks": ""
            },
            "type": "choropleth"
           }
          ],
          "contour": [
           {
            "colorbar": {
             "outlinewidth": 0,
             "ticks": ""
            },
            "colorscale": [
             [
              0,
              "#0d0887"
             ],
             [
              0.1111111111111111,
              "#46039f"
             ],
             [
              0.2222222222222222,
              "#7201a8"
             ],
             [
              0.3333333333333333,
              "#9c179e"
             ],
             [
              0.4444444444444444,
              "#bd3786"
             ],
             [
              0.5555555555555556,
              "#d8576b"
             ],
             [
              0.6666666666666666,
              "#ed7953"
             ],
             [
              0.7777777777777778,
              "#fb9f3a"
             ],
             [
              0.8888888888888888,
              "#fdca26"
             ],
             [
              1,
              "#f0f921"
             ]
            ],
            "type": "contour"
           }
          ],
          "contourcarpet": [
           {
            "colorbar": {
             "outlinewidth": 0,
             "ticks": ""
            },
            "type": "contourcarpet"
           }
          ],
          "heatmap": [
           {
            "colorbar": {
             "outlinewidth": 0,
             "ticks": ""
            },
            "colorscale": [
             [
              0,
              "#0d0887"
             ],
             [
              0.1111111111111111,
              "#46039f"
             ],
             [
              0.2222222222222222,
              "#7201a8"
             ],
             [
              0.3333333333333333,
              "#9c179e"
             ],
             [
              0.4444444444444444,
              "#bd3786"
             ],
             [
              0.5555555555555556,
              "#d8576b"
             ],
             [
              0.6666666666666666,
              "#ed7953"
             ],
             [
              0.7777777777777778,
              "#fb9f3a"
             ],
             [
              0.8888888888888888,
              "#fdca26"
             ],
             [
              1,
              "#f0f921"
             ]
            ],
            "type": "heatmap"
           }
          ],
          "heatmapgl": [
           {
            "colorbar": {
             "outlinewidth": 0,
             "ticks": ""
            },
            "colorscale": [
             [
              0,
              "#0d0887"
             ],
             [
              0.1111111111111111,
              "#46039f"
             ],
             [
              0.2222222222222222,
              "#7201a8"
             ],
             [
              0.3333333333333333,
              "#9c179e"
             ],
             [
              0.4444444444444444,
              "#bd3786"
             ],
             [
              0.5555555555555556,
              "#d8576b"
             ],
             [
              0.6666666666666666,
              "#ed7953"
             ],
             [
              0.7777777777777778,
              "#fb9f3a"
             ],
             [
              0.8888888888888888,
              "#fdca26"
             ],
             [
              1,
              "#f0f921"
             ]
            ],
            "type": "heatmapgl"
           }
          ],
          "histogram": [
           {
            "marker": {
             "pattern": {
              "fillmode": "overlay",
              "size": 10,
              "solidity": 0.2
             }
            },
            "type": "histogram"
           }
          ],
          "histogram2d": [
           {
            "colorbar": {
             "outlinewidth": 0,
             "ticks": ""
            },
            "colorscale": [
             [
              0,
              "#0d0887"
             ],
             [
              0.1111111111111111,
              "#46039f"
             ],
             [
              0.2222222222222222,
              "#7201a8"
             ],
             [
              0.3333333333333333,
              "#9c179e"
             ],
             [
              0.4444444444444444,
              "#bd3786"
             ],
             [
              0.5555555555555556,
              "#d8576b"
             ],
             [
              0.6666666666666666,
              "#ed7953"
             ],
             [
              0.7777777777777778,
              "#fb9f3a"
             ],
             [
              0.8888888888888888,
              "#fdca26"
             ],
             [
              1,
              "#f0f921"
             ]
            ],
            "type": "histogram2d"
           }
          ],
          "histogram2dcontour": [
           {
            "colorbar": {
             "outlinewidth": 0,
             "ticks": ""
            },
            "colorscale": [
             [
              0,
              "#0d0887"
             ],
             [
              0.1111111111111111,
              "#46039f"
             ],
             [
              0.2222222222222222,
              "#7201a8"
             ],
             [
              0.3333333333333333,
              "#9c179e"
             ],
             [
              0.4444444444444444,
              "#bd3786"
             ],
             [
              0.5555555555555556,
              "#d8576b"
             ],
             [
              0.6666666666666666,
              "#ed7953"
             ],
             [
              0.7777777777777778,
              "#fb9f3a"
             ],
             [
              0.8888888888888888,
              "#fdca26"
             ],
             [
              1,
              "#f0f921"
             ]
            ],
            "type": "histogram2dcontour"
           }
          ],
          "mesh3d": [
           {
            "colorbar": {
             "outlinewidth": 0,
             "ticks": ""
            },
            "type": "mesh3d"
           }
          ],
          "parcoords": [
           {
            "line": {
             "colorbar": {
              "outlinewidth": 0,
              "ticks": ""
             }
            },
            "type": "parcoords"
           }
          ],
          "pie": [
           {
            "automargin": true,
            "type": "pie"
           }
          ],
          "scatter": [
           {
            "marker": {
             "colorbar": {
              "outlinewidth": 0,
              "ticks": ""
             }
            },
            "type": "scatter"
           }
          ],
          "scatter3d": [
           {
            "line": {
             "colorbar": {
              "outlinewidth": 0,
              "ticks": ""
             }
            },
            "marker": {
             "colorbar": {
              "outlinewidth": 0,
              "ticks": ""
             }
            },
            "type": "scatter3d"
           }
          ],
          "scattercarpet": [
           {
            "marker": {
             "colorbar": {
              "outlinewidth": 0,
              "ticks": ""
             }
            },
            "type": "scattercarpet"
           }
          ],
          "scattergeo": [
           {
            "marker": {
             "colorbar": {
              "outlinewidth": 0,
              "ticks": ""
             }
            },
            "type": "scattergeo"
           }
          ],
          "scattergl": [
           {
            "marker": {
             "colorbar": {
              "outlinewidth": 0,
              "ticks": ""
             }
            },
            "type": "scattergl"
           }
          ],
          "scattermapbox": [
           {
            "marker": {
             "colorbar": {
              "outlinewidth": 0,
              "ticks": ""
             }
            },
            "type": "scattermapbox"
           }
          ],
          "scatterpolar": [
           {
            "marker": {
             "colorbar": {
              "outlinewidth": 0,
              "ticks": ""
             }
            },
            "type": "scatterpolar"
           }
          ],
          "scatterpolargl": [
           {
            "marker": {
             "colorbar": {
              "outlinewidth": 0,
              "ticks": ""
             }
            },
            "type": "scatterpolargl"
           }
          ],
          "scatterternary": [
           {
            "marker": {
             "colorbar": {
              "outlinewidth": 0,
              "ticks": ""
             }
            },
            "type": "scatterternary"
           }
          ],
          "surface": [
           {
            "colorbar": {
             "outlinewidth": 0,
             "ticks": ""
            },
            "colorscale": [
             [
              0,
              "#0d0887"
             ],
             [
              0.1111111111111111,
              "#46039f"
             ],
             [
              0.2222222222222222,
              "#7201a8"
             ],
             [
              0.3333333333333333,
              "#9c179e"
             ],
             [
              0.4444444444444444,
              "#bd3786"
             ],
             [
              0.5555555555555556,
              "#d8576b"
             ],
             [
              0.6666666666666666,
              "#ed7953"
             ],
             [
              0.7777777777777778,
              "#fb9f3a"
             ],
             [
              0.8888888888888888,
              "#fdca26"
             ],
             [
              1,
              "#f0f921"
             ]
            ],
            "type": "surface"
           }
          ],
          "table": [
           {
            "cells": {
             "fill": {
              "color": "#EBF0F8"
             },
             "line": {
              "color": "white"
             }
            },
            "header": {
             "fill": {
              "color": "#C8D4E3"
             },
             "line": {
              "color": "white"
             }
            },
            "type": "table"
           }
          ]
         },
         "layout": {
          "annotationdefaults": {
           "arrowcolor": "#2a3f5f",
           "arrowhead": 0,
           "arrowwidth": 1
          },
          "autotypenumbers": "strict",
          "coloraxis": {
           "colorbar": {
            "outlinewidth": 0,
            "ticks": ""
           }
          },
          "colorscale": {
           "diverging": [
            [
             0,
             "#8e0152"
            ],
            [
             0.1,
             "#c51b7d"
            ],
            [
             0.2,
             "#de77ae"
            ],
            [
             0.3,
             "#f1b6da"
            ],
            [
             0.4,
             "#fde0ef"
            ],
            [
             0.5,
             "#f7f7f7"
            ],
            [
             0.6,
             "#e6f5d0"
            ],
            [
             0.7,
             "#b8e186"
            ],
            [
             0.8,
             "#7fbc41"
            ],
            [
             0.9,
             "#4d9221"
            ],
            [
             1,
             "#276419"
            ]
           ],
           "sequential": [
            [
             0,
             "#0d0887"
            ],
            [
             0.1111111111111111,
             "#46039f"
            ],
            [
             0.2222222222222222,
             "#7201a8"
            ],
            [
             0.3333333333333333,
             "#9c179e"
            ],
            [
             0.4444444444444444,
             "#bd3786"
            ],
            [
             0.5555555555555556,
             "#d8576b"
            ],
            [
             0.6666666666666666,
             "#ed7953"
            ],
            [
             0.7777777777777778,
             "#fb9f3a"
            ],
            [
             0.8888888888888888,
             "#fdca26"
            ],
            [
             1,
             "#f0f921"
            ]
           ],
           "sequentialminus": [
            [
             0,
             "#0d0887"
            ],
            [
             0.1111111111111111,
             "#46039f"
            ],
            [
             0.2222222222222222,
             "#7201a8"
            ],
            [
             0.3333333333333333,
             "#9c179e"
            ],
            [
             0.4444444444444444,
             "#bd3786"
            ],
            [
             0.5555555555555556,
             "#d8576b"
            ],
            [
             0.6666666666666666,
             "#ed7953"
            ],
            [
             0.7777777777777778,
             "#fb9f3a"
            ],
            [
             0.8888888888888888,
             "#fdca26"
            ],
            [
             1,
             "#f0f921"
            ]
           ]
          },
          "colorway": [
           "#636efa",
           "#EF553B",
           "#00cc96",
           "#ab63fa",
           "#FFA15A",
           "#19d3f3",
           "#FF6692",
           "#B6E880",
           "#FF97FF",
           "#FECB52"
          ],
          "font": {
           "color": "#2a3f5f"
          },
          "geo": {
           "bgcolor": "white",
           "lakecolor": "white",
           "landcolor": "#E5ECF6",
           "showlakes": true,
           "showland": true,
           "subunitcolor": "white"
          },
          "hoverlabel": {
           "align": "left"
          },
          "hovermode": "closest",
          "mapbox": {
           "style": "light"
          },
          "paper_bgcolor": "white",
          "plot_bgcolor": "#E5ECF6",
          "polar": {
           "angularaxis": {
            "gridcolor": "white",
            "linecolor": "white",
            "ticks": ""
           },
           "bgcolor": "#E5ECF6",
           "radialaxis": {
            "gridcolor": "white",
            "linecolor": "white",
            "ticks": ""
           }
          },
          "scene": {
           "xaxis": {
            "backgroundcolor": "#E5ECF6",
            "gridcolor": "white",
            "gridwidth": 2,
            "linecolor": "white",
            "showbackground": true,
            "ticks": "",
            "zerolinecolor": "white"
           },
           "yaxis": {
            "backgroundcolor": "#E5ECF6",
            "gridcolor": "white",
            "gridwidth": 2,
            "linecolor": "white",
            "showbackground": true,
            "ticks": "",
            "zerolinecolor": "white"
           },
           "zaxis": {
            "backgroundcolor": "#E5ECF6",
            "gridcolor": "white",
            "gridwidth": 2,
            "linecolor": "white",
            "showbackground": true,
            "ticks": "",
            "zerolinecolor": "white"
           }
          },
          "shapedefaults": {
           "line": {
            "color": "#2a3f5f"
           }
          },
          "ternary": {
           "aaxis": {
            "gridcolor": "white",
            "linecolor": "white",
            "ticks": ""
           },
           "baxis": {
            "gridcolor": "white",
            "linecolor": "white",
            "ticks": ""
           },
           "bgcolor": "#E5ECF6",
           "caxis": {
            "gridcolor": "white",
            "linecolor": "white",
            "ticks": ""
           }
          },
          "title": {
           "x": 0.05
          },
          "xaxis": {
           "automargin": true,
           "gridcolor": "white",
           "linecolor": "white",
           "ticks": "",
           "title": {
            "standoff": 15
           },
           "zerolinecolor": "white",
           "zerolinewidth": 2
          },
          "yaxis": {
           "automargin": true,
           "gridcolor": "white",
           "linecolor": "white",
           "ticks": "",
           "title": {
            "standoff": 15
           },
           "zerolinecolor": "white",
           "zerolinewidth": 2
          }
         }
        },
        "title": {
         "text": "Total Amount Received Each Month Over Multiple Years"
        },
        "xaxis": {
         "anchor": "y",
         "domain": [
          0,
          1
         ],
         "title": {
          "text": "Month"
         }
        },
        "yaxis": {
         "anchor": "x",
         "domain": [
          0,
          1
         ],
         "title": {
          "text": "Total Amount Received (Crore)"
         }
        }
       }
      },
      "text/html": [
       "<div>                            <div id=\"9eb4960b-6661-40b2-b697-14f2a8519ad9\" class=\"plotly-graph-div\" style=\"height:525px; width:100%;\"></div>            <script type=\"text/javascript\">                require([\"plotly\"], function(Plotly) {                    window.PLOTLYENV=window.PLOTLYENV || {};                                    if (document.getElementById(\"9eb4960b-6661-40b2-b697-14f2a8519ad9\")) {                    Plotly.newPlot(                        \"9eb4960b-6661-40b2-b697-14f2a8519ad9\",                        [{\"customdata\":[[2019],[2021],[2022],[2023],[2022],[2023],[2020],[2023],[2020],[2021],[2022],[2023],[2024],[2019],[2021],[2022],[2023],[2019],[2020],[2022],[2023],[2019],[2020],[2021],[2022],[2023]],\"hovertemplate\":\"Total Amount Received (Crore)=%{y}<extra></extra>\",\"legendgroup\":\"\",\"marker\":{\"color\":[2019,2021,2022,2023,2022,2023,2020,2023,2020,2021,2022,2023,2024,2019,2021,2022,2023,2019,2020,2022,2023,2019,2020,2021,2022,2023],\"coloraxis\":\"coloraxis\",\"symbol\":\"circle\"},\"mode\":\"markers\",\"name\":\"\",\"orientation\":\"v\",\"showlegend\":false,\"x\":[\"April\",\"April\",\"April\",\"April\",\"December\",\"December\",\"February\",\"February\",\"January\",\"January\",\"January\",\"January\",\"January\",\"July\",\"July\",\"July\",\"July\",\"May\",\"November\",\"November\",\"November\",\"October\",\"October\",\"October\",\"October\",\"October\"],\"xaxis\":\"x\",\"y\":[1281.2611,695.34,648.487,970.35,232.1,35.3,3.0,128.3,78.67,42.07,1212.86,180.46,570.05,45.38,150.513,389.5,812.7501,826.5175,113.89,676.2599,970.731,231.93,168.4,614.3395,542.25,1148.3802],\"yaxis\":\"y\",\"type\":\"scatter\"}],                        {\"template\":{\"data\":{\"bar\":[{\"error_x\":{\"color\":\"#2a3f5f\"},\"error_y\":{\"color\":\"#2a3f5f\"},\"marker\":{\"line\":{\"color\":\"#E5ECF6\",\"width\":0.5},\"pattern\":{\"fillmode\":\"overlay\",\"size\":10,\"solidity\":0.2}},\"type\":\"bar\"}],\"barpolar\":[{\"marker\":{\"line\":{\"color\":\"#E5ECF6\",\"width\":0.5},\"pattern\":{\"fillmode\":\"overlay\",\"size\":10,\"solidity\":0.2}},\"type\":\"barpolar\"}],\"carpet\":[{\"aaxis\":{\"endlinecolor\":\"#2a3f5f\",\"gridcolor\":\"white\",\"linecolor\":\"white\",\"minorgridcolor\":\"white\",\"startlinecolor\":\"#2a3f5f\"},\"baxis\":{\"endlinecolor\":\"#2a3f5f\",\"gridcolor\":\"white\",\"linecolor\":\"white\",\"minorgridcolor\":\"white\",\"startlinecolor\":\"#2a3f5f\"},\"type\":\"carpet\"}],\"choropleth\":[{\"colorbar\":{\"outlinewidth\":0,\"ticks\":\"\"},\"type\":\"choropleth\"}],\"contour\":[{\"colorbar\":{\"outlinewidth\":0,\"ticks\":\"\"},\"colorscale\":[[0.0,\"#0d0887\"],[0.1111111111111111,\"#46039f\"],[0.2222222222222222,\"#7201a8\"],[0.3333333333333333,\"#9c179e\"],[0.4444444444444444,\"#bd3786\"],[0.5555555555555556,\"#d8576b\"],[0.6666666666666666,\"#ed7953\"],[0.7777777777777778,\"#fb9f3a\"],[0.8888888888888888,\"#fdca26\"],[1.0,\"#f0f921\"]],\"type\":\"contour\"}],\"contourcarpet\":[{\"colorbar\":{\"outlinewidth\":0,\"ticks\":\"\"},\"type\":\"contourcarpet\"}],\"heatmap\":[{\"colorbar\":{\"outlinewidth\":0,\"ticks\":\"\"},\"colorscale\":[[0.0,\"#0d0887\"],[0.1111111111111111,\"#46039f\"],[0.2222222222222222,\"#7201a8\"],[0.3333333333333333,\"#9c179e\"],[0.4444444444444444,\"#bd3786\"],[0.5555555555555556,\"#d8576b\"],[0.6666666666666666,\"#ed7953\"],[0.7777777777777778,\"#fb9f3a\"],[0.8888888888888888,\"#fdca26\"],[1.0,\"#f0f921\"]],\"type\":\"heatmap\"}],\"heatmapgl\":[{\"colorbar\":{\"outlinewidth\":0,\"ticks\":\"\"},\"colorscale\":[[0.0,\"#0d0887\"],[0.1111111111111111,\"#46039f\"],[0.2222222222222222,\"#7201a8\"],[0.3333333333333333,\"#9c179e\"],[0.4444444444444444,\"#bd3786\"],[0.5555555555555556,\"#d8576b\"],[0.6666666666666666,\"#ed7953\"],[0.7777777777777778,\"#fb9f3a\"],[0.8888888888888888,\"#fdca26\"],[1.0,\"#f0f921\"]],\"type\":\"heatmapgl\"}],\"histogram\":[{\"marker\":{\"pattern\":{\"fillmode\":\"overlay\",\"size\":10,\"solidity\":0.2}},\"type\":\"histogram\"}],\"histogram2d\":[{\"colorbar\":{\"outlinewidth\":0,\"ticks\":\"\"},\"colorscale\":[[0.0,\"#0d0887\"],[0.1111111111111111,\"#46039f\"],[0.2222222222222222,\"#7201a8\"],[0.3333333333333333,\"#9c179e\"],[0.4444444444444444,\"#bd3786\"],[0.5555555555555556,\"#d8576b\"],[0.6666666666666666,\"#ed7953\"],[0.7777777777777778,\"#fb9f3a\"],[0.8888888888888888,\"#fdca26\"],[1.0,\"#f0f921\"]],\"type\":\"histogram2d\"}],\"histogram2dcontour\":[{\"colorbar\":{\"outlinewidth\":0,\"ticks\":\"\"},\"colorscale\":[[0.0,\"#0d0887\"],[0.1111111111111111,\"#46039f\"],[0.2222222222222222,\"#7201a8\"],[0.3333333333333333,\"#9c179e\"],[0.4444444444444444,\"#bd3786\"],[0.5555555555555556,\"#d8576b\"],[0.6666666666666666,\"#ed7953\"],[0.7777777777777778,\"#fb9f3a\"],[0.8888888888888888,\"#fdca26\"],[1.0,\"#f0f921\"]],\"type\":\"histogram2dcontour\"}],\"mesh3d\":[{\"colorbar\":{\"outlinewidth\":0,\"ticks\":\"\"},\"type\":\"mesh3d\"}],\"parcoords\":[{\"line\":{\"colorbar\":{\"outlinewidth\":0,\"ticks\":\"\"}},\"type\":\"parcoords\"}],\"pie\":[{\"automargin\":true,\"type\":\"pie\"}],\"scatter\":[{\"marker\":{\"colorbar\":{\"outlinewidth\":0,\"ticks\":\"\"}},\"type\":\"scatter\"}],\"scatter3d\":[{\"line\":{\"colorbar\":{\"outlinewidth\":0,\"ticks\":\"\"}},\"marker\":{\"colorbar\":{\"outlinewidth\":0,\"ticks\":\"\"}},\"type\":\"scatter3d\"}],\"scattercarpet\":[{\"marker\":{\"colorbar\":{\"outlinewidth\":0,\"ticks\":\"\"}},\"type\":\"scattercarpet\"}],\"scattergeo\":[{\"marker\":{\"colorbar\":{\"outlinewidth\":0,\"ticks\":\"\"}},\"type\":\"scattergeo\"}],\"scattergl\":[{\"marker\":{\"colorbar\":{\"outlinewidth\":0,\"ticks\":\"\"}},\"type\":\"scattergl\"}],\"scattermapbox\":[{\"marker\":{\"colorbar\":{\"outlinewidth\":0,\"ticks\":\"\"}},\"type\":\"scattermapbox\"}],\"scatterpolar\":[{\"marker\":{\"colorbar\":{\"outlinewidth\":0,\"ticks\":\"\"}},\"type\":\"scatterpolar\"}],\"scatterpolargl\":[{\"marker\":{\"colorbar\":{\"outlinewidth\":0,\"ticks\":\"\"}},\"type\":\"scatterpolargl\"}],\"scatterternary\":[{\"marker\":{\"colorbar\":{\"outlinewidth\":0,\"ticks\":\"\"}},\"type\":\"scatterternary\"}],\"surface\":[{\"colorbar\":{\"outlinewidth\":0,\"ticks\":\"\"},\"colorscale\":[[0.0,\"#0d0887\"],[0.1111111111111111,\"#46039f\"],[0.2222222222222222,\"#7201a8\"],[0.3333333333333333,\"#9c179e\"],[0.4444444444444444,\"#bd3786\"],[0.5555555555555556,\"#d8576b\"],[0.6666666666666666,\"#ed7953\"],[0.7777777777777778,\"#fb9f3a\"],[0.8888888888888888,\"#fdca26\"],[1.0,\"#f0f921\"]],\"type\":\"surface\"}],\"table\":[{\"cells\":{\"fill\":{\"color\":\"#EBF0F8\"},\"line\":{\"color\":\"white\"}},\"header\":{\"fill\":{\"color\":\"#C8D4E3\"},\"line\":{\"color\":\"white\"}},\"type\":\"table\"}]},\"layout\":{\"annotationdefaults\":{\"arrowcolor\":\"#2a3f5f\",\"arrowhead\":0,\"arrowwidth\":1},\"autotypenumbers\":\"strict\",\"coloraxis\":{\"colorbar\":{\"outlinewidth\":0,\"ticks\":\"\"}},\"colorscale\":{\"diverging\":[[0,\"#8e0152\"],[0.1,\"#c51b7d\"],[0.2,\"#de77ae\"],[0.3,\"#f1b6da\"],[0.4,\"#fde0ef\"],[0.5,\"#f7f7f7\"],[0.6,\"#e6f5d0\"],[0.7,\"#b8e186\"],[0.8,\"#7fbc41\"],[0.9,\"#4d9221\"],[1,\"#276419\"]],\"sequential\":[[0.0,\"#0d0887\"],[0.1111111111111111,\"#46039f\"],[0.2222222222222222,\"#7201a8\"],[0.3333333333333333,\"#9c179e\"],[0.4444444444444444,\"#bd3786\"],[0.5555555555555556,\"#d8576b\"],[0.6666666666666666,\"#ed7953\"],[0.7777777777777778,\"#fb9f3a\"],[0.8888888888888888,\"#fdca26\"],[1.0,\"#f0f921\"]],\"sequentialminus\":[[0.0,\"#0d0887\"],[0.1111111111111111,\"#46039f\"],[0.2222222222222222,\"#7201a8\"],[0.3333333333333333,\"#9c179e\"],[0.4444444444444444,\"#bd3786\"],[0.5555555555555556,\"#d8576b\"],[0.6666666666666666,\"#ed7953\"],[0.7777777777777778,\"#fb9f3a\"],[0.8888888888888888,\"#fdca26\"],[1.0,\"#f0f921\"]]},\"colorway\":[\"#636efa\",\"#EF553B\",\"#00cc96\",\"#ab63fa\",\"#FFA15A\",\"#19d3f3\",\"#FF6692\",\"#B6E880\",\"#FF97FF\",\"#FECB52\"],\"font\":{\"color\":\"#2a3f5f\"},\"geo\":{\"bgcolor\":\"white\",\"lakecolor\":\"white\",\"landcolor\":\"#E5ECF6\",\"showlakes\":true,\"showland\":true,\"subunitcolor\":\"white\"},\"hoverlabel\":{\"align\":\"left\"},\"hovermode\":\"closest\",\"mapbox\":{\"style\":\"light\"},\"paper_bgcolor\":\"white\",\"plot_bgcolor\":\"#E5ECF6\",\"polar\":{\"angularaxis\":{\"gridcolor\":\"white\",\"linecolor\":\"white\",\"ticks\":\"\"},\"bgcolor\":\"#E5ECF6\",\"radialaxis\":{\"gridcolor\":\"white\",\"linecolor\":\"white\",\"ticks\":\"\"}},\"scene\":{\"xaxis\":{\"backgroundcolor\":\"#E5ECF6\",\"gridcolor\":\"white\",\"gridwidth\":2,\"linecolor\":\"white\",\"showbackground\":true,\"ticks\":\"\",\"zerolinecolor\":\"white\"},\"yaxis\":{\"backgroundcolor\":\"#E5ECF6\",\"gridcolor\":\"white\",\"gridwidth\":2,\"linecolor\":\"white\",\"showbackground\":true,\"ticks\":\"\",\"zerolinecolor\":\"white\"},\"zaxis\":{\"backgroundcolor\":\"#E5ECF6\",\"gridcolor\":\"white\",\"gridwidth\":2,\"linecolor\":\"white\",\"showbackground\":true,\"ticks\":\"\",\"zerolinecolor\":\"white\"}},\"shapedefaults\":{\"line\":{\"color\":\"#2a3f5f\"}},\"ternary\":{\"aaxis\":{\"gridcolor\":\"white\",\"linecolor\":\"white\",\"ticks\":\"\"},\"baxis\":{\"gridcolor\":\"white\",\"linecolor\":\"white\",\"ticks\":\"\"},\"bgcolor\":\"#E5ECF6\",\"caxis\":{\"gridcolor\":\"white\",\"linecolor\":\"white\",\"ticks\":\"\"}},\"title\":{\"x\":0.05},\"xaxis\":{\"automargin\":true,\"gridcolor\":\"white\",\"linecolor\":\"white\",\"ticks\":\"\",\"title\":{\"standoff\":15},\"zerolinecolor\":\"white\",\"zerolinewidth\":2},\"yaxis\":{\"automargin\":true,\"gridcolor\":\"white\",\"linecolor\":\"white\",\"ticks\":\"\",\"title\":{\"standoff\":15},\"zerolinecolor\":\"white\",\"zerolinewidth\":2}}},\"xaxis\":{\"anchor\":\"y\",\"domain\":[0.0,1.0],\"title\":{\"text\":\"Month\"}},\"yaxis\":{\"anchor\":\"x\",\"domain\":[0.0,1.0],\"title\":{\"text\":\"Total Amount Received (Crore)\"}},\"coloraxis\":{\"colorbar\":{\"title\":{\"text\":\"Year\"}},\"colorscale\":[[0.0,\"#0d0887\"],[0.1111111111111111,\"#46039f\"],[0.2222222222222222,\"#7201a8\"],[0.3333333333333333,\"#9c179e\"],[0.4444444444444444,\"#bd3786\"],[0.5555555555555556,\"#d8576b\"],[0.6666666666666666,\"#ed7953\"],[0.7777777777777778,\"#fb9f3a\"],[0.8888888888888888,\"#fdca26\"],[1.0,\"#f0f921\"]]},\"legend\":{\"tracegroupgap\":0},\"title\":{\"text\":\"Total Amount Received Each Month Over Multiple Years\"}},                        {\"responsive\": true}                    ).then(function(){\n",
       "                            \n",
       "var gd = document.getElementById('9eb4960b-6661-40b2-b697-14f2a8519ad9');\n",
       "var x = new MutationObserver(function (mutations, observer) {{\n",
       "        var display = window.getComputedStyle(gd).display;\n",
       "        if (!display || display === 'none') {{\n",
       "            console.log([gd, 'removed!']);\n",
       "            Plotly.purge(gd);\n",
       "            observer.disconnect();\n",
       "        }}\n",
       "}});\n",
       "\n",
       "// Listen for the removal of the full notebook cells\n",
       "var notebookContainer = gd.closest('#notebook-container');\n",
       "if (notebookContainer) {{\n",
       "    x.observe(notebookContainer, {childList: true});\n",
       "}}\n",
       "\n",
       "// Listen for the clearing of the current output cell\n",
       "var outputEl = gd.closest('.output');\n",
       "if (outputEl) {{\n",
       "    x.observe(outputEl, {childList: true});\n",
       "}}\n",
       "\n",
       "                        })                };                });            </script>        </div>"
      ]
     },
     "metadata": {},
     "output_type": "display_data"
    }
   ],
   "source": [
    "# Reset the index to ensure it's a RangeIndex\n",
    "df1.reset_index(inplace=True)\n",
    "\n",
    "# Extract the year and month from the 'Date of Encashment' column\n",
    "df1['Year'] = df1['Date of Encashment'].dt.year\n",
    "df1['Month'] = df1['Date of Encashment'].dt.month_name()\n",
    "\n",
    "# Create a pivot table to aggregate the data by month and year\n",
    "pivot_table = df1.pivot_table(index='Month', columns='Year', values='Denomination(Crore)', aggfunc='sum')\n",
    "\n",
    "# Reshape the pivot table for Plotly scatter plot\n",
    "scatter_df = pivot_table.stack().reset_index()\n",
    "scatter_df.columns = ['Month', 'Year', 'Amount']\n",
    "\n",
    "# Create an interactive scatter plot using Plotly\n",
    "fig = px.scatter(scatter_df, x='Month', y='Amount', color='Year', title='Total Amount Received Each Month Over Multiple Years',\n",
    "                 labels={'Amount': 'Total Amount Received (Crore)'}, hover_data={'Year': False, 'Month': False})\n",
    "\n",
    "fig.show()\n"
   ]
  },
  {
   "cell_type": "markdown",
   "id": "f75dd469",
   "metadata": {},
   "source": [
    "## The top 10 political parties "
   ]
  },
  {
   "cell_type": "code",
   "execution_count": 52,
   "id": "2f1c326f",
   "metadata": {},
   "outputs": [
    {
     "name": "stdout",
     "output_type": "stream",
     "text": [
      "               Name of the Political Party Party_Acronym  Denomination(Crore)\n",
      "0                     BHARTIYA JANTA PARTY           BJP              6060.51\n",
      "1             ALL INDIA TRINAMOOL CONGRESS          AITC              1609.53\n",
      "2  PRESIDENT, ALL INDIA CONGRESS COMMITTEE         PAICC              1421.87\n",
      "3                   BHARAT RASHTRA SAMITHI           BRS              1214.71\n",
      "4                          BIJU JANATA DAL           BJD               775.50\n",
      "5                  DMK PARTY IN PARLIAMENT          DPIP               639.00\n",
      "6   YSR CONGRESS PARTY (YUVAJANA SRAMIKA R        YCP(SR               337.00\n",
      "7                       TELUGU DESAM PARTY           TDP               218.88\n",
      "8               SHIVSENA (POLITICAL PARTY)           S(P               158.38\n",
      "9                       RASTRIYA JANTA DAL           RJD                72.50\n"
     ]
    }
   ],
   "source": [
    "# Group by 'Name of the Political Party' and calculate total denomination amount\n",
    "party_denomination = df1.groupby(['Name of the Political Party','Party_Acronym'])['Denomination(Crore)'].sum()\n",
    "\n",
    "# Get the top 20 political parties\n",
    "top_10_parties = party_denomination.nlargest(10)\n",
    "\n",
    "#reset index\n",
    "top_10_parties = top_10_parties.reset_index()\n",
    "\n",
    "# Display the top 20 political parties\n",
    "print(top_10_parties)\n"
   ]
  },
  {
   "cell_type": "markdown",
   "id": "21050860",
   "metadata": {},
   "source": [
    "## Top 10 Political Parties by Total Denomination"
   ]
  },
  {
   "cell_type": "code",
   "execution_count": 53,
   "id": "f01a3dcb",
   "metadata": {},
   "outputs": [
    {
     "data": {
      "image/png": "[encoded data removed]",
      "text/plain": [
       "<Figure size 1008x432 with 1 Axes>"
      ]
     },
     "metadata": {
      "needs_background": "light"
     },
     "output_type": "display_data"
    }
   ],
   "source": [
    "# Create a bar plot for the top 10 political parties\n",
    "plt.figure(figsize=(14,6))\n",
    "sns.barplot(x='Denomination(Crore)', y='Name of the Political Party', data=top_10_parties, palette='plasma_r')\n",
    "plt.xlabel('Total Denomination (Crore)')\n",
    "plt.ylabel('Political Party')\n",
    "plt.title('Top 10 Political Parties by Total Denomination')\n",
    "plt.xticks(rotation=45)\n",
    "\n",
    "# Add value labels above the bars\n",
    "for index, row in top_10_parties.iterrows():\n",
    "    plt.text(row['Denomination(Crore)'], index, f\"{row['Denomination(Crore)']:.2f}\", color='black', ha=\"left\", va=\"baseline\")\n",
    "\n",
    "plt.tight_layout()\n",
    "plt.show()"
   ]
  },
  {
   "cell_type": "code",
   "execution_count": null,
   "id": "070135f1",
   "metadata": {},
   "outputs": [],
   "source": []
  },
  {
   "cell_type": "code",
   "execution_count": 54,
   "id": "9771a656",
   "metadata": {},
   "outputs": [
    {
     "data": {
      "text/html": [
       "<div>\n",
       "<style scoped>\n",
       "    .dataframe tbody tr th:only-of-type {\n",
       "        vertical-align: middle;\n",
       "    }\n",
       "\n",
       "    .dataframe tbody tr th {\n",
       "        vertical-align: top;\n",
       "    }\n",
       "\n",
       "    .dataframe thead th {\n",
       "        text-align: right;\n",
       "    }\n",
       "</style>\n",
       "<table border=\"1\" class=\"dataframe\">\n",
       "  <thead>\n",
       "    <tr style=\"text-align: right;\">\n",
       "      <th></th>\n",
       "      <th>Name of the Political Party</th>\n",
       "      <th>Party_Acronym</th>\n",
       "      <th>Receive Count</th>\n",
       "    </tr>\n",
       "  </thead>\n",
       "  <tbody>\n",
       "    <tr>\n",
       "      <th>0</th>\n",
       "      <td>BHARTIYA JANTA PARTY</td>\n",
       "      <td>BJP</td>\n",
       "      <td>8633</td>\n",
       "    </tr>\n",
       "    <tr>\n",
       "      <th>1</th>\n",
       "      <td>ALL INDIA TRINAMOOL CONGRESS</td>\n",
       "      <td>AITC</td>\n",
       "      <td>3305</td>\n",
       "    </tr>\n",
       "    <tr>\n",
       "      <th>2</th>\n",
       "      <td>PRESIDENT, ALL INDIA CONGRESS COMMITTEE</td>\n",
       "      <td>PAICC</td>\n",
       "      <td>3146</td>\n",
       "    </tr>\n",
       "    <tr>\n",
       "      <th>3</th>\n",
       "      <td>BHARAT RASHTRA SAMITHI</td>\n",
       "      <td>BRS</td>\n",
       "      <td>1806</td>\n",
       "    </tr>\n",
       "    <tr>\n",
       "      <th>4</th>\n",
       "      <td>BIJU JANATA DAL</td>\n",
       "      <td>BJD</td>\n",
       "      <td>861</td>\n",
       "    </tr>\n",
       "    <tr>\n",
       "      <th>5</th>\n",
       "      <td>DMK PARTY IN PARLIAMENT</td>\n",
       "      <td>DPIP</td>\n",
       "      <td>648</td>\n",
       "    </tr>\n",
       "    <tr>\n",
       "      <th>6</th>\n",
       "      <td>YSR CONGRESS PARTY (YUVAJANA SRAMIKA R</td>\n",
       "      <td>YCP(SR</td>\n",
       "      <td>472</td>\n",
       "    </tr>\n",
       "    <tr>\n",
       "      <th>7</th>\n",
       "      <td>SHIVSENA (POLITICAL PARTY)</td>\n",
       "      <td>S(P</td>\n",
       "      <td>354</td>\n",
       "    </tr>\n",
       "    <tr>\n",
       "      <th>8</th>\n",
       "      <td>TELUGU DESAM PARTY</td>\n",
       "      <td>TDP</td>\n",
       "      <td>279</td>\n",
       "    </tr>\n",
       "    <tr>\n",
       "      <th>9</th>\n",
       "      <td>AAM AADMI PARTY</td>\n",
       "      <td>AAP</td>\n",
       "      <td>245</td>\n",
       "    </tr>\n",
       "    <tr>\n",
       "      <th>10</th>\n",
       "      <td>RASTRIYA JANTA DAL</td>\n",
       "      <td>RJD</td>\n",
       "      <td>149</td>\n",
       "    </tr>\n",
       "    <tr>\n",
       "      <th>11</th>\n",
       "      <td>NATIONALIST CONGRESS PARTY PARLIAMENT OF</td>\n",
       "      <td>NCPPO</td>\n",
       "      <td>116</td>\n",
       "    </tr>\n",
       "    <tr>\n",
       "      <th>12</th>\n",
       "      <td>JANATA DAL ( SECULAR )</td>\n",
       "      <td>JD(S)</td>\n",
       "      <td>75</td>\n",
       "    </tr>\n",
       "    <tr>\n",
       "      <th>13</th>\n",
       "      <td>SIKKIM KRANTIKARI MORCHA</td>\n",
       "      <td>SKM</td>\n",
       "      <td>50</td>\n",
       "    </tr>\n",
       "    <tr>\n",
       "      <th>14</th>\n",
       "      <td>ADYAKSHA SAMAJVADI PARTY</td>\n",
       "      <td>ASP</td>\n",
       "      <td>46</td>\n",
       "    </tr>\n",
       "    <tr>\n",
       "      <th>15</th>\n",
       "      <td>JHARKHAND MUKTI MORCHA</td>\n",
       "      <td>JMM</td>\n",
       "      <td>45</td>\n",
       "    </tr>\n",
       "    <tr>\n",
       "      <th>16</th>\n",
       "      <td>JANASENA PARTY</td>\n",
       "      <td>JP</td>\n",
       "      <td>39</td>\n",
       "    </tr>\n",
       "    <tr>\n",
       "      <th>17</th>\n",
       "      <td>ALL INDIA ANNA DRAVIDA MUNNETRA KAZHAGAM</td>\n",
       "      <td>AIADMK</td>\n",
       "      <td>38</td>\n",
       "    </tr>\n",
       "    <tr>\n",
       "      <th>18</th>\n",
       "      <td>SHIROMANI AKALI DAL</td>\n",
       "      <td>SAD</td>\n",
       "      <td>33</td>\n",
       "    </tr>\n",
       "    <tr>\n",
       "      <th>19</th>\n",
       "      <td>MAHARASHTRAWADI GOMNTAK PARTY</td>\n",
       "      <td>MGP</td>\n",
       "      <td>28</td>\n",
       "    </tr>\n",
       "    <tr>\n",
       "      <th>20</th>\n",
       "      <td>GOA FORWARD PARTY</td>\n",
       "      <td>GFP</td>\n",
       "      <td>17</td>\n",
       "    </tr>\n",
       "    <tr>\n",
       "      <th>21</th>\n",
       "      <td>BIHAR PRADESH JANTA DAL(UNITED)</td>\n",
       "      <td>BPJD</td>\n",
       "      <td>14</td>\n",
       "    </tr>\n",
       "    <tr>\n",
       "      <th>22</th>\n",
       "      <td>SIKKIM DEMOCRATIC FRONT</td>\n",
       "      <td>SDF</td>\n",
       "      <td>10</td>\n",
       "    </tr>\n",
       "    <tr>\n",
       "      <th>23</th>\n",
       "      <td>JAMMU AND KASHMIR NATIONAL CONFERENCE</td>\n",
       "      <td>JAKNC</td>\n",
       "      <td>5</td>\n",
       "    </tr>\n",
       "    <tr>\n",
       "      <th>24</th>\n",
       "      <td>NATIONALIST CONGRESS PARTY MAHARASHTRA PRADESH</td>\n",
       "      <td>NCPMP</td>\n",
       "      <td>5</td>\n",
       "    </tr>\n",
       "    <tr>\n",
       "      <th>25</th>\n",
       "      <td>SHIVSENA</td>\n",
       "      <td>S</td>\n",
       "      <td>1</td>\n",
       "    </tr>\n",
       "    <tr>\n",
       "      <th>26</th>\n",
       "      <td>RASHTRIYA JANTA DAL</td>\n",
       "      <td>RJD</td>\n",
       "      <td>1</td>\n",
       "    </tr>\n",
       "  </tbody>\n",
       "</table>\n",
       "</div>"
      ],
      "text/plain": [
       "                       Name of the Political Party Party_Acronym  \\\n",
       "0                             BHARTIYA JANTA PARTY           BJP   \n",
       "1                     ALL INDIA TRINAMOOL CONGRESS          AITC   \n",
       "2          PRESIDENT, ALL INDIA CONGRESS COMMITTEE         PAICC   \n",
       "3                           BHARAT RASHTRA SAMITHI           BRS   \n",
       "4                                  BIJU JANATA DAL           BJD   \n",
       "5                          DMK PARTY IN PARLIAMENT          DPIP   \n",
       "6           YSR CONGRESS PARTY (YUVAJANA SRAMIKA R        YCP(SR   \n",
       "7                       SHIVSENA (POLITICAL PARTY)           S(P   \n",
       "8                               TELUGU DESAM PARTY           TDP   \n",
       "9                                  AAM AADMI PARTY           AAP   \n",
       "10                              RASTRIYA JANTA DAL           RJD   \n",
       "11        NATIONALIST CONGRESS PARTY PARLIAMENT OF         NCPPO   \n",
       "12                          JANATA DAL ( SECULAR )         JD(S)   \n",
       "13                        SIKKIM KRANTIKARI MORCHA           SKM   \n",
       "14                        ADYAKSHA SAMAJVADI PARTY           ASP   \n",
       "15                          JHARKHAND MUKTI MORCHA           JMM   \n",
       "16                                  JANASENA PARTY            JP   \n",
       "17        ALL INDIA ANNA DRAVIDA MUNNETRA KAZHAGAM        AIADMK   \n",
       "18                             SHIROMANI AKALI DAL           SAD   \n",
       "19                   MAHARASHTRAWADI GOMNTAK PARTY           MGP   \n",
       "20                               GOA FORWARD PARTY           GFP   \n",
       "21                 BIHAR PRADESH JANTA DAL(UNITED)          BPJD   \n",
       "22                         SIKKIM DEMOCRATIC FRONT           SDF   \n",
       "23           JAMMU AND KASHMIR NATIONAL CONFERENCE         JAKNC   \n",
       "24  NATIONALIST CONGRESS PARTY MAHARASHTRA PRADESH         NCPMP   \n",
       "25                                        SHIVSENA             S   \n",
       "26                             RASHTRIYA JANTA DAL           RJD   \n",
       "\n",
       "    Receive Count  \n",
       "0            8633  \n",
       "1            3305  \n",
       "2            3146  \n",
       "3            1806  \n",
       "4             861  \n",
       "5             648  \n",
       "6             472  \n",
       "7             354  \n",
       "8             279  \n",
       "9             245  \n",
       "10            149  \n",
       "11            116  \n",
       "12             75  \n",
       "13             50  \n",
       "14             46  \n",
       "15             45  \n",
       "16             39  \n",
       "17             38  \n",
       "18             33  \n",
       "19             28  \n",
       "20             17  \n",
       "21             14  \n",
       "22             10  \n",
       "23              5  \n",
       "24              5  \n",
       "25              1  \n",
       "26              1  "
      ]
     },
     "execution_count": 54,
     "metadata": {},
     "output_type": "execute_result"
    }
   ],
   "source": [
    "# Group by 'Name of the Political Party' and 'Party_Acronym' and count the number of Bond Recived\n",
    "party_count = df1.groupby(['Name of the Political Party', 'Party_Acronym']).size()\n",
    "\n",
    "# Sort the party_count Series by count in descending order\n",
    "party_count = party_count.sort_values(ascending=False)\n",
    "\n",
    "# Reset index to make 'Name of the Political Party' and 'Party_Acronym' columns accessible for plotting\n",
    "party_count = party_count.reset_index(name='Receive Count')\n",
    "\n",
    "party_count"
   ]
  },
  {
   "cell_type": "code",
   "execution_count": 55,
   "id": "5ce7c0db",
   "metadata": {
    "scrolled": true
   },
   "outputs": [
    {
     "data": {
      "text/html": [
       "<div>\n",
       "<style scoped>\n",
       "    .dataframe tbody tr th:only-of-type {\n",
       "        vertical-align: middle;\n",
       "    }\n",
       "\n",
       "    .dataframe tbody tr th {\n",
       "        vertical-align: top;\n",
       "    }\n",
       "\n",
       "    .dataframe thead th {\n",
       "        text-align: right;\n",
       "    }\n",
       "</style>\n",
       "<table border=\"1\" class=\"dataframe\">\n",
       "  <thead>\n",
       "    <tr style=\"text-align: right;\">\n",
       "      <th></th>\n",
       "      <th>Name of the Political Party</th>\n",
       "      <th>Party_Acronym</th>\n",
       "      <th>Receive Count</th>\n",
       "    </tr>\n",
       "  </thead>\n",
       "  <tbody>\n",
       "    <tr>\n",
       "      <th>0</th>\n",
       "      <td>BHARTIYA JANTA PARTY</td>\n",
       "      <td>BJP</td>\n",
       "      <td>8633</td>\n",
       "    </tr>\n",
       "    <tr>\n",
       "      <th>1</th>\n",
       "      <td>ALL INDIA TRINAMOOL CONGRESS</td>\n",
       "      <td>AITC</td>\n",
       "      <td>3305</td>\n",
       "    </tr>\n",
       "    <tr>\n",
       "      <th>2</th>\n",
       "      <td>PRESIDENT, ALL INDIA CONGRESS COMMITTEE</td>\n",
       "      <td>PAICC</td>\n",
       "      <td>3146</td>\n",
       "    </tr>\n",
       "    <tr>\n",
       "      <th>3</th>\n",
       "      <td>BHARAT RASHTRA SAMITHI</td>\n",
       "      <td>BRS</td>\n",
       "      <td>1806</td>\n",
       "    </tr>\n",
       "    <tr>\n",
       "      <th>4</th>\n",
       "      <td>BIJU JANATA DAL</td>\n",
       "      <td>BJD</td>\n",
       "      <td>861</td>\n",
       "    </tr>\n",
       "    <tr>\n",
       "      <th>5</th>\n",
       "      <td>DMK PARTY IN PARLIAMENT</td>\n",
       "      <td>DPIP</td>\n",
       "      <td>648</td>\n",
       "    </tr>\n",
       "    <tr>\n",
       "      <th>6</th>\n",
       "      <td>YSR CONGRESS PARTY (YUVAJANA SRAMIKA R</td>\n",
       "      <td>YCP(SR</td>\n",
       "      <td>472</td>\n",
       "    </tr>\n",
       "    <tr>\n",
       "      <th>7</th>\n",
       "      <td>SHIVSENA (POLITICAL PARTY)</td>\n",
       "      <td>S(P</td>\n",
       "      <td>354</td>\n",
       "    </tr>\n",
       "    <tr>\n",
       "      <th>8</th>\n",
       "      <td>TELUGU DESAM PARTY</td>\n",
       "      <td>TDP</td>\n",
       "      <td>279</td>\n",
       "    </tr>\n",
       "    <tr>\n",
       "      <th>9</th>\n",
       "      <td>AAM AADMI PARTY</td>\n",
       "      <td>AAP</td>\n",
       "      <td>245</td>\n",
       "    </tr>\n",
       "  </tbody>\n",
       "</table>\n",
       "</div>"
      ],
      "text/plain": [
       "               Name of the Political Party Party_Acronym  Receive Count\n",
       "0                     BHARTIYA JANTA PARTY           BJP           8633\n",
       "1             ALL INDIA TRINAMOOL CONGRESS          AITC           3305\n",
       "2  PRESIDENT, ALL INDIA CONGRESS COMMITTEE         PAICC           3146\n",
       "3                   BHARAT RASHTRA SAMITHI           BRS           1806\n",
       "4                          BIJU JANATA DAL           BJD            861\n",
       "5                  DMK PARTY IN PARLIAMENT          DPIP            648\n",
       "6   YSR CONGRESS PARTY (YUVAJANA SRAMIKA R        YCP(SR            472\n",
       "7               SHIVSENA (POLITICAL PARTY)           S(P            354\n",
       "8                       TELUGU DESAM PARTY           TDP            279\n",
       "9                          AAM AADMI PARTY           AAP            245"
      ]
     },
     "execution_count": 55,
     "metadata": {},
     "output_type": "execute_result"
    }
   ],
   "source": [
    "# Get the top 10 parties by count\n",
    "party_count.head(10)"
   ]
  },
  {
   "cell_type": "markdown",
   "id": "27c22f37",
   "metadata": {},
   "source": [
    "## Top 10 Parties by Number of Electoral Bonds Received"
   ]
  },
  {
   "cell_type": "code",
   "execution_count": 56,
   "id": "95460481",
   "metadata": {},
   "outputs": [
    {
     "data": {
      "image/png": "[encoded data removed]",
      "text/plain": [
       "<Figure size 864x576 with 1 Axes>"
      ]
     },
     "metadata": {
      "needs_background": "light"
     },
     "output_type": "display_data"
    }
   ],
   "source": [
    "# Group by 'Name of the Political Party' and 'Party_Acronym' and count the number of occurrences\n",
    "party_count = df1.groupby(['Name of the Political Party', 'Party_Acronym']).size()\n",
    "\n",
    "# Get the top 10 parties by count\n",
    "top_10_parties = party_count.nlargest(10)\n",
    "\n",
    "# Reset index to make 'Name of the Political Party' and 'Party_Acronym' columns accessible for plotting\n",
    "top_10_parties = top_10_parties.reset_index(name='Count')\n",
    "\n",
    "# Create a bar plot for the count of Electoral Bonds received by the top 10 parties\n",
    "plt.figure(figsize=(12, 8))\n",
    "sns.barplot(x='Count', y='Name of the Political Party', data=top_10_parties, palette='plasma_r')\n",
    "plt.xlabel('Number of Electoral Bonds Received')\n",
    "plt.ylabel('Political Party')\n",
    "plt.title('Top 10 Parties by Number of Electoral Bonds Received')\n",
    "plt.xticks(rotation=45)\n",
    "\n",
    "# Add value labels above the bars\n",
    "for index, row in top_10_parties.iterrows():\n",
    "    plt.text(row['Count'], index, str(row['Count']), color='black', ha=\"left\", va=\"center\")\n",
    "\n",
    "plt.tight_layout()\n",
    "plt.show()"
   ]
  },
  {
   "cell_type": "code",
   "execution_count": 57,
   "id": "1dc84bee",
   "metadata": {},
   "outputs": [
    {
     "data": {
      "text/html": [
       "<div>\n",
       "<style scoped>\n",
       "    .dataframe tbody tr th:only-of-type {\n",
       "        vertical-align: middle;\n",
       "    }\n",
       "\n",
       "    .dataframe tbody tr th {\n",
       "        vertical-align: top;\n",
       "    }\n",
       "\n",
       "    .dataframe thead th {\n",
       "        text-align: right;\n",
       "    }\n",
       "</style>\n",
       "<table border=\"1\" class=\"dataframe\">\n",
       "  <thead>\n",
       "    <tr style=\"text-align: right;\">\n",
       "      <th></th>\n",
       "      <th>Name of the Political Party</th>\n",
       "      <th>Party_Acronym</th>\n",
       "      <th>Year</th>\n",
       "      <th>Denomination(Crore)</th>\n",
       "    </tr>\n",
       "  </thead>\n",
       "  <tbody>\n",
       "    <tr>\n",
       "      <th>0</th>\n",
       "      <td>ALL INDIA TRINAMOOL CONGRESS</td>\n",
       "      <td>AITC</td>\n",
       "      <td>2019</td>\n",
       "      <td>87.09</td>\n",
       "    </tr>\n",
       "    <tr>\n",
       "      <th>1</th>\n",
       "      <td>ALL INDIA TRINAMOOL CONGRESS</td>\n",
       "      <td>AITC</td>\n",
       "      <td>2020</td>\n",
       "      <td>29.77</td>\n",
       "    </tr>\n",
       "    <tr>\n",
       "      <th>2</th>\n",
       "      <td>ALL INDIA TRINAMOOL CONGRESS</td>\n",
       "      <td>AITC</td>\n",
       "      <td>2021</td>\n",
       "      <td>330.94</td>\n",
       "    </tr>\n",
       "    <tr>\n",
       "      <th>3</th>\n",
       "      <td>ALL INDIA TRINAMOOL CONGRESS</td>\n",
       "      <td>AITC</td>\n",
       "      <td>2022</td>\n",
       "      <td>468.80</td>\n",
       "    </tr>\n",
       "    <tr>\n",
       "      <th>4</th>\n",
       "      <td>ALL INDIA TRINAMOOL CONGRESS</td>\n",
       "      <td>AITC</td>\n",
       "      <td>2023</td>\n",
       "      <td>562.47</td>\n",
       "    </tr>\n",
       "    <tr>\n",
       "      <th>5</th>\n",
       "      <td>ALL INDIA TRINAMOOL CONGRESS</td>\n",
       "      <td>AITC</td>\n",
       "      <td>2024</td>\n",
       "      <td>130.45</td>\n",
       "    </tr>\n",
       "    <tr>\n",
       "      <th>6</th>\n",
       "      <td>BHARAT RASHTRA SAMITHI</td>\n",
       "      <td>BRS</td>\n",
       "      <td>2019</td>\n",
       "      <td>37.15</td>\n",
       "    </tr>\n",
       "    <tr>\n",
       "      <th>7</th>\n",
       "      <td>BHARAT RASHTRA SAMITHI</td>\n",
       "      <td>BRS</td>\n",
       "      <td>2021</td>\n",
       "      <td>153.00</td>\n",
       "    </tr>\n",
       "    <tr>\n",
       "      <th>8</th>\n",
       "      <td>BHARAT RASHTRA SAMITHI</td>\n",
       "      <td>BRS</td>\n",
       "      <td>2022</td>\n",
       "      <td>528.99</td>\n",
       "    </tr>\n",
       "    <tr>\n",
       "      <th>9</th>\n",
       "      <td>BHARAT RASHTRA SAMITHI</td>\n",
       "      <td>BRS</td>\n",
       "      <td>2023</td>\n",
       "      <td>495.57</td>\n",
       "    </tr>\n",
       "    <tr>\n",
       "      <th>10</th>\n",
       "      <td>BHARTIYA JANTA PARTY</td>\n",
       "      <td>BJP</td>\n",
       "      <td>2019</td>\n",
       "      <td>1971.75</td>\n",
       "    </tr>\n",
       "    <tr>\n",
       "      <th>11</th>\n",
       "      <td>BHARTIYA JANTA PARTY</td>\n",
       "      <td>BJP</td>\n",
       "      <td>2020</td>\n",
       "      <td>73.89</td>\n",
       "    </tr>\n",
       "    <tr>\n",
       "      <th>12</th>\n",
       "      <td>BHARTIYA JANTA PARTY</td>\n",
       "      <td>BJP</td>\n",
       "      <td>2021</td>\n",
       "      <td>373.00</td>\n",
       "    </tr>\n",
       "    <tr>\n",
       "      <th>13</th>\n",
       "      <td>BHARTIYA JANTA PARTY</td>\n",
       "      <td>BJP</td>\n",
       "      <td>2022</td>\n",
       "      <td>1763.55</td>\n",
       "    </tr>\n",
       "    <tr>\n",
       "      <th>14</th>\n",
       "      <td>BHARTIYA JANTA PARTY</td>\n",
       "      <td>BJP</td>\n",
       "      <td>2023</td>\n",
       "      <td>1676.33</td>\n",
       "    </tr>\n",
       "    <tr>\n",
       "      <th>15</th>\n",
       "      <td>BHARTIYA JANTA PARTY</td>\n",
       "      <td>BJP</td>\n",
       "      <td>2024</td>\n",
       "      <td>202.00</td>\n",
       "    </tr>\n",
       "    <tr>\n",
       "      <th>16</th>\n",
       "      <td>BIJU JANATA DAL</td>\n",
       "      <td>BJD</td>\n",
       "      <td>2019</td>\n",
       "      <td>10.00</td>\n",
       "    </tr>\n",
       "    <tr>\n",
       "      <th>17</th>\n",
       "      <td>BIJU JANATA DAL</td>\n",
       "      <td>BJD</td>\n",
       "      <td>2020</td>\n",
       "      <td>77.00</td>\n",
       "    </tr>\n",
       "    <tr>\n",
       "      <th>18</th>\n",
       "      <td>BIJU JANATA DAL</td>\n",
       "      <td>BJD</td>\n",
       "      <td>2021</td>\n",
       "      <td>241.00</td>\n",
       "    </tr>\n",
       "    <tr>\n",
       "      <th>19</th>\n",
       "      <td>BIJU JANATA DAL</td>\n",
       "      <td>BJD</td>\n",
       "      <td>2022</td>\n",
       "      <td>195.00</td>\n",
       "    </tr>\n",
       "    <tr>\n",
       "      <th>20</th>\n",
       "      <td>BIJU JANATA DAL</td>\n",
       "      <td>BJD</td>\n",
       "      <td>2023</td>\n",
       "      <td>252.50</td>\n",
       "    </tr>\n",
       "    <tr>\n",
       "      <th>21</th>\n",
       "      <td>PRESIDENT, ALL INDIA CONGRESS COMMITTEE</td>\n",
       "      <td>PAICC</td>\n",
       "      <td>2019</td>\n",
       "      <td>170.31</td>\n",
       "    </tr>\n",
       "    <tr>\n",
       "      <th>22</th>\n",
       "      <td>PRESIDENT, ALL INDIA CONGRESS COMMITTEE</td>\n",
       "      <td>PAICC</td>\n",
       "      <td>2020</td>\n",
       "      <td>9.00</td>\n",
       "    </tr>\n",
       "    <tr>\n",
       "      <th>23</th>\n",
       "      <td>PRESIDENT, ALL INDIA CONGRESS COMMITTEE</td>\n",
       "      <td>PAICC</td>\n",
       "      <td>2021</td>\n",
       "      <td>123.92</td>\n",
       "    </tr>\n",
       "    <tr>\n",
       "      <th>24</th>\n",
       "      <td>PRESIDENT, ALL INDIA CONGRESS COMMITTEE</td>\n",
       "      <td>PAICC</td>\n",
       "      <td>2022</td>\n",
       "      <td>289.36</td>\n",
       "    </tr>\n",
       "    <tr>\n",
       "      <th>25</th>\n",
       "      <td>PRESIDENT, ALL INDIA CONGRESS COMMITTEE</td>\n",
       "      <td>PAICC</td>\n",
       "      <td>2023</td>\n",
       "      <td>793.37</td>\n",
       "    </tr>\n",
       "    <tr>\n",
       "      <th>26</th>\n",
       "      <td>PRESIDENT, ALL INDIA CONGRESS COMMITTEE</td>\n",
       "      <td>PAICC</td>\n",
       "      <td>2024</td>\n",
       "      <td>35.90</td>\n",
       "    </tr>\n",
       "  </tbody>\n",
       "</table>\n",
       "</div>"
      ],
      "text/plain": [
       "                Name of the Political Party Party_Acronym  Year  \\\n",
       "0              ALL INDIA TRINAMOOL CONGRESS          AITC  2019   \n",
       "1              ALL INDIA TRINAMOOL CONGRESS          AITC  2020   \n",
       "2              ALL INDIA TRINAMOOL CONGRESS          AITC  2021   \n",
       "3              ALL INDIA TRINAMOOL CONGRESS          AITC  2022   \n",
       "4              ALL INDIA TRINAMOOL CONGRESS          AITC  2023   \n",
       "5              ALL INDIA TRINAMOOL CONGRESS          AITC  2024   \n",
       "6                    BHARAT RASHTRA SAMITHI           BRS  2019   \n",
       "7                    BHARAT RASHTRA SAMITHI           BRS  2021   \n",
       "8                    BHARAT RASHTRA SAMITHI           BRS  2022   \n",
       "9                    BHARAT RASHTRA SAMITHI           BRS  2023   \n",
       "10                     BHARTIYA JANTA PARTY           BJP  2019   \n",
       "11                     BHARTIYA JANTA PARTY           BJP  2020   \n",
       "12                     BHARTIYA JANTA PARTY           BJP  2021   \n",
       "13                     BHARTIYA JANTA PARTY           BJP  2022   \n",
       "14                     BHARTIYA JANTA PARTY           BJP  2023   \n",
       "15                     BHARTIYA JANTA PARTY           BJP  2024   \n",
       "16                          BIJU JANATA DAL           BJD  2019   \n",
       "17                          BIJU JANATA DAL           BJD  2020   \n",
       "18                          BIJU JANATA DAL           BJD  2021   \n",
       "19                          BIJU JANATA DAL           BJD  2022   \n",
       "20                          BIJU JANATA DAL           BJD  2023   \n",
       "21  PRESIDENT, ALL INDIA CONGRESS COMMITTEE         PAICC  2019   \n",
       "22  PRESIDENT, ALL INDIA CONGRESS COMMITTEE         PAICC  2020   \n",
       "23  PRESIDENT, ALL INDIA CONGRESS COMMITTEE         PAICC  2021   \n",
       "24  PRESIDENT, ALL INDIA CONGRESS COMMITTEE         PAICC  2022   \n",
       "25  PRESIDENT, ALL INDIA CONGRESS COMMITTEE         PAICC  2023   \n",
       "26  PRESIDENT, ALL INDIA CONGRESS COMMITTEE         PAICC  2024   \n",
       "\n",
       "    Denomination(Crore)  \n",
       "0                 87.09  \n",
       "1                 29.77  \n",
       "2                330.94  \n",
       "3                468.80  \n",
       "4                562.47  \n",
       "5                130.45  \n",
       "6                 37.15  \n",
       "7                153.00  \n",
       "8                528.99  \n",
       "9                495.57  \n",
       "10              1971.75  \n",
       "11                73.89  \n",
       "12               373.00  \n",
       "13              1763.55  \n",
       "14              1676.33  \n",
       "15               202.00  \n",
       "16                10.00  \n",
       "17                77.00  \n",
       "18               241.00  \n",
       "19               195.00  \n",
       "20               252.50  \n",
       "21               170.31  \n",
       "22                 9.00  \n",
       "23               123.92  \n",
       "24               289.36  \n",
       "25               793.37  \n",
       "26                35.90  "
      ]
     },
     "execution_count": 57,
     "metadata": {},
     "output_type": "execute_result"
    }
   ],
   "source": [
    "# Group by 'Name of the Political Party' and 'Party_Acronym' and calculate total denomination amount\n",
    "party_denomination = df1.groupby(['Name of the Political Party', 'Party_Acronym', 'Year'])['Denomination(Crore)'].sum()\n",
    "\n",
    "# Get the top 5 political parties by total denomination amount\n",
    "top_5_parties = party_denomination.groupby(['Name of the Political Party', 'Party_Acronym']).sum().nlargest(5).index.get_level_values(1)\n",
    "\n",
    "# Filter the data to include only the top 5 parties\n",
    "top_5_party_denomination = party_denomination[party_denomination.index.get_level_values(1).isin(top_5_parties)]\n",
    "\n",
    "# Reset index to make 'Year', 'Name of the Political Party', and 'Party_Acronym' columns accessible for plotting\n",
    "top_5_party_denomination = top_5_party_denomination.reset_index()\n",
    "top_5_party_denomination"
   ]
  },
  {
   "cell_type": "markdown",
   "id": "568eb7d2",
   "metadata": {},
   "source": [
    "## Top 5 Political Parties: Amount Received Each Year"
   ]
  },
  {
   "cell_type": "code",
   "execution_count": 58,
   "id": "297d0544",
   "metadata": {},
   "outputs": [
    {
     "data": {
      "text/plain": [
       "<Figure size 864x576 with 0 Axes>"
      ]
     },
     "metadata": {},
     "output_type": "display_data"
    },
    {
     "data": {
      "image/png": "[encoded data removed]",
      "text/plain": [
       "<Figure size 432x288 with 1 Axes>"
      ]
     },
     "metadata": {
      "needs_background": "light"
     },
     "output_type": "display_data"
    }
   ],
   "source": [
    "# Pivot the data to have 'Year' as the index, 'Name of the Political Party' as the columns, and 'Denomination(Crore)' as the values\n",
    "pivot_table = top_5_party_denomination.pivot(index='Year', columns='Party_Acronym', values='Denomination(Crore)')\n",
    "\n",
    "# Define colors for each party\n",
    "party_colors = {\n",
    "    'BJP': 'orange',\n",
    "    'BRS': '#fa69e9',\n",
    "    'AITC': '#1c45e8',\n",
    "    'PAICC': '#6ebcf0',\n",
    "    'BJD': '#06c24b'\n",
    "}\n",
    "\n",
    "# Create a stacked bar plot for the amount received by the top 5 parties each year\n",
    "plt.figure(figsize=(12, 8))\n",
    "pivot_table.plot(kind='bar', stacked=True, color=[party_colors[col] for col in pivot_table.columns])\n",
    "plt.xlabel('Year')\n",
    "plt.ylabel('Total Amount Received (Crore)')\n",
    "plt.title('Top 5 Political Parties: Amount Received Each Year')\n",
    "plt.legend(title='Political Party', bbox_to_anchor=(1, 1), loc='upper left')\n",
    "plt.xticks(rotation=45)\n",
    "\n",
    "plt.tight_layout()\n",
    "plt.show()"
   ]
  },
  {
   "cell_type": "code",
   "execution_count": 59,
   "id": "7f5bf203",
   "metadata": {},
   "outputs": [
    {
     "data": {
      "image/png": "[encoded data removed]",
      "text/plain": [
       "<Figure size 864x576 with 1 Axes>"
      ]
     },
     "metadata": {
      "needs_background": "light"
     },
     "output_type": "display_data"
    }
   ],
   "source": [
    "# Define colors for each party\n",
    "party_colors = {\n",
    "    'BJP': 'orange',\n",
    "    'BRS': '#fa69e9',\n",
    "    'AITC': '#1c45e8',\n",
    "    'PAICC': '#6ebcf0',\n",
    "    'BJD': '#06c24b'\n",
    "}\n",
    "\n",
    "# Create a grouped bar plot for the amount received by the top 5 parties each year\n",
    "plt.figure(figsize=(12, 8))\n",
    "sns.barplot(x='Year', y='Denomination(Crore)', hue='Party_Acronym', data=top_5_party_denomination, palette=party_colors, dodge=0.5)\n",
    "plt.xlabel('Year')\n",
    "plt.ylabel('Total Amount Received (Crore)')\n",
    "plt.title('Top 5 Political Parties: Amount Received Each Year')\n",
    "plt.legend(title='Political Party', bbox_to_anchor=(1, 1), loc='upper left')\n",
    "plt.xticks(rotation=45)\n",
    "\n",
    "# Add value labels on the bars\n",
    "for p in plt.gca().patches:\n",
    "    height = p.get_height()\n",
    "    if np.isfinite(height):  # Check if height is a finite number\n",
    "        plt.gca().text(p.get_x() + p.get_width()/2, height + 0.05, f'{height:.2f}', ha='center', va='bottom', fontsize=10)\n",
    "\n",
    "plt.tight_layout()"
   ]
  },
  {
   "cell_type": "code",
   "execution_count": null,
   "id": "ec6f39dc",
   "metadata": {},
   "outputs": [],
   "source": []
  }
 ],
 "metadata": {
  "kernelspec": {
   "display_name": "Python 3 (ipykernel)",
   "language": "python",
   "name": "python3"
  },
  "language_info": {
   "codemirror_mode": {
    "name": "ipython",
    "version": 3
   },
   "file_extension": ".py",
   "mimetype": "text/x-python",
   "name": "python",
   "nbconvert_exporter": "python",
   "pygments_lexer": "ipython3",
   "version": "3.9.12"
  }
 },
 "nbformat": 4,
 "nbformat_minor": 5
}
