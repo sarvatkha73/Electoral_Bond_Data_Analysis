{
 "cells": [
  {
   "cell_type": "code",
   "execution_count": null,
   "id": "cbeeb99f",
   "metadata": {},
   "outputs": [],
   "source": []
  },
  {
   "cell_type": "markdown",
   "id": "c38853fd",
   "metadata": {},
   "source": [
    "# Analysis of Electoral Bond Purchases\n",
    "\n",
    "\"Analysis of Electoral Bond Purchases\" provides insights into the distribution and trends of electoral bond purchases over a specified period. The analysis examines the total denomination amount, the top purchasers, and the yearly investment patterns, offering valuable information for understanding the financial aspects of electoral funding."
   ]
  },
  {
   "cell_type": "code",
   "execution_count": 1,
   "id": "fcc76f2a",
   "metadata": {},
   "outputs": [],
   "source": [
    "import pandas as pd \n",
    "import matplotlib.pyplot as plt\n",
    "import seaborn as sns"
   ]
  },
  {
   "cell_type": "markdown",
   "id": "eec1a080",
   "metadata": {},
   "source": [
    "### Importing DataSet"
   ]
  },
  {
   "cell_type": "code",
   "execution_count": 25,
   "id": "9ee5e698",
   "metadata": {},
   "outputs": [],
   "source": [
    "df = pd.read_csv(r\"C:\\Users\\sarwat\\Electoral_Bond\\Electoral_Bond_Purchasers.csv\")"
   ]
  },
  {
   "cell_type": "code",
   "execution_count": 26,
   "id": "60c77a0c",
   "metadata": {},
   "outputs": [
    {
     "data": {
      "text/html": [
       "<div>\n",
       "<style scoped>\n",
       "    .dataframe tbody tr th:only-of-type {\n",
       "        vertical-align: middle;\n",
       "    }\n",
       "\n",
       "    .dataframe tbody tr th {\n",
       "        vertical-align: top;\n",
       "    }\n",
       "\n",
       "    .dataframe thead th {\n",
       "        text-align: right;\n",
       "    }\n",
       "</style>\n",
       "<table border=\"1\" class=\"dataframe\">\n",
       "  <thead>\n",
       "    <tr style=\"text-align: right;\">\n",
       "      <th></th>\n",
       "      <th>Date of Purchase</th>\n",
       "      <th>Purchaser Name</th>\n",
       "      <th>Denomination</th>\n",
       "      <th>Unnamed: 3</th>\n",
       "    </tr>\n",
       "  </thead>\n",
       "  <tbody>\n",
       "    <tr>\n",
       "      <th>0</th>\n",
       "      <td>12/Apr/2019</td>\n",
       "      <td>A B C INDIA LIMITED</td>\n",
       "      <td>100000</td>\n",
       "      <td>NaN</td>\n",
       "    </tr>\n",
       "    <tr>\n",
       "      <th>1</th>\n",
       "      <td>12/Apr/2019</td>\n",
       "      <td>A B C INDIA LIMITED</td>\n",
       "      <td>100000</td>\n",
       "      <td>NaN</td>\n",
       "    </tr>\n",
       "    <tr>\n",
       "      <th>2</th>\n",
       "      <td>12/Apr/2019</td>\n",
       "      <td>A B C INDIA LIMITED</td>\n",
       "      <td>1000000</td>\n",
       "      <td>NaN</td>\n",
       "    </tr>\n",
       "    <tr>\n",
       "      <th>3</th>\n",
       "      <td>12/Apr/2019</td>\n",
       "      <td>A B C INDIA LIMITED</td>\n",
       "      <td>1000000</td>\n",
       "      <td>NaN</td>\n",
       "    </tr>\n",
       "    <tr>\n",
       "      <th>4</th>\n",
       "      <td>12/Apr/2019</td>\n",
       "      <td>A B C INDIA LIMITED</td>\n",
       "      <td>100000</td>\n",
       "      <td>NaN</td>\n",
       "    </tr>\n",
       "  </tbody>\n",
       "</table>\n",
       "</div>"
      ],
      "text/plain": [
       "  Date of Purchase       Purchaser Name  Denomination  Unnamed: 3\n",
       "0      12/Apr/2019  A B C INDIA LIMITED        100000         NaN\n",
       "1      12/Apr/2019  A B C INDIA LIMITED        100000         NaN\n",
       "2      12/Apr/2019  A B C INDIA LIMITED       1000000         NaN\n",
       "3      12/Apr/2019  A B C INDIA LIMITED       1000000         NaN\n",
       "4      12/Apr/2019  A B C INDIA LIMITED        100000         NaN"
      ]
     },
     "execution_count": 26,
     "metadata": {},
     "output_type": "execute_result"
    }
   ],
   "source": [
    "df.head()"
   ]
  },
  {
   "cell_type": "markdown",
   "id": "0522ef22",
   "metadata": {},
   "source": [
    "### Droping Unwanted Column"
   ]
  },
  {
   "cell_type": "code",
   "execution_count": 27,
   "id": "a1a57db8",
   "metadata": {},
   "outputs": [
    {
     "data": {
      "text/html": [
       "<div>\n",
       "<style scoped>\n",
       "    .dataframe tbody tr th:only-of-type {\n",
       "        vertical-align: middle;\n",
       "    }\n",
       "\n",
       "    .dataframe tbody tr th {\n",
       "        vertical-align: top;\n",
       "    }\n",
       "\n",
       "    .dataframe thead th {\n",
       "        text-align: right;\n",
       "    }\n",
       "</style>\n",
       "<table border=\"1\" class=\"dataframe\">\n",
       "  <thead>\n",
       "    <tr style=\"text-align: right;\">\n",
       "      <th></th>\n",
       "      <th>Date of Purchase</th>\n",
       "      <th>Purchaser Name</th>\n",
       "      <th>Denomination</th>\n",
       "    </tr>\n",
       "  </thead>\n",
       "  <tbody>\n",
       "    <tr>\n",
       "      <th>0</th>\n",
       "      <td>12/Apr/2019</td>\n",
       "      <td>A B C INDIA LIMITED</td>\n",
       "      <td>100000</td>\n",
       "    </tr>\n",
       "    <tr>\n",
       "      <th>1</th>\n",
       "      <td>12/Apr/2019</td>\n",
       "      <td>A B C INDIA LIMITED</td>\n",
       "      <td>100000</td>\n",
       "    </tr>\n",
       "    <tr>\n",
       "      <th>2</th>\n",
       "      <td>12/Apr/2019</td>\n",
       "      <td>A B C INDIA LIMITED</td>\n",
       "      <td>1000000</td>\n",
       "    </tr>\n",
       "    <tr>\n",
       "      <th>3</th>\n",
       "      <td>12/Apr/2019</td>\n",
       "      <td>A B C INDIA LIMITED</td>\n",
       "      <td>1000000</td>\n",
       "    </tr>\n",
       "    <tr>\n",
       "      <th>4</th>\n",
       "      <td>12/Apr/2019</td>\n",
       "      <td>A B C INDIA LIMITED</td>\n",
       "      <td>100000</td>\n",
       "    </tr>\n",
       "  </tbody>\n",
       "</table>\n",
       "</div>"
      ],
      "text/plain": [
       "  Date of Purchase       Purchaser Name  Denomination\n",
       "0      12/Apr/2019  A B C INDIA LIMITED        100000\n",
       "1      12/Apr/2019  A B C INDIA LIMITED        100000\n",
       "2      12/Apr/2019  A B C INDIA LIMITED       1000000\n",
       "3      12/Apr/2019  A B C INDIA LIMITED       1000000\n",
       "4      12/Apr/2019  A B C INDIA LIMITED        100000"
      ]
     },
     "execution_count": 27,
     "metadata": {},
     "output_type": "execute_result"
    }
   ],
   "source": [
    "# Drop the column named 'Unnamed: 3'\n",
    "df = df.drop(columns=['Unnamed: 3'])\n",
    "\n",
    "# Display the first few rows of the DataFrame to verify the column has been dropped\n",
    "df.head()"
   ]
  },
  {
   "cell_type": "markdown",
   "id": "ac37ef59",
   "metadata": {},
   "source": [
    "### Understand the structure and content of dataset"
   ]
  },
  {
   "cell_type": "code",
   "execution_count": 28,
   "id": "1943eb93",
   "metadata": {},
   "outputs": [
    {
     "name": "stdout",
     "output_type": "stream",
     "text": [
      "(18871, 3)\n"
     ]
    }
   ],
   "source": [
    "# Check the shape of the DataFrame (number of rows and columns)\n",
    "print(df.shape)"
   ]
  },
  {
   "cell_type": "code",
   "execution_count": 29,
   "id": "c52b70fd",
   "metadata": {
    "scrolled": true
   },
   "outputs": [
    {
     "name": "stdout",
     "output_type": "stream",
     "text": [
      "Date of Purchase    object\n",
      "Purchaser Name      object\n",
      "Denomination         int64\n",
      "dtype: object\n"
     ]
    }
   ],
   "source": [
    "# Check the data types of each column\n",
    "print(df.dtypes)"
   ]
  },
  {
   "cell_type": "code",
   "execution_count": 30,
   "id": "c85b3217",
   "metadata": {
    "scrolled": true
   },
   "outputs": [
    {
     "name": "stdout",
     "output_type": "stream",
     "text": [
      "Date of Purchase    0\n",
      "Purchaser Name      0\n",
      "Denomination        0\n",
      "dtype: int64\n"
     ]
    }
   ],
   "source": [
    "# Check for missing values\n",
    "print(df.isnull().sum())"
   ]
  },
  {
   "cell_type": "code",
   "execution_count": 31,
   "id": "ff5f828c",
   "metadata": {},
   "outputs": [
    {
     "data": {
      "text/html": [
       "<div>\n",
       "<style scoped>\n",
       "    .dataframe tbody tr th:only-of-type {\n",
       "        vertical-align: middle;\n",
       "    }\n",
       "\n",
       "    .dataframe tbody tr th {\n",
       "        vertical-align: top;\n",
       "    }\n",
       "\n",
       "    .dataframe thead th {\n",
       "        text-align: right;\n",
       "    }\n",
       "</style>\n",
       "<table border=\"1\" class=\"dataframe\">\n",
       "  <thead>\n",
       "    <tr style=\"text-align: right;\">\n",
       "      <th></th>\n",
       "      <th>Denomination</th>\n",
       "    </tr>\n",
       "  </thead>\n",
       "  <tbody>\n",
       "    <tr>\n",
       "      <th>count</th>\n",
       "      <td>1.887100e+04</td>\n",
       "    </tr>\n",
       "    <tr>\n",
       "      <th>mean</th>\n",
       "      <td>6.441372e+06</td>\n",
       "    </tr>\n",
       "    <tr>\n",
       "      <th>std</th>\n",
       "      <td>4.538947e+06</td>\n",
       "    </tr>\n",
       "    <tr>\n",
       "      <th>min</th>\n",
       "      <td>1.000000e+03</td>\n",
       "    </tr>\n",
       "    <tr>\n",
       "      <th>25%</th>\n",
       "      <td>1.000000e+06</td>\n",
       "    </tr>\n",
       "    <tr>\n",
       "      <th>50%</th>\n",
       "      <td>1.000000e+07</td>\n",
       "    </tr>\n",
       "    <tr>\n",
       "      <th>75%</th>\n",
       "      <td>1.000000e+07</td>\n",
       "    </tr>\n",
       "    <tr>\n",
       "      <th>max</th>\n",
       "      <td>1.000000e+07</td>\n",
       "    </tr>\n",
       "  </tbody>\n",
       "</table>\n",
       "</div>"
      ],
      "text/plain": [
       "       Denomination\n",
       "count  1.887100e+04\n",
       "mean   6.441372e+06\n",
       "std    4.538947e+06\n",
       "min    1.000000e+03\n",
       "25%    1.000000e+06\n",
       "50%    1.000000e+07\n",
       "75%    1.000000e+07\n",
       "max    1.000000e+07"
      ]
     },
     "execution_count": 31,
     "metadata": {},
     "output_type": "execute_result"
    }
   ],
   "source": [
    "\n",
    "# Get summary statistics\n",
    "df.describe()\n",
    "\n",
    "# # Convert DataFrame to string and print\n",
    "# print(\"Summary Statistics:\")\n",
    "# print(summary_stats.to_string())"
   ]
  },
  {
   "cell_type": "markdown",
   "id": "630efd20",
   "metadata": {},
   "source": [
    "###  Converting into date and Extracting year \n"
   ]
  },
  {
   "cell_type": "code",
   "execution_count": 32,
   "id": "e8a8f6e7",
   "metadata": {},
   "outputs": [
    {
     "data": {
      "text/html": [
       "<div>\n",
       "<style scoped>\n",
       "    .dataframe tbody tr th:only-of-type {\n",
       "        vertical-align: middle;\n",
       "    }\n",
       "\n",
       "    .dataframe tbody tr th {\n",
       "        vertical-align: top;\n",
       "    }\n",
       "\n",
       "    .dataframe thead th {\n",
       "        text-align: right;\n",
       "    }\n",
       "</style>\n",
       "<table border=\"1\" class=\"dataframe\">\n",
       "  <thead>\n",
       "    <tr style=\"text-align: right;\">\n",
       "      <th></th>\n",
       "      <th>Date of Purchase</th>\n",
       "      <th>Year</th>\n",
       "    </tr>\n",
       "  </thead>\n",
       "  <tbody>\n",
       "    <tr>\n",
       "      <th>0</th>\n",
       "      <td>2019-04-12</td>\n",
       "      <td>2019</td>\n",
       "    </tr>\n",
       "    <tr>\n",
       "      <th>1</th>\n",
       "      <td>2019-04-12</td>\n",
       "      <td>2019</td>\n",
       "    </tr>\n",
       "    <tr>\n",
       "      <th>2</th>\n",
       "      <td>2019-04-12</td>\n",
       "      <td>2019</td>\n",
       "    </tr>\n",
       "    <tr>\n",
       "      <th>3</th>\n",
       "      <td>2019-04-12</td>\n",
       "      <td>2019</td>\n",
       "    </tr>\n",
       "    <tr>\n",
       "      <th>4</th>\n",
       "      <td>2019-04-12</td>\n",
       "      <td>2019</td>\n",
       "    </tr>\n",
       "  </tbody>\n",
       "</table>\n",
       "</div>"
      ],
      "text/plain": [
       "  Date of Purchase  Year\n",
       "0       2019-04-12  2019\n",
       "1       2019-04-12  2019\n",
       "2       2019-04-12  2019\n",
       "3       2019-04-12  2019\n",
       "4       2019-04-12  2019"
      ]
     },
     "execution_count": 32,
     "metadata": {},
     "output_type": "execute_result"
    }
   ],
   "source": [
    "# Convert 'Date of Purchase' column to datetime format\n",
    "df['Date of Purchase'] = pd.to_datetime(df['Date of Purchase'])\n",
    "\n",
    "# Extract year from 'Date of Purchase' column\n",
    "df['Year'] = df['Date of Purchase'].dt.year\n",
    "\n",
    "# Display the first few rows of the DataFrame with the new 'Year' column\n",
    "df[['Date of Purchase', 'Year']].head()\n",
    "\n"
   ]
  },
  {
   "cell_type": "code",
   "execution_count": 33,
   "id": "28fb7b51",
   "metadata": {},
   "outputs": [],
   "source": [
    "# Add a new column for 'Denomination (Crore)'\n",
    "df['Denomination(Crore)'] = df['Denomination'] / 10000000"
   ]
  },
  {
   "cell_type": "code",
   "execution_count": 34,
   "id": "a925a8eb",
   "metadata": {},
   "outputs": [
    {
     "data": {
      "text/html": [
       "<div>\n",
       "<style scoped>\n",
       "    .dataframe tbody tr th:only-of-type {\n",
       "        vertical-align: middle;\n",
       "    }\n",
       "\n",
       "    .dataframe tbody tr th {\n",
       "        vertical-align: top;\n",
       "    }\n",
       "\n",
       "    .dataframe thead th {\n",
       "        text-align: right;\n",
       "    }\n",
       "</style>\n",
       "<table border=\"1\" class=\"dataframe\">\n",
       "  <thead>\n",
       "    <tr style=\"text-align: right;\">\n",
       "      <th></th>\n",
       "      <th>Date of Purchase</th>\n",
       "      <th>Purchaser Name</th>\n",
       "      <th>Denomination</th>\n",
       "      <th>Year</th>\n",
       "      <th>Denomination(Crore)</th>\n",
       "    </tr>\n",
       "  </thead>\n",
       "  <tbody>\n",
       "    <tr>\n",
       "      <th>0</th>\n",
       "      <td>2019-04-12</td>\n",
       "      <td>A B C INDIA LIMITED</td>\n",
       "      <td>100000</td>\n",
       "      <td>2019</td>\n",
       "      <td>0.01</td>\n",
       "    </tr>\n",
       "    <tr>\n",
       "      <th>1</th>\n",
       "      <td>2019-04-12</td>\n",
       "      <td>A B C INDIA LIMITED</td>\n",
       "      <td>100000</td>\n",
       "      <td>2019</td>\n",
       "      <td>0.01</td>\n",
       "    </tr>\n",
       "    <tr>\n",
       "      <th>2</th>\n",
       "      <td>2019-04-12</td>\n",
       "      <td>A B C INDIA LIMITED</td>\n",
       "      <td>1000000</td>\n",
       "      <td>2019</td>\n",
       "      <td>0.10</td>\n",
       "    </tr>\n",
       "    <tr>\n",
       "      <th>3</th>\n",
       "      <td>2019-04-12</td>\n",
       "      <td>A B C INDIA LIMITED</td>\n",
       "      <td>1000000</td>\n",
       "      <td>2019</td>\n",
       "      <td>0.10</td>\n",
       "    </tr>\n",
       "    <tr>\n",
       "      <th>4</th>\n",
       "      <td>2019-04-12</td>\n",
       "      <td>A B C INDIA LIMITED</td>\n",
       "      <td>100000</td>\n",
       "      <td>2019</td>\n",
       "      <td>0.01</td>\n",
       "    </tr>\n",
       "    <tr>\n",
       "      <th>...</th>\n",
       "      <td>...</td>\n",
       "      <td>...</td>\n",
       "      <td>...</td>\n",
       "      <td>...</td>\n",
       "      <td>...</td>\n",
       "    </tr>\n",
       "    <tr>\n",
       "      <th>18866</th>\n",
       "      <td>2024-01-11</td>\n",
       "      <td>WESTWELL GASES PRIVATE LIMITED</td>\n",
       "      <td>10000000</td>\n",
       "      <td>2024</td>\n",
       "      <td>1.00</td>\n",
       "    </tr>\n",
       "    <tr>\n",
       "      <th>18867</th>\n",
       "      <td>2024-01-11</td>\n",
       "      <td>WESTWELL GASES PRIVATE LIMITED</td>\n",
       "      <td>10000000</td>\n",
       "      <td>2024</td>\n",
       "      <td>1.00</td>\n",
       "    </tr>\n",
       "    <tr>\n",
       "      <th>18868</th>\n",
       "      <td>2024-01-11</td>\n",
       "      <td>WESTWELL GASES PRIVATE LIMITED</td>\n",
       "      <td>10000000</td>\n",
       "      <td>2024</td>\n",
       "      <td>1.00</td>\n",
       "    </tr>\n",
       "    <tr>\n",
       "      <th>18869</th>\n",
       "      <td>2024-01-11</td>\n",
       "      <td>WESTWELL GASES PRIVATE LIMITED</td>\n",
       "      <td>10000000</td>\n",
       "      <td>2024</td>\n",
       "      <td>1.00</td>\n",
       "    </tr>\n",
       "    <tr>\n",
       "      <th>18870</th>\n",
       "      <td>2024-01-11</td>\n",
       "      <td>WESTWELL GASES PRIVATE LIMITED</td>\n",
       "      <td>10000000</td>\n",
       "      <td>2024</td>\n",
       "      <td>1.00</td>\n",
       "    </tr>\n",
       "  </tbody>\n",
       "</table>\n",
       "<p>18871 rows × 5 columns</p>\n",
       "</div>"
      ],
      "text/plain": [
       "      Date of Purchase                  Purchaser Name  Denomination  Year  \\\n",
       "0           2019-04-12             A B C INDIA LIMITED        100000  2019   \n",
       "1           2019-04-12             A B C INDIA LIMITED        100000  2019   \n",
       "2           2019-04-12             A B C INDIA LIMITED       1000000  2019   \n",
       "3           2019-04-12             A B C INDIA LIMITED       1000000  2019   \n",
       "4           2019-04-12             A B C INDIA LIMITED        100000  2019   \n",
       "...                ...                             ...           ...   ...   \n",
       "18866       2024-01-11  WESTWELL GASES PRIVATE LIMITED      10000000  2024   \n",
       "18867       2024-01-11  WESTWELL GASES PRIVATE LIMITED      10000000  2024   \n",
       "18868       2024-01-11  WESTWELL GASES PRIVATE LIMITED      10000000  2024   \n",
       "18869       2024-01-11  WESTWELL GASES PRIVATE LIMITED      10000000  2024   \n",
       "18870       2024-01-11  WESTWELL GASES PRIVATE LIMITED      10000000  2024   \n",
       "\n",
       "       Denomination(Crore)  \n",
       "0                     0.01  \n",
       "1                     0.01  \n",
       "2                     0.10  \n",
       "3                     0.10  \n",
       "4                     0.01  \n",
       "...                    ...  \n",
       "18866                 1.00  \n",
       "18867                 1.00  \n",
       "18868                 1.00  \n",
       "18869                 1.00  \n",
       "18870                 1.00  \n",
       "\n",
       "[18871 rows x 5 columns]"
      ]
     },
     "execution_count": 34,
     "metadata": {},
     "output_type": "execute_result"
    }
   ],
   "source": [
    "df"
   ]
  },
  {
   "cell_type": "code",
   "execution_count": 42,
   "id": "7ad80693",
   "metadata": {},
   "outputs": [
    {
     "name": "stdout",
     "output_type": "stream",
     "text": [
      "12155.5132\n"
     ]
    }
   ],
   "source": [
    "total_amount = df['Denomination(Crore)'].sum()\n",
    "print(total_amount)"
   ]
  },
  {
   "cell_type": "markdown",
   "id": "809faac6",
   "metadata": {},
   "source": [
    "### Group by 'Purchaser Name' , and calculate the total 'Denomination' for each group\n"
   ]
  },
  {
   "cell_type": "code",
   "execution_count": 48,
   "id": "21ca0bcb",
   "metadata": {
    "scrolled": false
   },
   "outputs": [
    {
     "data": {
      "text/html": [
       "<div>\n",
       "<style scoped>\n",
       "    .dataframe tbody tr th:only-of-type {\n",
       "        vertical-align: middle;\n",
       "    }\n",
       "\n",
       "    .dataframe tbody tr th {\n",
       "        vertical-align: top;\n",
       "    }\n",
       "\n",
       "    .dataframe thead th {\n",
       "        text-align: right;\n",
       "    }\n",
       "</style>\n",
       "<table border=\"1\" class=\"dataframe\">\n",
       "  <thead>\n",
       "    <tr style=\"text-align: right;\">\n",
       "      <th></th>\n",
       "      <th>Purchaser Name</th>\n",
       "      <th>Denomination</th>\n",
       "      <th>Denomination(Crore)</th>\n",
       "    </tr>\n",
       "  </thead>\n",
       "  <tbody>\n",
       "    <tr>\n",
       "      <th>0</th>\n",
       "      <td>14 REELS PLUS LLP</td>\n",
       "      <td>10000000</td>\n",
       "      <td>1.0</td>\n",
       "    </tr>\n",
       "    <tr>\n",
       "      <th>1</th>\n",
       "      <td>A B C INDIA LIMITED</td>\n",
       "      <td>4000000</td>\n",
       "      <td>0.4</td>\n",
       "    </tr>\n",
       "    <tr>\n",
       "      <th>2</th>\n",
       "      <td>AAKANKSHA BAHETY</td>\n",
       "      <td>1000000</td>\n",
       "      <td>0.1</td>\n",
       "    </tr>\n",
       "    <tr>\n",
       "      <th>3</th>\n",
       "      <td>AALAYA CONSTRUCTIONS</td>\n",
       "      <td>10000000</td>\n",
       "      <td>1.0</td>\n",
       "    </tr>\n",
       "    <tr>\n",
       "      <th>4</th>\n",
       "      <td>AARISH SOLAR POWER PRIVATE LIMITED</td>\n",
       "      <td>20000000</td>\n",
       "      <td>2.0</td>\n",
       "    </tr>\n",
       "  </tbody>\n",
       "</table>\n",
       "</div>"
      ],
      "text/plain": [
       "                       Purchaser Name  Denomination  Denomination(Crore)\n",
       "0                   14 REELS PLUS LLP      10000000                  1.0\n",
       "1                 A B C INDIA LIMITED       4000000                  0.4\n",
       "2                    AAKANKSHA BAHETY       1000000                  0.1\n",
       "3                AALAYA CONSTRUCTIONS      10000000                  1.0\n",
       "4  AARISH SOLAR POWER PRIVATE LIMITED      20000000                  2.0"
      ]
     },
     "execution_count": 48,
     "metadata": {},
     "output_type": "execute_result"
    }
   ],
   "source": [
    "# Group by 'Purchaser Name' and sum the 'Denomination' column\n",
    "grouped_data = df.groupby(['Purchaser Name'])['Denomination'].sum().reset_index()\n",
    "# Display the updated grouped data\n",
    "grouped_data['Denomination(Crore)'] = grouped_data['Denomination'] / 10000000\n",
    "grouped_data.head()\n",
    "\n"
   ]
  },
  {
   "cell_type": "markdown",
   "id": "6d8ff4d4",
   "metadata": {},
   "source": [
    "## Top 20 Purchasers"
   ]
  },
  {
   "cell_type": "code",
   "execution_count": 49,
   "id": "283018eb",
   "metadata": {},
   "outputs": [
    {
     "name": "stdout",
     "output_type": "stream",
     "text": [
      "Top 20 Purchasers:\n"
     ]
    },
    {
     "data": {
      "text/html": [
       "<div>\n",
       "<style scoped>\n",
       "    .dataframe tbody tr th:only-of-type {\n",
       "        vertical-align: middle;\n",
       "    }\n",
       "\n",
       "    .dataframe tbody tr th {\n",
       "        vertical-align: top;\n",
       "    }\n",
       "\n",
       "    .dataframe thead th {\n",
       "        text-align: right;\n",
       "    }\n",
       "</style>\n",
       "<table border=\"1\" class=\"dataframe\">\n",
       "  <thead>\n",
       "    <tr style=\"text-align: right;\">\n",
       "      <th></th>\n",
       "      <th>Purchaser Name</th>\n",
       "      <th>Denomination</th>\n",
       "      <th>Denomination(Crore)</th>\n",
       "    </tr>\n",
       "  </thead>\n",
       "  <tbody>\n",
       "    <tr>\n",
       "      <th>354</th>\n",
       "      <td>FUTURE GAMING AND HOTEL SERVICES PR</td>\n",
       "      <td>12080000000</td>\n",
       "      <td>1208.00</td>\n",
       "    </tr>\n",
       "    <tr>\n",
       "      <th>652</th>\n",
       "      <td>MEGHA ENGINEERING AND INFRASTRUCTURES LI MITED</td>\n",
       "      <td>8210000000</td>\n",
       "      <td>821.00</td>\n",
       "    </tr>\n",
       "    <tr>\n",
       "      <th>866</th>\n",
       "      <td>QWIKSUPPLYCHAINPRIVATELIMITED</td>\n",
       "      <td>4100000000</td>\n",
       "      <td>410.00</td>\n",
       "    </tr>\n",
       "    <tr>\n",
       "      <th>417</th>\n",
       "      <td>HALDIA ENERGY LIMITED</td>\n",
       "      <td>3770000000</td>\n",
       "      <td>377.00</td>\n",
       "    </tr>\n",
       "    <tr>\n",
       "      <th>1248</th>\n",
       "      <td>VEDANTA LIMITED</td>\n",
       "      <td>3756500000</td>\n",
       "      <td>375.65</td>\n",
       "    </tr>\n",
       "    <tr>\n",
       "      <th>334</th>\n",
       "      <td>ESSEL MINING AND INDS LTD</td>\n",
       "      <td>2245000000</td>\n",
       "      <td>224.50</td>\n",
       "    </tr>\n",
       "    <tr>\n",
       "      <th>1299</th>\n",
       "      <td>WESTERN UP POWER TRANSMISSION COMPANY LI MITED</td>\n",
       "      <td>2200000000</td>\n",
       "      <td>220.00</td>\n",
       "    </tr>\n",
       "    <tr>\n",
       "      <th>556</th>\n",
       "      <td>KEVENTER FOODPARK INFRA LIMITED</td>\n",
       "      <td>1950000000</td>\n",
       "      <td>195.00</td>\n",
       "    </tr>\n",
       "    <tr>\n",
       "      <th>619</th>\n",
       "      <td>MADANLAL LTD.</td>\n",
       "      <td>1855000000</td>\n",
       "      <td>185.50</td>\n",
       "    </tr>\n",
       "    <tr>\n",
       "      <th>174</th>\n",
       "      <td>BHARTI AIRTEL LIMITED</td>\n",
       "      <td>1830000000</td>\n",
       "      <td>183.00</td>\n",
       "    </tr>\n",
       "    <tr>\n",
       "      <th>1306</th>\n",
       "      <td>YASHODA SUPER SPECIALITY HOSPITAL</td>\n",
       "      <td>1620000000</td>\n",
       "      <td>162.00</td>\n",
       "    </tr>\n",
       "    <tr>\n",
       "      <th>1221</th>\n",
       "      <td>UTKAL ALUMINA INTERNATIONAL LIMITED</td>\n",
       "      <td>1353000000</td>\n",
       "      <td>135.30</td>\n",
       "    </tr>\n",
       "    <tr>\n",
       "      <th>313</th>\n",
       "      <td>DLF COMMERCIAL DEVELOPERS LIMITED</td>\n",
       "      <td>1300000000</td>\n",
       "      <td>130.00</td>\n",
       "    </tr>\n",
       "    <tr>\n",
       "      <th>665</th>\n",
       "      <td>MKJ ENTERPRISES LIMITED</td>\n",
       "      <td>1283500000</td>\n",
       "      <td>128.35</td>\n",
       "    </tr>\n",
       "    <tr>\n",
       "      <th>516</th>\n",
       "      <td>JINDAL STEEL AND POWER LIMITED</td>\n",
       "      <td>1230000000</td>\n",
       "      <td>123.00</td>\n",
       "    </tr>\n",
       "    <tr>\n",
       "      <th>140</th>\n",
       "      <td>B G SHIRKE CONSTRUCTION TECHNOLOGY PVT L TD</td>\n",
       "      <td>1170000000</td>\n",
       "      <td>117.00</td>\n",
       "    </tr>\n",
       "    <tr>\n",
       "      <th>293</th>\n",
       "      <td>DHARIWAL INFRASTRUCTURE LIMITED</td>\n",
       "      <td>1150000000</td>\n",
       "      <td>115.00</td>\n",
       "    </tr>\n",
       "    <tr>\n",
       "      <th>236</th>\n",
       "      <td>CHENNAI GREEN WOODS PRIVATE LIMITED</td>\n",
       "      <td>1050000000</td>\n",
       "      <td>105.00</td>\n",
       "    </tr>\n",
       "    <tr>\n",
       "      <th>191</th>\n",
       "      <td>BIRLACARBONINDIAPRIVATELIMITED</td>\n",
       "      <td>1050000000</td>\n",
       "      <td>105.00</td>\n",
       "    </tr>\n",
       "    <tr>\n",
       "      <th>965</th>\n",
       "      <td>RUNGTA SONS P LTD</td>\n",
       "      <td>1000000000</td>\n",
       "      <td>100.00</td>\n",
       "    </tr>\n",
       "  </tbody>\n",
       "</table>\n",
       "</div>"
      ],
      "text/plain": [
       "                                      Purchaser Name  Denomination  \\\n",
       "354              FUTURE GAMING AND HOTEL SERVICES PR   12080000000   \n",
       "652   MEGHA ENGINEERING AND INFRASTRUCTURES LI MITED    8210000000   \n",
       "866                    QWIKSUPPLYCHAINPRIVATELIMITED    4100000000   \n",
       "417                            HALDIA ENERGY LIMITED    3770000000   \n",
       "1248                                 VEDANTA LIMITED    3756500000   \n",
       "334                        ESSEL MINING AND INDS LTD    2245000000   \n",
       "1299  WESTERN UP POWER TRANSMISSION COMPANY LI MITED    2200000000   \n",
       "556                  KEVENTER FOODPARK INFRA LIMITED    1950000000   \n",
       "619                                    MADANLAL LTD.    1855000000   \n",
       "174                            BHARTI AIRTEL LIMITED    1830000000   \n",
       "1306               YASHODA SUPER SPECIALITY HOSPITAL    1620000000   \n",
       "1221             UTKAL ALUMINA INTERNATIONAL LIMITED    1353000000   \n",
       "313                DLF COMMERCIAL DEVELOPERS LIMITED    1300000000   \n",
       "665                          MKJ ENTERPRISES LIMITED    1283500000   \n",
       "516                   JINDAL STEEL AND POWER LIMITED    1230000000   \n",
       "140      B G SHIRKE CONSTRUCTION TECHNOLOGY PVT L TD    1170000000   \n",
       "293                  DHARIWAL INFRASTRUCTURE LIMITED    1150000000   \n",
       "236              CHENNAI GREEN WOODS PRIVATE LIMITED    1050000000   \n",
       "191                   BIRLACARBONINDIAPRIVATELIMITED    1050000000   \n",
       "965                                RUNGTA SONS P LTD    1000000000   \n",
       "\n",
       "      Denomination(Crore)  \n",
       "354               1208.00  \n",
       "652                821.00  \n",
       "866                410.00  \n",
       "417                377.00  \n",
       "1248               375.65  \n",
       "334                224.50  \n",
       "1299               220.00  \n",
       "556                195.00  \n",
       "619                185.50  \n",
       "174                183.00  \n",
       "1306               162.00  \n",
       "1221               135.30  \n",
       "313                130.00  \n",
       "665                128.35  \n",
       "516                123.00  \n",
       "140                117.00  \n",
       "293                115.00  \n",
       "236                105.00  \n",
       "191                105.00  \n",
       "965                100.00  "
      ]
     },
     "execution_count": 49,
     "metadata": {},
     "output_type": "execute_result"
    }
   ],
   "source": [
    "# Sort the grouped_data DataFrame by 'Denomination' in descending order\n",
    "grouped_data_sorted = grouped_data.sort_values(by='Denomination', ascending=False)\n",
    "\n",
    "# Get the top 20 purchasers\n",
    "top_20_purchasers = grouped_data_sorted.head(20)\n",
    "\n",
    "# Display the top 20 purchasers\n",
    "print(\"Top 20 Purchasers:\")\n",
    "top_20_purchasers"
   ]
  },
  {
   "cell_type": "markdown",
   "id": "a9ed3fdd",
   "metadata": {},
   "source": [
    "## Top 20 Purchasers by Total Denomination in Crore"
   ]
  },
  {
   "cell_type": "code",
   "execution_count": 50,
   "id": "f2b01be7",
   "metadata": {},
   "outputs": [
    {
     "data": {
      "image/png": "[encoded data removed]",
      "text/plain": [
       "<Figure size 864x720 with 1 Axes>"
      ]
     },
     "metadata": {
      "needs_background": "light"
     },
     "output_type": "display_data"
    }
   ],
   "source": [
    "# Create a bar plot \n",
    "# Create a horizontal bar plot using Seaborn\n",
    "plt.figure(figsize=(12, 10))\n",
    "sns.barplot(x='Denomination(Crore)', y='Purchaser Name', data=top_20_purchasers, palette='viridis')\n",
    "\n",
    "# Add values on the bars\n",
    "for index, value in enumerate(top_20_purchasers['Denomination(Crore)']):\n",
    "    plt.text(value, index, f'{value:.1f}', va='center')\n",
    "\n",
    "plt.xlabel('Total Denomination (Crore)')\n",
    "plt.ylabel('Purchaser Name')\n",
    "plt.title('Top 20 Purchasers by Total Denomination in Crore')\n",
    "plt.grid(axis='x', linestyle='--', alpha=0.6)\n",
    "plt.show()"
   ]
  },
  {
   "cell_type": "markdown",
   "id": "d9873f35",
   "metadata": {},
   "source": [
    "### Count the number of purchases for each purchaser\n"
   ]
  },
  {
   "cell_type": "code",
   "execution_count": 51,
   "id": "2510f054",
   "metadata": {},
   "outputs": [
    {
     "data": {
      "text/plain": [
       "FUTURE GAMING AND HOTEL SERVICES PR               1208\n",
       "MEGHA ENGINEERING AND INFRASTRUCTURES LI MITED     821\n",
       "QWIKSUPPLYCHAINPRIVATELIMITED                      410\n",
       "HALDIA ENERGY LIMITED                              395\n",
       "VEDANTA LIMITED                                    386\n",
       "                                                  ... \n",
       "MR. SAMEER BHATIA                                    1\n",
       "B.DAS AND ASSOCIATES PVT. LTD.                       1\n",
       "J B ENTERPRISE                                       1\n",
       "RAYALA SEEMA WIND ENERGY PVT LTD                     1\n",
       "GORUKANTI SURENDER RAO                               1\n",
       "Name: Purchaser Name, Length: 1316, dtype: int64"
      ]
     },
     "execution_count": 51,
     "metadata": {},
     "output_type": "execute_result"
    }
   ],
   "source": [
    "# Count the number of purchases for each purchaser\n",
    "purchase_counts = df['Purchaser Name'].value_counts()\n",
    "\n",
    "# Display the purchase counts\n",
    "purchase_counts"
   ]
  },
  {
   "cell_type": "code",
   "execution_count": 52,
   "id": "b605ef5b",
   "metadata": {},
   "outputs": [
    {
     "name": "stdout",
     "output_type": "stream",
     "text": [
      "                                   Purchaser Name  Purchase Count\n",
      "0             FUTURE GAMING AND HOTEL SERVICES PR            1208\n",
      "1  MEGHA ENGINEERING AND INFRASTRUCTURES LI MITED             821\n",
      "2                   QWIKSUPPLYCHAINPRIVATELIMITED             410\n",
      "3                           HALDIA ENERGY LIMITED             395\n",
      "4                                 VEDANTA LIMITED             386\n"
     ]
    }
   ],
   "source": [
    "# Convert the purchase counts to a DataFrame\n",
    "purchase_counts_df = purchase_counts.to_frame().reset_index()\n",
    "\n",
    "# Rename the columns\n",
    "purchase_counts_df.columns = ['Purchaser Name', 'Purchase Count']\n",
    "\n",
    "# Display the DataFrame\n",
    "print(purchase_counts_df.head())\n",
    "\n"
   ]
  },
  {
   "cell_type": "markdown",
   "id": "a80ba12a",
   "metadata": {},
   "source": [
    "## Top 20 Purchasers by Purchase Count"
   ]
  },
  {
   "cell_type": "code",
   "execution_count": 53,
   "id": "79e3b567",
   "metadata": {},
   "outputs": [
    {
     "name": "stdout",
     "output_type": "stream",
     "text": [
      "                                    Purchaser Name  Purchase Count\n",
      "0              FUTURE GAMING AND HOTEL SERVICES PR            1208\n",
      "1   MEGHA ENGINEERING AND INFRASTRUCTURES LI MITED             821\n",
      "2                    QWIKSUPPLYCHAINPRIVATELIMITED             410\n",
      "3                            HALDIA ENERGY LIMITED             395\n",
      "4                                  VEDANTA LIMITED             386\n",
      "5                        ESSEL MINING AND INDS LTD             238\n",
      "6                          MKJ ENTERPRISES LIMITED             235\n",
      "7                   TRANSWAYS EXIM PRIVATE LIMITED             226\n",
      "8   WESTERN UP POWER TRANSMISSION COMPANY LI MITED             220\n",
      "9                  KEVENTER FOODPARK INFRA LIMITED             204\n",
      "10                                   MADANLAL LTD.             199\n",
      "11                           BHARTI AIRTEL LIMITED             183\n",
      "12               V M SALGAOCAR CORPORATION PVT LTD             163\n",
      "13               YASHODA SUPER SPECIALITY HOSPITAL             162\n",
      "14             UTKAL ALUMINA INTERNATIONAL LIMITED             138\n",
      "15               DLF COMMERCIAL DEVELOPERS LIMITED             130\n",
      "16                  JINDAL STEEL AND POWER LIMITED             123\n",
      "17     B G SHIRKE CONSTRUCTION TECHNOLOGY PVT L TD             117\n",
      "18                 DHARIWAL INFRASTRUCTURE LIMITED             115\n",
      "19                               TORRENT POWER LTD             110\n"
     ]
    }
   ],
   "source": [
    "# Sort the purchase counts DataFrame by 'Purchase Count' in ascending order\n",
    "purchase_counts_df = purchase_counts_df.sort_values(by='Purchase Count', ascending=False)\n",
    "\n",
    "# Display the top 20 purchasers in ascending order\n",
    "top_purchasers = purchase_counts_df.head(20)\n",
    "print(top_purchasers)"
   ]
  },
  {
   "cell_type": "code",
   "execution_count": 54,
   "id": "5202f9a1",
   "metadata": {},
   "outputs": [
    {
     "data": {
      "image/png": "[encoded data removed]",
      "text/plain": [
       "<Figure size 864x576 with 1 Axes>"
      ]
     },
     "metadata": {
      "needs_background": "light"
     },
     "output_type": "display_data"
    }
   ],
   "source": [
    "# Create a horizontal bar plot using seaborn\n",
    "plt.figure(figsize=(12, 8))\n",
    "sns.barplot(x='Purchase Count', y='Purchaser Name', data=top_purchasers, palette='viridis')\n",
    "plt.xlabel('Purchase Count')\n",
    "plt.ylabel('Purchaser Name')\n",
    "plt.title('Top 20 Purchasers by Purchase Count')\n",
    "plt.show()\n",
    "\n"
   ]
  },
  {
   "cell_type": "code",
   "execution_count": 55,
   "id": "3ecadfad",
   "metadata": {},
   "outputs": [
    {
     "name": "stdout",
     "output_type": "stream",
     "text": [
      "   Year  Total Purchase  Total Purchase (Lakhs)  Total Purchase (Crore)\n",
      "0  2019     17661280000               176612.80                 1766.13\n",
      "1  2020      3639601000                36396.01                  363.96\n",
      "2  2021     15022927000               150229.27                 1502.29\n",
      "3  2022     37048576000               370485.76                 3704.86\n",
      "4  2023     42464745000               424647.45                 4246.47\n",
      "5  2024      5718003000                57180.03                  571.80\n"
     ]
    }
   ],
   "source": [
    "# Group by 'Year' and sum the 'Denomination' column\n",
    "investment_sum = df.groupby('Year')['Denomination'].sum().reset_index(name='Total Purchase')\n",
    "\n",
    "# Convert 'Total Investment' to lakhs\n",
    "investment_sum['Total Purchase (Lakhs)'] = investment_sum['Total Purchase'] / 100000\n",
    "\n",
    "# Convert 'Total Investment' to crores\n",
    "investment_sum['Total Purchase (Crore)'] = investment_sum['Total Purchase'] / 10000000\n",
    "\n",
    "\n",
    "investment_sum['Total Purchase (Crore)'] = investment_sum['Total Purchase (Crore)'].round(2)\n",
    "\n",
    "\n",
    "# Convert 'Total Investment' to millions\n",
    "# investment_sum['Total Investment (Millions)'] = investment_sum['Total Investment'] / 1000000\n",
    "\n",
    "\n",
    "\n",
    "# Display the converted data\n",
    "print(investment_sum)\n"
   ]
  },
  {
   "cell_type": "code",
   "execution_count": null,
   "id": "3a694d8a",
   "metadata": {},
   "outputs": [],
   "source": []
  },
  {
   "cell_type": "markdown",
   "id": "a4a568c4",
   "metadata": {},
   "source": [
    "## Total Purchase (Crore) by Year "
   ]
  },
  {
   "cell_type": "code",
   "execution_count": 56,
   "id": "9dbd42b4",
   "metadata": {},
   "outputs": [
    {
     "data": {
      "image/png": "[encoded data removed]",
      "text/plain": [
       "<Figure size 864x432 with 1 Axes>"
      ]
     },
     "metadata": {
      "needs_background": "light"
     },
     "output_type": "display_data"
    }
   ],
   "source": [
    "import seaborn as sns\n",
    "import matplotlib.pyplot as plt\n",
    "\n",
    "# Create the plot\n",
    "plt.figure(figsize=(12, 6))\n",
    "sns.barplot(x='Year', y='Total Purchase (Crore)', data=investment_sum, palette='viridis')\n",
    "\n",
    "# Add text labels for each bar\n",
    "for index, row in investment_sum.iterrows():\n",
    "    plt.text(index, row['Total Purchase (Crore)'] + 0.5, f'{row[\"Total Purchase (Crore)\"]:.1f}', \n",
    "             ha='center', va='bottom')\n",
    "\n",
    "plt.xlabel('Year')\n",
    "plt.ylabel('Total Purchase (Crore)')\n",
    "plt.title('Total Purchase (Crore) by Year')\n",
    "plt.xticks(rotation=45)\n",
    "plt.grid(axis='y', linestyle='--', alpha=0.6)\n",
    "plt.show()\n"
   ]
  },
  {
   "cell_type": "code",
   "execution_count": null,
   "id": "9ea74f61",
   "metadata": {},
   "outputs": [],
   "source": [
    "plt.figure(figsize=(12, 8))\n",
    "sns.lineplot(x='Year', y='Total Purchase (Crore)', data=investment_sum, marker='o', markersize=10, color='red')\n",
    "plt.xlabel('Year')\n",
    "plt.ylabel('Total Purchase (Crore)')\n",
    "plt.title('Total Purchase (Crore) by Year')\n",
    "plt.xticks(rotation=45)\n",
    "plt.grid(axis='y', linestyle='--', alpha=0.6)\n",
    "\n",
    "# Add values on the points\n",
    "for x, y in zip(investment_sum['Year'], investment_sum['Total Purchase (Crore)']):\n",
    "    plt.text(x, y, f'{y:.1f}', ha='center', va='bottom')\n",
    "\n",
    "plt.show()\n"
   ]
  },
  {
   "cell_type": "code",
   "execution_count": 57,
   "id": "2dabff74",
   "metadata": {},
   "outputs": [
    {
     "data": {
      "text/html": [
       "<div>\n",
       "<style scoped>\n",
       "    .dataframe tbody tr th:only-of-type {\n",
       "        vertical-align: middle;\n",
       "    }\n",
       "\n",
       "    .dataframe tbody tr th {\n",
       "        vertical-align: top;\n",
       "    }\n",
       "\n",
       "    .dataframe thead th {\n",
       "        text-align: right;\n",
       "    }\n",
       "</style>\n",
       "<table border=\"1\" class=\"dataframe\">\n",
       "  <thead>\n",
       "    <tr style=\"text-align: right;\">\n",
       "      <th></th>\n",
       "      <th>Date of Purchase</th>\n",
       "      <th>Purchaser Name</th>\n",
       "      <th>Denomination</th>\n",
       "      <th>Year</th>\n",
       "      <th>Denomination(Crore)</th>\n",
       "    </tr>\n",
       "  </thead>\n",
       "  <tbody>\n",
       "    <tr>\n",
       "      <th>0</th>\n",
       "      <td>2019-04-12</td>\n",
       "      <td>A B C INDIA LIMITED</td>\n",
       "      <td>100000</td>\n",
       "      <td>2019</td>\n",
       "      <td>0.01</td>\n",
       "    </tr>\n",
       "    <tr>\n",
       "      <th>1</th>\n",
       "      <td>2019-04-12</td>\n",
       "      <td>A B C INDIA LIMITED</td>\n",
       "      <td>100000</td>\n",
       "      <td>2019</td>\n",
       "      <td>0.01</td>\n",
       "    </tr>\n",
       "    <tr>\n",
       "      <th>2</th>\n",
       "      <td>2019-04-12</td>\n",
       "      <td>A B C INDIA LIMITED</td>\n",
       "      <td>1000000</td>\n",
       "      <td>2019</td>\n",
       "      <td>0.10</td>\n",
       "    </tr>\n",
       "    <tr>\n",
       "      <th>3</th>\n",
       "      <td>2019-04-12</td>\n",
       "      <td>A B C INDIA LIMITED</td>\n",
       "      <td>1000000</td>\n",
       "      <td>2019</td>\n",
       "      <td>0.10</td>\n",
       "    </tr>\n",
       "    <tr>\n",
       "      <th>4</th>\n",
       "      <td>2019-04-12</td>\n",
       "      <td>A B C INDIA LIMITED</td>\n",
       "      <td>100000</td>\n",
       "      <td>2019</td>\n",
       "      <td>0.01</td>\n",
       "    </tr>\n",
       "    <tr>\n",
       "      <th>...</th>\n",
       "      <td>...</td>\n",
       "      <td>...</td>\n",
       "      <td>...</td>\n",
       "      <td>...</td>\n",
       "      <td>...</td>\n",
       "    </tr>\n",
       "    <tr>\n",
       "      <th>18866</th>\n",
       "      <td>2024-01-11</td>\n",
       "      <td>WESTWELL GASES PRIVATE LIMITED</td>\n",
       "      <td>10000000</td>\n",
       "      <td>2024</td>\n",
       "      <td>1.00</td>\n",
       "    </tr>\n",
       "    <tr>\n",
       "      <th>18867</th>\n",
       "      <td>2024-01-11</td>\n",
       "      <td>WESTWELL GASES PRIVATE LIMITED</td>\n",
       "      <td>10000000</td>\n",
       "      <td>2024</td>\n",
       "      <td>1.00</td>\n",
       "    </tr>\n",
       "    <tr>\n",
       "      <th>18868</th>\n",
       "      <td>2024-01-11</td>\n",
       "      <td>WESTWELL GASES PRIVATE LIMITED</td>\n",
       "      <td>10000000</td>\n",
       "      <td>2024</td>\n",
       "      <td>1.00</td>\n",
       "    </tr>\n",
       "    <tr>\n",
       "      <th>18869</th>\n",
       "      <td>2024-01-11</td>\n",
       "      <td>WESTWELL GASES PRIVATE LIMITED</td>\n",
       "      <td>10000000</td>\n",
       "      <td>2024</td>\n",
       "      <td>1.00</td>\n",
       "    </tr>\n",
       "    <tr>\n",
       "      <th>18870</th>\n",
       "      <td>2024-01-11</td>\n",
       "      <td>WESTWELL GASES PRIVATE LIMITED</td>\n",
       "      <td>10000000</td>\n",
       "      <td>2024</td>\n",
       "      <td>1.00</td>\n",
       "    </tr>\n",
       "  </tbody>\n",
       "</table>\n",
       "<p>18871 rows × 5 columns</p>\n",
       "</div>"
      ],
      "text/plain": [
       "      Date of Purchase                  Purchaser Name  Denomination  Year  \\\n",
       "0           2019-04-12             A B C INDIA LIMITED        100000  2019   \n",
       "1           2019-04-12             A B C INDIA LIMITED        100000  2019   \n",
       "2           2019-04-12             A B C INDIA LIMITED       1000000  2019   \n",
       "3           2019-04-12             A B C INDIA LIMITED       1000000  2019   \n",
       "4           2019-04-12             A B C INDIA LIMITED        100000  2019   \n",
       "...                ...                             ...           ...   ...   \n",
       "18866       2024-01-11  WESTWELL GASES PRIVATE LIMITED      10000000  2024   \n",
       "18867       2024-01-11  WESTWELL GASES PRIVATE LIMITED      10000000  2024   \n",
       "18868       2024-01-11  WESTWELL GASES PRIVATE LIMITED      10000000  2024   \n",
       "18869       2024-01-11  WESTWELL GASES PRIVATE LIMITED      10000000  2024   \n",
       "18870       2024-01-11  WESTWELL GASES PRIVATE LIMITED      10000000  2024   \n",
       "\n",
       "       Denomination(Crore)  \n",
       "0                     0.01  \n",
       "1                     0.01  \n",
       "2                     0.10  \n",
       "3                     0.10  \n",
       "4                     0.01  \n",
       "...                    ...  \n",
       "18866                 1.00  \n",
       "18867                 1.00  \n",
       "18868                 1.00  \n",
       "18869                 1.00  \n",
       "18870                 1.00  \n",
       "\n",
       "[18871 rows x 5 columns]"
      ]
     },
     "execution_count": 57,
     "metadata": {},
     "output_type": "execute_result"
    }
   ],
   "source": [
    "df"
   ]
  },
  {
   "cell_type": "code",
   "execution_count": null,
   "id": "3935d5b6",
   "metadata": {},
   "outputs": [],
   "source": []
  }
 ],
 "metadata": {
  "kernelspec": {
   "display_name": "Python 3 (ipykernel)",
   "language": "python",
   "name": "python3"
  },
  "language_info": {
   "codemirror_mode": {
    "name": "ipython",
    "version": 3
   },
   "file_extension": ".py",
   "mimetype": "text/x-python",
   "name": "python",
   "nbconvert_exporter": "python",
   "pygments_lexer": "ipython3",
   "version": "3.9.12"
  }
 },
 "nbformat": 4,
 "nbformat_minor": 5
}
